{
 "cells": [
  {
   "cell_type": "markdown",
   "id": "5524bf13-dbbc-465e-8925-c72266fad134",
   "metadata": {
    "tags": []
   },
   "source": [
    "## Calculating numerical accuracies "
   ]
  },
  {
   "cell_type": "code",
   "execution_count": 1,
   "id": "949a76bc-ea59-4391-a65c-7e3d8a07c195",
   "metadata": {},
   "outputs": [],
   "source": [
    "import pandas as pd"
   ]
  },
  {
   "cell_type": "code",
   "execution_count": 22,
   "id": "af4815c9-2bee-4729-b884-d367b17d6ab7",
   "metadata": {},
   "outputs": [],
   "source": [
    "keras_path=\"/cluster/gjb_lab/2472402/results/keras/cv1_scores.csv\"\n",
    "snns_path=\"/cluster/gjb_lab/2472402/results/snns/cv1_scores.csv\" \n",
    "snns=pd.read_csv(snns_path).set_index('scopeID')\n",
    "keras=pd.read_csv(keras_path).set_index('scopeID')"
   ]
  },
  {
   "cell_type": "code",
   "execution_count": 2,
   "id": "dd10c21d-3834-4b74-8392-e2599c34317c",
   "metadata": {},
   "outputs": [],
   "source": [
    "outfile='/cluster/gjb_lab/2472402/results/cv_summary.csv'\n",
    "\n",
    "with open(outfile, 'w+') as f:\n",
    "    # write header\n",
    "    f.write('fold,SNNS_HMM_acc,Keras_HMM_acc,SNNS_PSSM_acc,Keras_PSSM_acc,SNNS_HMM_sov,Keras_HMM_sov,SNNS_PSSM_sov,Keras_PSSM_sov\\n')\n",
    "    for i in range(1,8):\n",
    "        keras_path=\"/cluster/gjb_lab/2472402/results/keras/cv%d_scores.csv\" % i\n",
    "        snns_path=\"/cluster/gjb_lab/2472402/results/snns/cv%d_scores.csv\" % i\n",
    "        snns=pd.read_csv(snns_path).set_index('scopeID')\n",
    "        keras=pd.read_csv(keras_path).set_index('scopeID')\n",
    "        f.write(\"%d,\" % i)\n",
    "        f.write(\"%.2f ± %.2f\" % (snns.HMM_acc.mean(),snns.HMM_acc.std()) + ',')\n",
    "        f.write(\"%.2f ± %.2f\" % (keras.HMM_acc.mean(),keras.HMM_acc.std()) + ',')\n",
    "        f.write(\"%.2f ± %.2f\" % (snns.PSSM_acc.mean(),snns.PSSM_acc.std()) + ',')\n",
    "        f.write(\"%.2f ± %.2f\" % (keras.PSSM_acc.mean(),keras.PSSM_acc.std()) + ',')\n",
    "        f.write(\"%.2f ± %.2f\" % (snns.HMM_sov.mean(),snns.HMM_sov.std()) + ',')\n",
    "        f.write(\"%.2f ± %.2f\" % (keras.HMM_sov.mean(),keras.HMM_sov.std()) + ',')\n",
    "        f.write(\"%.2f ± %.2f\" % (snns.PSSM_sov.mean(),snns.PSSM_sov.std()) + ',')\n",
    "        f.write(\"%.2f ± %.2f\" % (keras.PSSM_sov.mean(),keras.PSSM_sov.std()) + '\\n')"
   ]
  }
 ],
 "metadata": {
  "kernelspec": {
   "display_name": "sandbox",
   "language": "python",
   "name": "sandbox"
  },
  "language_info": {
   "codemirror_mode": {
    "name": "ipython",
    "version": 3
   },
   "file_extension": ".py",
   "mimetype": "text/x-python",
   "name": "python",
   "nbconvert_exporter": "python",
   "pygments_lexer": "ipython3",
   "version": "3.9.5"
  }
 },
 "nbformat": 4,
 "nbformat_minor": 5
}
