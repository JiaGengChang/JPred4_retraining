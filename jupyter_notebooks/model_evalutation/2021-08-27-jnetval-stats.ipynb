{
 "cells": [
  {
   "cell_type": "markdown",
   "id": "59e456da-4fea-46f1-a2b1-59bf8fd6a9be",
   "metadata": {},
   "source": [
    "# Score jnet using score_jnetval.csv"
   ]
  },
  {
   "cell_type": "code",
   "execution_count": 1,
   "id": "131f593e-e7e8-4f6b-a44d-dd4b722febd0",
   "metadata": {},
   "outputs": [],
   "source": [
    "import os\n",
    "import pandas as pd"
   ]
  },
  {
   "cell_type": "code",
   "execution_count": 2,
   "id": "27af6ae5-972c-4d63-9cee-9ded2d4a224a",
   "metadata": {},
   "outputs": [],
   "source": [
    "irange=range(1,8)"
   ]
  },
  {
   "cell_type": "code",
   "execution_count": 17,
   "id": "99477270-75a3-48a2-a49f-0830799b3bf7",
   "metadata": {},
   "outputs": [],
   "source": [
    "with open('/cluster/gjb_lab/2472402/results/22Sep-score-jnetval-analysis.csv','w+') as f:\n",
    "    # write header\n",
    "    f.write('fold,jnetpred,jnetpssm,jnethmm\\n')\n",
    "    for i in irange:\n",
    "        f.write(\"%d\" % i)\n",
    "        path='/cluster/gjb_lab/2472402/results/snns/22Sep/score_jnetval.csv' %i\n",
    "        scores=pd.read_csv(path).set_index('SeqID')\n",
    "        #calculate mean and standard deviation\n",
    "        # jnetval\n",
    "        f.write(\",%.2f ± %.2f\" % (scores.jnetpred.mean(),scores.jnetpred.std()))\n",
    "        # pssm\n",
    "        f.write(\",%.2f ± %.2f\" % (scores.jnetpssm.mean(),scores.jnetpssm.std()))\n",
    "        # hmm\n",
    "        f.write(\",%.2f ± %.2f\" % (scores.jnethmm.mean(),scores.jnethmm.std()))\n",
    "        f.write('\\n')"
   ]
  },
  {
   "cell_type": "markdown",
   "id": "d025bd8f-29d3-45bc-976d-26b0f073ad85",
   "metadata": {},
   "source": []
  }
 ],
 "metadata": {
  "kernelspec": {
   "display_name": "Python [conda env:miniconda-keras]",
   "language": "python",
   "name": "conda-env-miniconda-keras-py"
  },
  "language_info": {
   "codemirror_mode": {
    "name": "ipython",
    "version": 3
   },
   "file_extension": ".py",
   "mimetype": "text/x-python",
   "name": "python",
   "nbconvert_exporter": "python",
   "pygments_lexer": "ipython3",
   "version": "3.6.12"
  }
 },
 "nbformat": 4,
 "nbformat_minor": 5
}
