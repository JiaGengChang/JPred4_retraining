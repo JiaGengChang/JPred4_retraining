{
 "cells": [
  {
   "cell_type": "markdown",
   "id": "5524bf13-dbbc-465e-8925-c72266fad134",
   "metadata": {
    "tags": []
   },
   "source": [
    "## Calculating numerical accuracies "
   ]
  },
  {
   "cell_type": "code",
   "execution_count": 24,
   "id": "949a76bc-ea59-4391-a65c-7e3d8a07c195",
   "metadata": {},
   "outputs": [],
   "source": [
    "import pandas as pd"
   ]
  },
  {
   "cell_type": "code",
   "execution_count": 14,
   "id": "dd10c21d-3834-4b74-8392-e2599c34317c",
   "metadata": {},
   "outputs": [],
   "source": [
    "outfile='/cluster/gjb_lab/2472402/results/22Sep_snns_21Sep_keras.csv'\n",
    "\n",
    "snns_all = []\n",
    "keras_all = []\n",
    "\n",
    "with open(outfile, 'w+') as f:\n",
    "    # write header\n",
    "    f.write('fold,SNNS_jpred_acc,Keras_jpred_acc,SNNS_HMM_acc,Keras_HMM_acc,SNNS_PSSM_acc,Keras_PSSM_acc\\n')\n",
    "    for i in range(1,8):\n",
    "        keras_path=\"/cluster/gjb_lab/2472402/results/keras/21Sep/cv%d_scores.csv\" % i # <= change here\n",
    "        snns_path=\"/cluster/gjb_lab/2472402/results/snns/22Sep/cv%d_scores.csv\" % i  # <= change here\n",
    "        snns=pd.read_csv(snns_path).set_index('seqID')\n",
    "        keras=pd.read_csv(keras_path).set_index('seqID')\n",
    "        f.write(\"%d,\" % i)\n",
    "        f.write(\"%.2f ± %.2f\" % (snns.JNET_acc.mean(),snns.JNET_acc.std()) + ',')\n",
    "        f.write(\"%.2f ± %.2f\" % (keras.JNET_acc.mean(),keras.JNET_acc.std()) + ',')\n",
    "        f.write(\"%.2f ± %.2f\" % (snns.HMM_acc.mean(),snns.HMM_acc.std()) + ',')\n",
    "        f.write(\"%.2f ± %.2f\" % (keras.HMM_acc.mean(),keras.HMM_acc.std()) + ',')\n",
    "        f.write(\"%.2f ± %.2f\" % (snns.PSSM_acc.mean(),snns.PSSM_acc.std()) + ',')\n",
    "        f.write(\"%.2f ± %.2f\" % (keras.PSSM_acc.mean(),keras.PSSM_acc.std()) + '\\n')\n",
    "        snns_all.append(snns)\n",
    "        keras_all.append(keras)\n",
    "\n",
    "# out-of-fold mean and std for all 1348 \n",
    "snns = pd.concat(snns_all) \n",
    "keras = pd.concat(keras_all) \n",
    "\n",
    "with open(outfile,'a') as f:\n",
    "    f.write('combined,')\n",
    "    f.write(\"%.2f ± %.2f\" % (snns.JNET_acc.mean(),snns.JNET_acc.std()) + ',')\n",
    "    f.write(\"%.2f ± %.2f\" % (keras.JNET_acc.mean(),keras.JNET_acc.std()) + ',')\n",
    "    f.write(\"%.2f ± %.2f\" % (snns.HMM_acc.mean(),snns.HMM_acc.std()) + ',')\n",
    "    f.write(\"%.2f ± %.2f\" % (keras.HMM_acc.mean(),keras.HMM_acc.std()) + ',')\n",
    "    f.write(\"%.2f ± %.2f\" % (snns.PSSM_acc.mean(),snns.PSSM_acc.std()) + ',')\n",
    "    f.write(\"%.2f ± %.2f\" % (keras.PSSM_acc.mean(),keras.PSSM_acc.std()) + '\\n')"
   ]
  },
  {
   "cell_type": "markdown",
   "id": "d0986bcd-30af-4475-8a29-ad5811199d59",
   "metadata": {},
   "source": [
    "## Check that the cross validation splits are the same for keras and snns"
   ]
  },
  {
   "cell_type": "code",
   "execution_count": 33,
   "id": "55ff6f02-fc05-43c6-8a13-f722390d1762",
   "metadata": {},
   "outputs": [
    {
     "ename": "ValueError",
     "evalue": "Lengths must match to compare",
     "output_type": "error",
     "traceback": [
      "\u001b[0;31m---------------------------------------------------------------------------\u001b[0m",
      "\u001b[0;31mValueError\u001b[0m                                Traceback (most recent call last)",
      "\u001b[0;32m/tmp/236597.1.all.q/ipykernel_30007/217397900.py\u001b[0m in \u001b[0;36m<module>\u001b[0;34m\u001b[0m\n\u001b[1;32m      6\u001b[0m     \u001b[0msnns\u001b[0m \u001b[0;34m=\u001b[0m \u001b[0mpd\u001b[0m\u001b[0;34m.\u001b[0m\u001b[0mread_csv\u001b[0m\u001b[0;34m(\u001b[0m\u001b[0msnns_path\u001b[0m\u001b[0;34m)\u001b[0m\u001b[0;34m.\u001b[0m\u001b[0mset_index\u001b[0m\u001b[0;34m(\u001b[0m\u001b[0;34m'seqID'\u001b[0m\u001b[0;34m)\u001b[0m\u001b[0;34m\u001b[0m\u001b[0;34m\u001b[0m\u001b[0m\n\u001b[1;32m      7\u001b[0m     \u001b[0mkeras\u001b[0m \u001b[0;34m=\u001b[0m \u001b[0mpd\u001b[0m\u001b[0;34m.\u001b[0m\u001b[0mread_csv\u001b[0m\u001b[0;34m(\u001b[0m\u001b[0mkeras_path\u001b[0m\u001b[0;34m)\u001b[0m\u001b[0;34m.\u001b[0m\u001b[0mset_index\u001b[0m\u001b[0;34m(\u001b[0m\u001b[0;34m'seqID'\u001b[0m\u001b[0;34m)\u001b[0m\u001b[0;34m\u001b[0m\u001b[0;34m\u001b[0m\u001b[0m\n\u001b[0;32m----> 8\u001b[0;31m     \u001b[0mall\u001b[0m\u001b[0;34m(\u001b[0m\u001b[0mkeras\u001b[0m\u001b[0;34m.\u001b[0m\u001b[0mindex\u001b[0m\u001b[0;34m==\u001b[0m\u001b[0msnns\u001b[0m\u001b[0;34m.\u001b[0m\u001b[0mindex\u001b[0m\u001b[0;34m)\u001b[0m\u001b[0;34m,\u001b[0m \u001b[0;34m\"No go. Cross validation splits of keras and snns training are different.\"\u001b[0m\u001b[0;34m\u001b[0m\u001b[0;34m\u001b[0m\u001b[0m\n\u001b[0m\u001b[1;32m      9\u001b[0m     \u001b[0msnns_all\u001b[0m\u001b[0;34m.\u001b[0m\u001b[0mappend\u001b[0m\u001b[0;34m(\u001b[0m\u001b[0msnns\u001b[0m\u001b[0;34m)\u001b[0m\u001b[0;34m\u001b[0m\u001b[0;34m\u001b[0m\u001b[0m\n\u001b[1;32m     10\u001b[0m     \u001b[0mkeras_all\u001b[0m\u001b[0;34m.\u001b[0m\u001b[0mappend\u001b[0m\u001b[0;34m(\u001b[0m\u001b[0mkeras\u001b[0m\u001b[0;34m)\u001b[0m\u001b[0;34m\u001b[0m\u001b[0;34m\u001b[0m\u001b[0m\n",
      "\u001b[0;32m/cluster/gjb_lab/2472402/ml-env/lib/python3.9/site-packages/pandas/core/ops/common.py\u001b[0m in \u001b[0;36mnew_method\u001b[0;34m(self, other)\u001b[0m\n\u001b[1;32m     67\u001b[0m         \u001b[0mother\u001b[0m \u001b[0;34m=\u001b[0m \u001b[0mitem_from_zerodim\u001b[0m\u001b[0;34m(\u001b[0m\u001b[0mother\u001b[0m\u001b[0;34m)\u001b[0m\u001b[0;34m\u001b[0m\u001b[0;34m\u001b[0m\u001b[0m\n\u001b[1;32m     68\u001b[0m \u001b[0;34m\u001b[0m\u001b[0m\n\u001b[0;32m---> 69\u001b[0;31m         \u001b[0;32mreturn\u001b[0m \u001b[0mmethod\u001b[0m\u001b[0;34m(\u001b[0m\u001b[0mself\u001b[0m\u001b[0;34m,\u001b[0m \u001b[0mother\u001b[0m\u001b[0;34m)\u001b[0m\u001b[0;34m\u001b[0m\u001b[0;34m\u001b[0m\u001b[0m\n\u001b[0m\u001b[1;32m     70\u001b[0m \u001b[0;34m\u001b[0m\u001b[0m\n\u001b[1;32m     71\u001b[0m     \u001b[0;32mreturn\u001b[0m \u001b[0mnew_method\u001b[0m\u001b[0;34m\u001b[0m\u001b[0;34m\u001b[0m\u001b[0m\n",
      "\u001b[0;32m/cluster/gjb_lab/2472402/ml-env/lib/python3.9/site-packages/pandas/core/arraylike.py\u001b[0m in \u001b[0;36m__eq__\u001b[0;34m(self, other)\u001b[0m\n\u001b[1;32m     30\u001b[0m     \u001b[0;34m@\u001b[0m\u001b[0munpack_zerodim_and_defer\u001b[0m\u001b[0;34m(\u001b[0m\u001b[0;34m\"__eq__\"\u001b[0m\u001b[0;34m)\u001b[0m\u001b[0;34m\u001b[0m\u001b[0;34m\u001b[0m\u001b[0m\n\u001b[1;32m     31\u001b[0m     \u001b[0;32mdef\u001b[0m \u001b[0m__eq__\u001b[0m\u001b[0;34m(\u001b[0m\u001b[0mself\u001b[0m\u001b[0;34m,\u001b[0m \u001b[0mother\u001b[0m\u001b[0;34m)\u001b[0m\u001b[0;34m:\u001b[0m\u001b[0;34m\u001b[0m\u001b[0;34m\u001b[0m\u001b[0m\n\u001b[0;32m---> 32\u001b[0;31m         \u001b[0;32mreturn\u001b[0m \u001b[0mself\u001b[0m\u001b[0;34m.\u001b[0m\u001b[0m_cmp_method\u001b[0m\u001b[0;34m(\u001b[0m\u001b[0mother\u001b[0m\u001b[0;34m,\u001b[0m \u001b[0moperator\u001b[0m\u001b[0;34m.\u001b[0m\u001b[0meq\u001b[0m\u001b[0;34m)\u001b[0m\u001b[0;34m\u001b[0m\u001b[0;34m\u001b[0m\u001b[0m\n\u001b[0m\u001b[1;32m     33\u001b[0m \u001b[0;34m\u001b[0m\u001b[0m\n\u001b[1;32m     34\u001b[0m     \u001b[0;34m@\u001b[0m\u001b[0munpack_zerodim_and_defer\u001b[0m\u001b[0;34m(\u001b[0m\u001b[0;34m\"__ne__\"\u001b[0m\u001b[0;34m)\u001b[0m\u001b[0;34m\u001b[0m\u001b[0;34m\u001b[0m\u001b[0m\n",
      "\u001b[0;32m/cluster/gjb_lab/2472402/ml-env/lib/python3.9/site-packages/pandas/core/indexes/base.py\u001b[0m in \u001b[0;36m_cmp_method\u001b[0;34m(self, other, op)\u001b[0m\n\u001b[1;32m   6041\u001b[0m             \u001b[0mself\u001b[0m\u001b[0;34m\u001b[0m\u001b[0;34m\u001b[0m\u001b[0m\n\u001b[1;32m   6042\u001b[0m         ) != len(other):\n\u001b[0;32m-> 6043\u001b[0;31m             \u001b[0;32mraise\u001b[0m \u001b[0mValueError\u001b[0m\u001b[0;34m(\u001b[0m\u001b[0;34m\"Lengths must match to compare\"\u001b[0m\u001b[0;34m)\u001b[0m\u001b[0;34m\u001b[0m\u001b[0;34m\u001b[0m\u001b[0m\n\u001b[0m\u001b[1;32m   6044\u001b[0m \u001b[0;34m\u001b[0m\u001b[0m\n\u001b[1;32m   6045\u001b[0m         \u001b[0;32mif\u001b[0m \u001b[0;32mnot\u001b[0m \u001b[0misinstance\u001b[0m\u001b[0;34m(\u001b[0m\u001b[0mother\u001b[0m\u001b[0;34m,\u001b[0m \u001b[0mABCMultiIndex\u001b[0m\u001b[0;34m)\u001b[0m\u001b[0;34m:\u001b[0m\u001b[0;34m\u001b[0m\u001b[0;34m\u001b[0m\u001b[0m\n",
      "\u001b[0;31mValueError\u001b[0m: Lengths must match to compare"
     ]
    }
   ],
   "source": [
    "snns_all = []\n",
    "keras_all = []\n",
    "for i in range(1,8):\n",
    "    keras_path=\"/cluster/gjb_lab/2472402/results/keras/21Sep/cv%d_scores.csv\" % i # <= change here\n",
    "    snns_path=\"/cluster/gjb_lab/2472402/results/snns/22Sep/cv%d_scores.csv\" % i  # <= change here\n",
    "    snns = pd.read_csv(snns_path).set_index('seqID')\n",
    "    keras = pd.read_csv(keras_path).set_index('seqID')\n",
    "    all(keras.index==snns.index), \"No go. Cross validation splits of keras and snns training are different.\"\n",
    "    snns_all.append(snns)\n",
    "    keras_all.append(keras)"
   ]
  },
  {
   "cell_type": "code",
   "execution_count": 37,
   "id": "50c5d0ab-23ec-4583-9eca-cc79d8039277",
   "metadata": {},
   "outputs": [],
   "source": [
    "snns_path=\"/cluster/gjb_lab/2472402/results/snns/22Sep/cv7_scores.csv\"\n",
    "fold7_snns = pd.read_csv(snns_path).set_index('seqID')\n",
    "snns_set = set(fold7_snns.index)\n",
    "\n",
    "keras_path=\"/cluster/gjb_lab/2472402/results/keras/21Sep/cv7_scores.csv\"\n",
    "fold7_keras = pd.read_csv(keras_path).set_index('seqID')\n",
    "keras_set = set(fold7_keras.index)"
   ]
  },
  {
   "cell_type": "code",
   "execution_count": 39,
   "id": "cc99ba31-9718-4411-87e8-550c00ea5bdc",
   "metadata": {},
   "outputs": [
    {
     "name": "stdout",
     "output_type": "stream",
     "text": [
      "{25624, 25124, 25658, 25662, 25669, 25685, 24704, 25219, 25731, 24710, 25238, 25239, 25267, 25783, 25302, 25347, 24870, 24881, 25922, 25413, 25928, 25427, 25951, 24971, 25537, 26057}\n"
     ]
    }
   ],
   "source": [
    "missing = snns_set ^ keras_set\n",
    "print(missing)"
   ]
  },
  {
   "cell_type": "code",
   "execution_count": 43,
   "id": "1ef57627-3146-410e-a67c-8a15ddd7728d",
   "metadata": {},
   "outputs": [
    {
     "name": "stdout",
     "output_type": "stream",
     "text": [
      "[False, False, False, False, False, False, False, False, False, False, False, False, False, False, False, False, False, False, False, False, False, False, False, False, False, False]\n"
     ]
    }
   ],
   "source": [
    "print([i in set(snns.index) for i in missing])"
   ]
  }
 ],
 "metadata": {
  "kernelspec": {
   "display_name": "Python 3 (ml-env)",
   "language": "python",
   "name": "ml-env"
  },
  "language_info": {
   "codemirror_mode": {
    "name": "ipython",
    "version": 3
   },
   "file_extension": ".py",
   "mimetype": "text/x-python",
   "name": "python",
   "nbconvert_exporter": "python",
   "pygments_lexer": "ipython3",
   "version": "3.9.5"
  }
 },
 "nbformat": 4,
 "nbformat_minor": 5
}
