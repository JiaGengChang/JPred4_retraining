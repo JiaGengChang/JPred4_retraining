{
 "cells": [
  {
   "cell_type": "markdown",
   "id": "8e16f4ac-d7fa-4324-907e-df8ed2ad56a6",
   "metadata": {},
   "source": [
    "# .ipynb to .py converter"
   ]
  },
  {
   "cell_type": "markdown",
   "id": "bf5983fc-375e-4027-bb50-4c24843c9a92",
   "metadata": {},
   "source": [
    "Spawns scripts from notebooks\n",
    "Use in conjunction with 2021-09-03-explore-ml.ipynb"
   ]
  },
  {
   "cell_type": "code",
   "execution_count": 33,
   "id": "4e5dfa66-c429-422d-bfd4-72c4b5f81499",
   "metadata": {},
   "outputs": [
    {
     "name": "stdout",
     "output_type": "stream",
     "text": [
      "[NbConvertApp] WARNING | Config option `kernel_spec_manager_class` not recognized by `NbConvertApp`.\n",
      "[NbConvertApp] Converting notebook /cluster/gjb_lab/2472402/jupyter_notebooks/machine_learning/2021-09-03-explore-ml.ipynb to script\n",
      "[NbConvertApp] Writing 1684 bytes to /cluster/gjb_lab/2472402/outputs/2021-09-03/MLPClassifier.py\n"
     ]
    }
   ],
   "source": [
    "\n",
    "!jupyter nbconvert '/cluster/gjb_lab/2472402/jupyter_notebooks/machine_learning/2021-09-03-explore-ml.ipynb' \\\n",
    "--to script \\\n",
    "--output-dir '/cluster/gjb_lab/2472402/outputs/2021-09-03' \\\n",
    "--output 'MLPClassifier' \\\n",
    "--TemplateExporter.exclude_markdown=False \\\n",
    "--TemplateExporter.exclude_output_prompt=True \\\n",
    "--TemplateExporter.exclude_input_prompt=True"
   ]
  },
  {
   "cell_type": "code",
   "execution_count": 34,
   "id": "8c5354e7-1036-4c9f-9ba8-a9e725c2f5ec",
   "metadata": {},
   "outputs": [],
   "source": [
    "! sed -i 's/#!\\/usr\\/bin\\/env python/#!\\/cluster\\/gjb_lab\\/2472402\\/ml-env\\/bin\\/python3.9/' '/cluster/gjb_lab/2472402/outputs/2021-09-03/MLPClassifier.py'"
   ]
  }
 ],
 "metadata": {
  "kernelspec": {
   "display_name": "Python 3 (ml-env)",
   "language": "python",
   "name": "ml-env"
  },
  "language_info": {
   "codemirror_mode": {
    "name": "ipython",
    "version": 3
   },
   "file_extension": ".py",
   "mimetype": "text/x-python",
   "name": "python",
   "nbconvert_exporter": "python",
   "pygments_lexer": "ipython3",
   "version": "3.9.5"
  }
 },
 "nbformat": 4,
 "nbformat_minor": 5
}
