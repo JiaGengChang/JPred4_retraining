{
 "cells": [
  {
   "cell_type": "code",
   "execution_count": 9,
   "id": "9fb8382a-bbc2-4f2a-84df-fba1272a7a03",
   "metadata": {},
   "outputs": [],
   "source": [
    "import os\n",
    "import pickle\n",
    "import numpy as np\n",
    "import pandas as pd\n",
    "import autokeras as ak\n",
    "import tensorflow as tf"
   ]
  },
  {
   "cell_type": "code",
   "execution_count": 2,
   "id": "30b1e0e8-93ab-4562-ab59-c15dd7077ce7",
   "metadata": {},
   "outputs": [],
   "source": [
    "hmm_f='/cluster/gjb_lab/2472402/data/retr231/hmm1.pkl'\n",
    "pssm_f='/cluster/gjb_lab/2472402/data/retr231/pssm1.pkl'\n",
    "dssp_f='/cluster/gjb_lab/2472402/data/retr231/dssp.pkl'"
   ]
  },
  {
   "cell_type": "code",
   "execution_count": 3,
   "id": "e4330252-0930-466e-b798-4918638383fa",
   "metadata": {},
   "outputs": [],
   "source": [
    "with open(hmm_f,'rb') as f:\n",
    "    hmm1=pickle.load(f)"
   ]
  },
  {
   "cell_type": "code",
   "execution_count": 4,
   "id": "fb384277-1e7b-4b41-beaa-bdc1aa510984",
   "metadata": {},
   "outputs": [],
   "source": [
    "with open(dssp_f,'rb') as f:\n",
    "    dssp=pickle.load(f)"
   ]
  },
  {
   "cell_type": "code",
   "execution_count": 5,
   "id": "66b0925a-5f49-451d-97ea-ffa5e95c39de",
   "metadata": {},
   "outputs": [
    {
     "name": "stdout",
     "output_type": "stream",
     "text": [
      "INFO:tensorflow:Reloading Oracle from existing project ./structured_data_classifier/oracle.json\n",
      "INFO:tensorflow:Reloading Tuner from ./structured_data_classifier/tuner0.json\n"
     ]
    }
   ],
   "source": [
    "clf = ak.StructuredDataClassifier(seed=0,max_trials=3)"
   ]
  },
  {
   "cell_type": "code",
   "execution_count": 7,
   "id": "fb15e748-eee1-41b4-ac00-8887f9735a70",
   "metadata": {},
   "outputs": [],
   "source": [
    "xtest=hmm1[100:200]\n",
    "ytest=dssp[100:200]"
   ]
  },
  {
   "cell_type": "code",
   "execution_count": 8,
   "id": "ff9c19be-fc64-4d02-9150-aaef74b6cf83",
   "metadata": {},
   "outputs": [
    {
     "name": "stderr",
     "output_type": "stream",
     "text": [
      "2021-08-30 23:41:24.438126: I tensorflow/stream_executor/platform/default/dso_loader.cc:53] Successfully opened dynamic library libcuda.so.1\n",
      "2021-08-30 23:41:24.923024: E tensorflow/stream_executor/cuda/cuda_driver.cc:328] failed call to cuInit: CUDA_ERROR_NO_DEVICE: no CUDA-capable device is detected\n",
      "2021-08-30 23:41:24.923134: I tensorflow/stream_executor/cuda/cuda_diagnostics.cc:156] kernel driver does not appear to be running on this host (c6320-3-1.compute.dundee.ac.uk): /proc/driver/nvidia/version does not exist\n",
      "2021-08-30 23:41:24.927302: I tensorflow/core/platform/cpu_feature_guard.cc:142] This TensorFlow binary is optimized with oneAPI Deep Neural Network Library (oneDNN) to use the following CPU instructions in performance-critical operations:  AVX2 FMA\n",
      "To enable them in other operations, rebuild TensorFlow with the appropriate compiler flags.\n",
      "2021-08-30 23:41:25.249334: I tensorflow/compiler/mlir/mlir_graph_optimization_pass.cc:176] None of the MLIR Optimization Passes are enabled (registered 2)\n",
      "2021-08-30 23:41:25.250459: I tensorflow/core/platform/profile_utils/cpu_utils.cc:114] CPU Frequency: 2394440000 Hz\n"
     ]
    },
    {
     "name": "stdout",
     "output_type": "stream",
     "text": [
      "INFO:tensorflow:Oracle triggered exit\n",
      "Epoch 1/3\n",
      "4/4 [==============================] - 4s 10ms/step - loss: 1.0133 - accuracy: 0.4200\n",
      "Epoch 2/3\n",
      "4/4 [==============================] - 0s 8ms/step - loss: 0.6522 - accuracy: 0.7500\n",
      "Epoch 3/3\n",
      "4/4 [==============================] - 0s 8ms/step - loss: 0.5029 - accuracy: 0.8200\n"
     ]
    },
    {
     "name": "stderr",
     "output_type": "stream",
     "text": [
      "2021-08-30 23:41:42.644543: W tensorflow/python/util/util.cc:348] Sets are not currently considered sequences, but this may change in the future, so consider avoiding using them.\n"
     ]
    },
    {
     "name": "stdout",
     "output_type": "stream",
     "text": [
      "INFO:tensorflow:Assets written to: ./structured_data_classifier/best_model/assets\n"
     ]
    }
   ],
   "source": [
    "history= clf.fit(x=xtest,y=ytest,epochs=3)"
   ]
  },
  {
   "cell_type": "code",
   "execution_count": 11,
   "id": "8b03bf10-cc96-4c5a-9a18-9852b97babfc",
   "metadata": {},
   "outputs": [],
   "source": [
    "wdir='/cluster/gjb_lab/2472402/outputs/2021-08-30-autokeras_test/'\n",
    "os.chdir(wdir)"
   ]
  },
  {
   "cell_type": "code",
   "execution_count": 12,
   "id": "4fed9e40-12a9-4d45-9285-9c4c86c48b29",
   "metadata": {},
   "outputs": [],
   "source": [
    "with open('history.pkl','wb') as f:\n",
    "    pickle.dump(pd.DataFrame(history.history),f)"
   ]
  },
  {
   "cell_type": "code",
   "execution_count": 13,
   "id": "9bb3dc28-6917-4847-9622-8d22ac6dcb57",
   "metadata": {},
   "outputs": [
    {
     "data": {
      "text/html": [
       "<div>\n",
       "<style scoped>\n",
       "    .dataframe tbody tr th:only-of-type {\n",
       "        vertical-align: middle;\n",
       "    }\n",
       "\n",
       "    .dataframe tbody tr th {\n",
       "        vertical-align: top;\n",
       "    }\n",
       "\n",
       "    .dataframe thead th {\n",
       "        text-align: right;\n",
       "    }\n",
       "</style>\n",
       "<table border=\"1\" class=\"dataframe\">\n",
       "  <thead>\n",
       "    <tr style=\"text-align: right;\">\n",
       "      <th></th>\n",
       "      <th>loss</th>\n",
       "      <th>accuracy</th>\n",
       "    </tr>\n",
       "  </thead>\n",
       "  <tbody>\n",
       "    <tr>\n",
       "      <th>0</th>\n",
       "      <td>1.013286</td>\n",
       "      <td>0.42</td>\n",
       "    </tr>\n",
       "    <tr>\n",
       "      <th>1</th>\n",
       "      <td>0.652181</td>\n",
       "      <td>0.75</td>\n",
       "    </tr>\n",
       "    <tr>\n",
       "      <th>2</th>\n",
       "      <td>0.502930</td>\n",
       "      <td>0.82</td>\n",
       "    </tr>\n",
       "  </tbody>\n",
       "</table>\n",
       "</div>"
      ],
      "text/plain": [
       "       loss  accuracy\n",
       "0  1.013286      0.42\n",
       "1  0.652181      0.75\n",
       "2  0.502930      0.82"
      ]
     },
     "execution_count": 13,
     "metadata": {},
     "output_type": "execute_result"
    }
   ],
   "source": [
    "pd.DataFrame(history.history)"
   ]
  }
 ],
 "metadata": {
  "kernelspec": {
   "display_name": "Python 3 (ml-env)",
   "language": "python",
   "name": "ml-env"
  },
  "language_info": {
   "codemirror_mode": {
    "name": "ipython",
    "version": 3
   },
   "file_extension": ".py",
   "mimetype": "text/x-python",
   "name": "python",
   "nbconvert_exporter": "python",
   "pygments_lexer": "ipython3",
   "version": "3.9.5"
  }
 },
 "nbformat": 4,
 "nbformat_minor": 5
}
