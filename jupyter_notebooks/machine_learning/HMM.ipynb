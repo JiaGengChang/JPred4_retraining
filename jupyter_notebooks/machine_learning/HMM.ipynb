{
 "cells": [
  {
   "cell_type": "markdown",
   "metadata": {},
   "source": [
    "# Steps\n",
    "1. train layer 1, obtain layer 1 model\n",
    "2. generate layer 2 predictions, convert to 3 columns, set to 1s and 0s\n",
    "3. train layer 2, obtain layer 2 model"
   ]
  },
  {
   "cell_type": "markdown",
   "metadata": {},
   "source": [
    "## 1. Read HMM profiles"
   ]
  },
  {
   "cell_type": "markdown",
   "metadata": {
    "jupyter": {
     "source_hidden": true
    },
    "tags": []
   },
   "source": [
    "Import core modules"
   ]
  },
  {
   "cell_type": "code",
   "execution_count": 5,
   "metadata": {
    "tags": []
   },
   "outputs": [],
   "source": [
    "import pandas as pd\n",
    "import numpy as np\n",
    "import os\n",
    "import sys"
   ]
  },
  {
   "cell_type": "markdown",
   "metadata": {},
   "source": [
    "Read .hmm files"
   ]
  },
  {
   "cell_type": "code",
   "execution_count": 24,
   "metadata": {
    "tags": []
   },
   "outputs": [],
   "source": [
    "path = '/homes/adrozdetskiy/Projects/JnetDatasets/training_onFull_20140715/'\n",
    "\n",
    "all_file_names = os.listdir(path)\n",
    "\n",
    "hmm_file_names = [f for f in all_file_names if ('.hmm' in f)]\n",
    "len(hmm_file_names)\n",
    "\n",
    "# read in sequence dictionary containing internal ID and SCOPe IDs\n",
    "# name this dictionary sd\n",
    "sd = pd.read_csv('/homes/2472402/data/seq_dict.txt', names = ['jnetID', 'scopeID']).set_index('jnetID')\n",
    "\n",
    "# have to do this naming of sub domains\n",
    "sd[sd.index==int('23183')] = 'e1gk9.1A'\n",
    "sd[sd.index==int('23184')] = 'e1gk9.1B'\n",
    "sd[sd.index==int('23185')] = 'e1mtp.1A'\n",
    "sd[sd.index==int('23187')] = 'e1n13.1A'\n",
    "sd[sd.index==int('23188')] = 'e1n13.1B'\n",
    "sd[sd.index==int('23189')] = 'e1qd6.1C'"
   ]
  },
  {
   "cell_type": "code",
   "execution_count": 16,
   "metadata": {
    "tags": []
   },
   "outputs": [
    {
     "data": {
      "text/plain": [
       "'23155.hmm'"
      ]
     },
     "execution_count": 16,
     "metadata": {},
     "output_type": "execute_result"
    }
   ],
   "source": [
    "hmm = [pd.read_csv(path+hmm, delimiter=' ', names=list(range(0,24))) for hmm in hmm_file_names[0:1]]\n",
    "# hmm[0:1]\n",
    "hmm_file_names[0]"
   ]
  },
  {
   "cell_type": "markdown",
   "metadata": {},
   "source": [
    "## 2. Convert profile hmm to 1D patterns"
   ]
  },
  {
   "cell_type": "markdown",
   "metadata": {
    "tags": []
   },
   "source": [
    "define function to get a bunch of linearized patterns from a single sequence i.e. do windowing and linearzing at the same time\n",
    "\n",
    "given a df and flank size\n",
    "calculate sequence length (df index dimension)\n",
    "initialize a 2D array\n",
    "for every row in hmm df:\n",
    "    get window start index and window end index\n",
    "    initialize a 1d array that is 17 x 24 = 408 cells long\n",
    "    initialize a location based index to 0 for the array\n",
    "    initialize an index for window position (i-8, i+8)\n",
    "    for every window position index:\n",
    "        if the window position is <0 or > length of the sequence, \n",
    "            assign the next 24 positions in the array to 0\n",
    "            increment the location index by 24 (same number of times as the number of values assigned)\n",
    "            continue\n",
    "        else\n",
    "            assert that all 24 values in that row are not NaN\n",
    "            assign the next 24 positions in the array to the 24 values in that row\n",
    "            continue\n",
    "        increment window position index\n",
    "     append 1d array to 2d array\n",
    "check that 2d array has same number of rows as input df\n",
    "return 2d array"
   ]
  },
  {
   "cell_type": "code",
   "execution_count": 33,
   "metadata": {
    "jupyter": {
     "source_hidden": true
    },
    "tags": []
   },
   "outputs": [],
   "source": [
    "# array: numpy array\n",
    "# flank: positive integer\n",
    "\n",
    "def sliding_window(array, flank):\n",
    "    assert flank > 0\n",
    "    assert type(array) is np.ndarray\n",
    "    assert np.logical_not(np.isnan(np.sum(array)))\n",
    "    nrow = array.shape[0]\n",
    "    assert nrow > 0\n",
    "    ncol = array.shape[1]\n",
    "    assert ncol > 0\n",
    "    res = np.empty(shape=(nrow, (2*flank+1)*ncol))\n",
    "    res[:] = np.nan\n",
    "    for i in list(range(0,nrow)):\n",
    "        s, e = i-flank, i+flank+1\n",
    "        k = 0;\n",
    "        for j in list(range(s,e)):\n",
    "            if (j < 0 or j >= nrow):\n",
    "                res[i, k:k+ncol] = 0\n",
    "            else:\n",
    "                assert np.logical_not(np.isnan(np.sum(array[j])))\n",
    "                assert array[j].shape == (ncol,)\n",
    "                res[i, k:k+ncol] = array[j]\n",
    "            k += ncol\n",
    "    assert np.logical_not(np.isnan(np.sum(res)))\n",
    "    assert res.shape == (nrow, (2*flank+1)*ncol)\n",
    "    return res"
   ]
  },
  {
   "cell_type": "code",
   "execution_count": 19,
   "metadata": {
    "jupyter": {
     "source_hidden": true
    },
    "tags": []
   },
   "outputs": [],
   "source": [
    "def get_dssp(path):\n",
    "    ls = list(pd.read_csv(path).loc[0].values)\n",
    "    ls[0] = ls[0][-1:] # remove the DSSP: part from first list item\n",
    "    res = np.empty(shape=(len(ls),3))\n",
    "    res[:] = np.nan\n",
    "    for i in range(0,len(ls)):\n",
    "        if ls[i] == 'H':\n",
    "            res[i] = np.array([1,0,0])\n",
    "        else:\n",
    "            if ls[i] == 'E' or ls[i] == 'B':\n",
    "                res[i] = np.array([0,1,0])\n",
    "            else:\n",
    "                assert ls[i] != None\n",
    "                res[i] = np.array([0,0,1])\n",
    "    assert not np.isnan(np.sum(res))\n",
    "    return res"
   ]
  },
  {
   "cell_type": "code",
   "execution_count": 35,
   "metadata": {
    "jupyter": {
     "source_hidden": true
    },
    "tags": []
   },
   "outputs": [],
   "source": [
    "dssp_dir = '/homes/adrozdetskiy/Projects/JnetDatasets/DSSP_out/'\n",
    "\n",
    "results = []\n",
    "\n",
    "for fn in hmm_file_names:\n",
    "    hmm = pd.read_csv(path+fn, delimiter=' ', names=list(range(0,24)))\n",
    "    pats = sliding_window(np.array(hmm), 8)\n",
    "    seqID = sd[sd.index==int(fn[:-4])].scopeID.values[0]\n",
    "    dssp_path = dssp_dir + seqID + '.sec'\n",
    "    dssp = get_dssp(dssp_path)\n",
    "    res = np.concatenate((pats,dssp), axis=1)\n",
    "    assert not np.isnan(np.sum(res))\n",
    "    assert res.shape == (pats.shape[0], pats.shape[1]+3)\n",
    "    results.append(res)"
   ]
  },
  {
   "cell_type": "code",
   "execution_count": 36,
   "metadata": {
    "jupyter": {
     "source_hidden": true
    },
    "tags": []
   },
   "outputs": [],
   "source": [
    "import pickle\n",
    "\n",
    "pickle.dump(results, open('/cluster/gjb_lab/2472402/data/hmm-data/hmmpat.pkl','wb'), protocol=pickle.HIGHEST_PROTOCOL)"
   ]
  },
  {
   "cell_type": "markdown",
   "metadata": {},
   "source": [
    "# Prepare data for cross-validation"
   ]
  },
  {
   "cell_type": "code",
   "execution_count": 4,
   "metadata": {},
   "outputs": [],
   "source": [
    "import pickle\n",
    "results = pickle.load(open('/cluster/gjb_lab/2472402/data/hmm-data/hmmpat.pkl','rb'))"
   ]
  },
  {
   "cell_type": "code",
   "execution_count": 8,
   "metadata": {},
   "outputs": [
    {
     "data": {
      "text/plain": [
       "array([[0.0000e+00, 0.0000e+00, 0.0000e+00, ..., 0.0000e+00, 0.0000e+00,\n",
       "        1.0000e+00],\n",
       "       [0.0000e+00, 0.0000e+00, 0.0000e+00, ..., 0.0000e+00, 0.0000e+00,\n",
       "        1.0000e+00],\n",
       "       [0.0000e+00, 0.0000e+00, 0.0000e+00, ..., 1.0000e+00, 0.0000e+00,\n",
       "        0.0000e+00],\n",
       "       ...,\n",
       "       [3.8790e-02, 2.2800e-03, 1.6000e-04, ..., 1.0000e+00, 0.0000e+00,\n",
       "        0.0000e+00],\n",
       "       [1.5059e-01, 2.3685e-01, 1.9000e-04, ..., 0.0000e+00, 0.0000e+00,\n",
       "        1.0000e+00],\n",
       "       [6.9140e-02, 3.2700e-03, 9.0378e-01, ..., 0.0000e+00, 0.0000e+00,\n",
       "        1.0000e+00]])"
      ]
     },
     "execution_count": 8,
     "metadata": {},
     "output_type": "execute_result"
    }
   ],
   "source": [
    "results[0]"
   ]
  },
  {
   "cell_type": "code",
   "execution_count": 52,
   "metadata": {},
   "outputs": [
    {
     "name": "stdout",
     "output_type": "stream",
     "text": [
      "X.shape:  (214436, 408) \n",
      " y.shape:  (214436, 3) \n",
      "\n",
      "INFO:tensorflow:Assets written to: /homes/2472402/data/hmm1.model/assets\n"
     ]
    }
   ],
   "source": [
    "from sklearn.model_selection import train_test_split\n",
    "from tensorflow import keras\n",
    "from tensorflow.keras import layers\n",
    "\n",
    "\n",
    "X = np.concatenate([r[:, :-3] for r in results], axis=0)\n",
    "y = np.concatenate([r[:, -3:] for r in results], axis=0)\n",
    "\n",
    "print('X.shape: ' ,X.shape, '\\n', 'y.shape: ', y.shape, '\\n')\n",
    "\n",
    "X_train, X_valid, y_train, y_valid = train_test_split(X, y, train_size=6000, test_size=1000, random_state=0)\n",
    "\n",
    "# define a simple model for sequence to structure prediction\n",
    "model = keras.Sequential([\n",
    "    layers.Dense(units=100, activation='sigmoid', input_shape=[408]), \n",
    "    layers.Dense(units=3, activation='softmax')\n",
    "])\n",
    "\n",
    "# compile mode. note metrics argument is left out\n",
    "model.compile(\n",
    "    optimizer='sgd', \n",
    "    loss='categorical_crossentropy',\n",
    "    metrics=['accuracy']\n",
    ")\n",
    "\n",
    "history = model.fit(\n",
    "    X_train, y_train,\n",
    "    validation_data=(X_valid, y_valid),\n",
    "    batch_size=128, # not optimised\n",
    "    epochs=250, # same as jnet v2.3.1\n",
    "    verbose=0, # suppress output since we'll plot the curves\n",
    ")\n",
    "history_df = pd.DataFrame(history.history)\n",
    "\n",
    "model.save('/homes/2472402/data/hmm1.model')"
   ]
  },
  {
   "cell_type": "code",
   "execution_count": 53,
   "metadata": {},
   "outputs": [
    {
     "name": "stdout",
     "output_type": "stream",
     "text": [
      "Minimum validation loss: 0.6250818967819214\n"
     ]
    },
    {
     "data": {
      "image/png": "[encoded data removed]",
      "text/plain": [
       "<Figure size 432x288 with 1 Axes>"
      ]
     },
     "metadata": {
      "needs_background": "light"
     },
     "output_type": "display_data"
    }
   ],
   "source": [
    "# review results\n",
    "history_df.loc[:, ['loss', 'val_loss']].plot()\n",
    "print(\"Minimum validation loss: {}\".format(history_df['val_loss'].min()))"
   ]
  },
  {
   "cell_type": "code",
   "execution_count": null,
   "metadata": {},
   "outputs": [],
   "source": []
  }
 ],
 "metadata": {
  "kernelspec": {
   "display_name": "sandbox",
   "language": "python",
   "name": "sandbox"
  },
  "language_info": {
   "codemirror_mode": {
    "name": "ipython",
    "version": 3
   },
   "file_extension": ".py",
   "mimetype": "text/x-python",
   "name": "python",
   "nbconvert_exporter": "python",
   "pygments_lexer": "ipython3",
   "version": "3.9.5"
  }
 },
 "nbformat": 4,
 "nbformat_minor": 4
}
