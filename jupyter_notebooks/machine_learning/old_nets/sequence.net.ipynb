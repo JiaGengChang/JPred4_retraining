{
 "cells": [
  {
   "cell_type": "markdown",
   "metadata": {},
   "source": [
    "# Prototype Pipeline for PSSM network (cont'd)\n",
    "The aim of this bare-bones pipeline is to be the prototype pipeline for retraining jnet in python. It uses only PSSM information, leaving out the HMM profiles for now. Reason PSSM profiles are used is because PSSM profiles are readily available. HMM profiles not available in retr231 folder.\n",
    "The following list outlines the key steps in the pipeline:\n",
    "\n",
    "### First notebook (PSSM_parse.ipynb)\n",
    "1. load PSSM matrices of training and blind-test sets (DONE)\n",
    "\n",
    "2. incorporate DSSP information of training and blind-test set (DONE)\n",
    "\n",
    "### Second notebook (PSSM_patternify.ipynb)\n",
    "\n",
    "3. Generate patterns from PSSM profiles using sliding window (DONE)\n",
    "\n",
    "### Third notebook (PSSM_linearize.ipynb)\n",
    "\n",
    "4. linearize patterns (DONE)\n",
    "\n",
    "### **Fourth notebook (PSSM_net.ipynb)**\n",
    "\n",
    "5. write and train ML model\n",
    "\n",
    "6. make predictions on blind-test set\n",
    "\n",
    "7. score accuracy"
   ]
  },
  {
   "cell_type": "markdown",
   "metadata": {},
   "source": [
    "Import core modules"
   ]
  },
  {
   "cell_type": "code",
   "execution_count": 1,
   "metadata": {},
   "outputs": [],
   "source": [
    "import pandas as pd\n",
    "from sklearn.model_selection import train_test_split\n",
    "from tensorflow import keras\n",
    "from tensorflow.keras import layers\n",
    "from sklearn.preprocessing import OneHotEncoder\n",
    "from sklearn.impute import SimpleImputer\n",
    "import numpy as np\n",
    "import pickle"
   ]
  },
  {
   "cell_type": "markdown",
   "metadata": {},
   "source": [
    "# Preprocssing stage - imputation and one hot encoding"
   ]
  },
  {
   "cell_type": "markdown",
   "metadata": {},
   "source": [
    "Load datasets"
   ]
  },
  {
   "cell_type": "code",
   "execution_count": 8,
   "metadata": {},
   "outputs": [],
   "source": [
    "data_path = '/homes/2472402/data/linearized_train_data.pkl'\n",
    "data = pickle.load(open( data_path, 'rb' ))"
   ]
  },
  {
   "cell_type": "markdown",
   "metadata": {},
   "source": [
    "Preprocess test, validation, and train datasets. This includes one-hot encoding of dssp information."
   ]
  },
  {
   "cell_type": "code",
   "execution_count": 18,
   "metadata": {},
   "outputs": [],
   "source": [
    "# simple imputation\n",
    "imp = SimpleImputer(missing_values = np.nan, strategy = 'constant', fill_value = 0) # NaN with 0, a number that virtually does not occur in the squashed matrix\n",
    "df = pd.DataFrame(imp.fit_transform(data))\n",
    "\n",
    "# separate target (column named 'dssp') from predictors\n",
    "X, y = df.iloc[:,:-1], df.iloc[:,-1] \n",
    "\n",
    "# one hot encoding for y and y_test\n",
    "# important to supply categories argument, otherwise it is random assignment of which column represents H, E, and -\n",
    "enc = OneHotEncoder(handle_unknown='ignore', sparse=False, categories = [['H','E','-']])\n",
    "def one_hot(y):\n",
    "    y_as_col = y.values.reshape(-1,1)\n",
    "    y_one_hot = pd.DataFrame(enc.fit_transform(y_as_col)) # only transform, do not call fit_transform\n",
    "    return y_one_hot\n",
    "\n",
    "y = one_hot(y) # transform y from 1 to 3 columns"
   ]
  },
  {
   "cell_type": "markdown",
   "metadata": {},
   "source": [
    "Save the data"
   ]
  },
  {
   "cell_type": "code",
   "execution_count": 19,
   "metadata": {},
   "outputs": [],
   "source": [
    "# save the data\n",
    "with open('/homes/2472402/data/preprocessed_train_data.pkl', 'wb') as f:\n",
    "    pickle.dump([X,y], f, protocol=pickle.HIGHEST_PROTOCOL)"
   ]
  },
  {
   "cell_type": "markdown",
   "metadata": {},
   "source": [
    "# Neural network training loop"
   ]
  },
  {
   "cell_type": "markdown",
   "metadata": {},
   "source": [
    "Load input data"
   ]
  },
  {
   "cell_type": "code",
   "execution_count": 20,
   "metadata": {},
   "outputs": [],
   "source": [
    "[X, y] = pickle.load(open('/homes/2472402/data/preprocessed_train_data.pkl', 'rb'))"
   ]
  },
  {
   "cell_type": "markdown",
   "metadata": {},
   "source": [
    "Workaround for error if this step is skipped:\n",
    "ValueError: Failed to convert a NumPy array to a Tensor (Unsupported object type int)."
   ]
  },
  {
   "cell_type": "code",
   "execution_count": 21,
   "metadata": {},
   "outputs": [],
   "source": [
    "X = np.asarray(X).astype(np.float32)\n",
    "y = np.asarray(y).astype(np.float32)"
   ]
  },
  {
   "cell_type": "markdown",
   "metadata": {},
   "source": [
    "Split training and validation sets"
   ]
  },
  {
   "cell_type": "code",
   "execution_count": 22,
   "metadata": {},
   "outputs": [],
   "source": [
    "# break off validation set from training data\n",
    "X_train, X_valid, y_train, y_valid = train_test_split(X, y, train_size=6000, test_size=1000, random_state=1)"
   ]
  },
  {
   "cell_type": "markdown",
   "metadata": {},
   "source": [
    "Define model, keeping as close to Jnet v2.3.1 as possible"
   ]
  },
  {
   "cell_type": "code",
   "execution_count": 23,
   "metadata": {},
   "outputs": [],
   "source": [
    "# define a simple model for sequence to structure prediction\n",
    "model = keras.Sequential([\n",
    "    # 340 input nodes,\n",
    "    # 100 hidden nodes (same as jnet 2.3.1)\n",
    "    layers.Dense(units=100, activation='sigmoid', input_shape=[340]), \n",
    "    # 3 output nodes\n",
    "    layers.Dense(units=3, activation='softmax')\n",
    "])\n",
    "\n",
    "# compile mode. note metrics argument is left out\n",
    "model.compile(\n",
    "    optimizer='sgd', \n",
    "    loss='categorical_crossentropy',\n",
    "    metrics=['accuracy']\n",
    ")"
   ]
  },
  {
   "cell_type": "markdown",
   "metadata": {},
   "source": [
    "Fit model (keep train size small for this to load faster)"
   ]
  },
  {
   "cell_type": "code",
   "execution_count": 24,
   "metadata": {},
   "outputs": [
    {
     "name": "stdout",
     "output_type": "stream",
     "text": [
      "INFO:tensorflow:Assets written to: /homes/2472402/data/layer1.model/assets\n"
     ]
    }
   ],
   "source": [
    "history = model.fit(\n",
    "    X_train, y_train,\n",
    "    validation_data=(X_valid, y_valid),\n",
    "    batch_size=128, # not optimised\n",
    "    epochs=250, # same as jnet v2.3.1\n",
    "    verbose=0, # suppress output since we'll plot the curves\n",
    ")\n",
    "history_df = pd.DataFrame(history.history)\n",
    "\n",
    "model.save('/homes/2472402/data/layer1.model')"
   ]
  },
  {
   "cell_type": "markdown",
   "metadata": {},
   "source": [
    "Plot results - want to see validation loss plateau above training loss"
   ]
  },
  {
   "cell_type": "code",
   "execution_count": 25,
   "metadata": {},
   "outputs": [
    {
     "name": "stdout",
     "output_type": "stream",
     "text": [
      "Minimum validation loss: 0.651054322719574\n"
     ]
    },
    {
     "data": {
      "image/png": "[encoded data removed]",
      "text/plain": [
       "<Figure size 432x288 with 1 Axes>"
      ]
     },
     "metadata": {
      "needs_background": "light"
     },
     "output_type": "display_data"
    }
   ],
   "source": [
    "# review results\n",
    "history_df.loc[:, ['loss', 'val_loss']].plot()\n",
    "print(\"Minimum validation loss: {}\".format(history_df['val_loss'].min()))"
   ]
  }
 ],
 "metadata": {
  "kernelspec": {
   "display_name": "Python [conda env:sandbox]",
   "language": "python",
   "name": "conda-env-sandbox-py"
  },
  "language_info": {
   "codemirror_mode": {
    "name": "ipython",
    "version": 3
   },
   "file_extension": ".py",
   "mimetype": "text/x-python",
   "name": "python",
   "nbconvert_exporter": "python",
   "pygments_lexer": "ipython3",
   "version": "3.9.5"
  }
 },
 "nbformat": 4,
 "nbformat_minor": 4
}
