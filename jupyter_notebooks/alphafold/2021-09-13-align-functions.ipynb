{
 "cells": [
  {
   "cell_type": "code",
   "execution_count": 315,
   "id": "301b7077-d0a9-4dee-a7e7-5edcef8ba75f",
   "metadata": {
    "tags": []
   },
   "outputs": [],
   "source": [
    "import pandas as pd\n",
    "import numpy as np\n",
    "import os\n",
    "from joblib import Parallel, delayed\n",
    "\n",
    "pd.options.display.max_rows=999\n",
    "pd.options.display.max_columns=999\n",
    "\n",
    "def align(s1,s2,debug=False):\n",
    "    assert len(s1) > 0 and len(s2) > 0\n",
    "    \n",
    "    m = len(s1)\n",
    "    n = len(s2)\n",
    "    \n",
    "    # for debugging\n",
    "    global dp\n",
    "    dp = np.zeros((m+1,n+1),dtype=np.int32)\n",
    "    \n",
    "    for i in range(1,m+1):\n",
    "        for j in range(1,n+1):\n",
    "            if s1[i-1:i] == s2[j-1:j]:\n",
    "                dp[i][j] = max(dp[i-1][j-1] + 1, max(dp[i-1][j]-2, dp[i][j-1]-2))\n",
    "            else:\n",
    "                dp[i][j] = max(dp[i-1][j-1] - 1, max(dp[i-1][j]-2, dp[i][j-1]-2))\n",
    "        \n",
    "    # we want whole of s2 to be aligned\n",
    "    # initialize j as last col\n",
    "    # initialize i as max row\n",
    "    max_row_val = np.NINF\n",
    "    max_i = np.nan\n",
    "    for irow in range(1,len(s1)+1):\n",
    "        if dp[irow][len(s2)-1] > max_row_val:\n",
    "            max_row_val = dp[irow][len(s2)-1]\n",
    "            max_i = irow\n",
    "    \n",
    "    max_col_val = np.NINF\n",
    "    max_j = np.nan\n",
    "    for icol in range(1,len(s2)+1):\n",
    "        if dp[len(s1)-1][icol] > max_col_val:\n",
    "            max_col_val = dp[len(s1)-1][icol]\n",
    "            max_j = icol\n",
    "    \n",
    "    if debug:\n",
    "        print(f'max_row_val: {max_row_val}, max_i: {max_i}')\n",
    "        print(f'max_col_val: {max_col_val}, max_j: {max_j}')\n",
    "    \n",
    "    # keep track of bit mask\n",
    "    mask1 = np.zeros((m,),dtype=np.byte)\n",
    "    mask2 = np.zeros((n,),dtype=np.byte)\n",
    "\n",
    "    # decide whether to start from last row or last col\n",
    "    # initialize i and j accordingly\n",
    "    # at the same time add starting cell to mask\n",
    "    if max_row_val >= max_col_val:\n",
    "        i = max_i\n",
    "        j = len(s2)\n",
    "        mask1[i-1] = 1\n",
    "        mask2[j-1] = 1\n",
    "        if debug:\n",
    "            print('starting from last column')\n",
    "            print(f'Assigned 1 at mask1: {i-1}, mask2: {j-1}')\n",
    "    else:\n",
    "        i = len(s1)\n",
    "        j = max_j\n",
    "        mask1[i-1] = 1\n",
    "        mask2[j-1] = 1\n",
    "        if debug:\n",
    "            print('starting from last row')\n",
    "            print(f'Assigned 1 at mask1: {i-1}, mask2: {j-1}')\n",
    "\n",
    "    if debug:\n",
    "        print(f'Starting scoring of dp with i: {i}, j: {j}')\n",
    "        \n",
    "    # score for best path\n",
    "    score = 0\n",
    "    \n",
    "    while i != 0:\n",
    "        while j != 0:\n",
    "            curr = dp[i][j]\n",
    "            diag = dp[i-1][j-1] \n",
    "            left = dp[i][j-1] \n",
    "            abov = dp[i-1][j]\n",
    "            score += curr\n",
    "            if diag >= left and diag >= abov:\n",
    "                mask1[i-1] = 1\n",
    "                mask2[j-1] = 1\n",
    "                i = i - 1\n",
    "                j = j - 1\n",
    "            elif left >= diag and left >= abov:\n",
    "                j = j - 1\n",
    "            elif abov >= left and abov >= diag:\n",
    "                i = i - 1\n",
    "            else:\n",
    "                print(f'unhandled error for {i},{j}')\n",
    "                break\n",
    "        break\n",
    "     \n",
    "    return mask1,mask2,score\n",
    "\n",
    "\n",
    "def align_all(input_df):\n",
    "    \n",
    "    df = pd.DataFrame()\n",
    "\n",
    "    def for_joblib(series):\n",
    "        seqID = series.seqID\n",
    "        s1 = series.AF_sequence\n",
    "        s2 = series.jpred_sequence\n",
    "        hits_s1,hits_s2,score = align(s1,s2)\n",
    "        return df.append([{'seqID': seqID, 'score' : score, 'AF_sequence':s1,'AF_align':hits_s1, 'jpred_sequence':s2,'jpred_align':hits_s2}])\n",
    "\n",
    "    df_list = Parallel(n_jobs=-1,verbose=1)(\n",
    "        delayed(for_joblib)(row) for _,row in input_df.iterrows()\n",
    "    )\n",
    "    df = pd.concat(df_list, ignore_index=True)\n",
    "    \n",
    "    return df\n",
    "\n",
    "def split(word):\n",
    "    return [c for c in word]\n",
    "\n",
    "def compress(seq,mask):\n",
    "    return ''.join([s for s, m in zip(seq,mask) if m])\n",
    "\n",
    "def string(byte_array):\n",
    "    return ''.join(byte_array.astype(str))\n",
    "\n",
    "def pad_jpred():\n",
    "    global AF_align, jpred_align, AF_sequence, jpred_sequence\n",
    "    i = 0\n",
    "    j = 0\n",
    "    lower = []\n",
    "    while i < len(AF_align): # and j < len(jpred_align):\n",
    "        j = min(j, len(jpred_align)-1)\n",
    "        if AF_align[i] and jpred_align[j]:\n",
    "            lower.append(jpred_sequence[j])\n",
    "            i += 1\n",
    "            j += 1\n",
    "        elif AF_align[i] and not jpred_align[j]:\n",
    "            lower.append('-')\n",
    "            j += 1\n",
    "        elif not AF_align[i]:\n",
    "            lower.append('-')\n",
    "            i += 1\n",
    "        else:\n",
    "            print('unhandled error')\n",
    "            break\n",
    "    return lower"
   ]
  },
  {
   "cell_type": "code",
   "execution_count": 306,
   "id": "5783127c-d8ef-4bac-8099-8c065236f179",
   "metadata": {},
   "outputs": [
    {
     "name": "stderr",
     "output_type": "stream",
     "text": [
      "[Parallel(n_jobs=-1)]: Using backend LokyBackend with 64 concurrent workers.\n",
      "[Parallel(n_jobs=-1)]: Done  18 out of  72 | elapsed:    0.4s remaining:    1.3s\n",
      "[Parallel(n_jobs=-1)]: Done  72 out of  72 | elapsed:    4.1s finished\n"
     ]
    }
   ],
   "source": [
    "os.chdir('/cluster/gjb_lab/2472402/.')\n",
    "df = pd.read_csv('summary_table.csv')\n",
    "\n",
    "aligned_df = align_all(df[:72])\n",
    "\n",
    "it = aligned_df.iterrows()"
   ]
  },
  {
   "cell_type": "code",
   "execution_count": 313,
   "id": "46f89462-3f6e-4ed6-babe-f05865d83191",
   "metadata": {},
   "outputs": [
    {
     "name": "stdout",
     "output_type": "stream",
     "text": [
      "24716\n",
      "7377\n",
      "MSQWNQVQQLEIKFLEQVDQFYDDNFPMEIRHLLAQWIETQDWEVASNNETMATILLQNLLIQLDEQLGRVSKEKNLLLIHNLKRIRKVLQGKFHGNPMHVAVVISNCLREERRILAAANMPIQGPLEKSLQSSSVSERQRNVEHKVSAIKNSVQMTEQDTKYLEDLQDEFDYRYKTIQTMDQGDKNSILVNQEVLTLLQEMLNSLDFKRKEALSKMTQIVNETDLLMNSMLLEELQDWKKRQQIACIGGPLHNGLDQLQNCFTLLAESLFQLRQQLEKLQEQSTKMTYEGDPIPAQRAHLLERATFLIYNLFKNSFVVERQPCMPTHPQRPMVLKTLIQFTVKLRLLIKLPELNYQVKVKASIDKNVSTLSNRRFVLCGTHVKAMSSEESSNGSLSVEFRHLQPKEMKCSTGSKGNEGCHMVTEELHSITFETQICLYGLTINLETSSLPVVMISNVSQLPNAWASIIWYNVSTNDSQNLVFFNNPPSVTLGQLLEVMSWQFSSYVGRGLNSEQLNMLAEKLTVQSNYNDGHLTWAKFCKEHLPGKTFTFWTWLEAILDLIKKHILPLWIDGYIMGFVSKEKERLLLKDKMPGTFLLRFSESHLGGITFTWVDQSENGEVRFHSVEPYNKGRLSALAFADILRDYKVIMAENIPENPLKYLYPDIPKDKAFGKHYSSQPCEVSRPTERGDKGYVPSVFIPISTIRSDSTEPQSPSDLLPMSPSAYAVLRENLSPTTIETAMNSPYSAE\n",
      "GGSQWNQVQQLEIKFLEQVDQFYDDNFPMEIRHLLAQWIETQDWEVASNNETMATILLQNLLIQLDEQLGRVSKEKNLLLIHNLKRIRKVLQGKFHGNPMHVAVVISNCLREERRILAAANM--------------------------------------------------------------------------------------------------------------------------------------------------------------------------------------------------------------------------------------------------------------------------------------------------------------------------------------------------------------------------------------------------------------------------------------------------------------------------------------------------------------------------------------------------------------------------------------------------------------------------------------------------P\n",
      "GGSQWNQVQQLEIKFLEQVDQFYDDNFPMEIRHLLAQWIETQDWEVASNNETMATILLQNLLIQLDEQLGRVSKEKNLLLIHNLKRIRKVLQGKFHGNPMHVAVVISNCLREERRILAAANMPI\n"
     ]
    }
   ],
   "source": [
    "i, (seqID, score, AF_sequence, AF_align, jpred_sequence, jpred_align) = it.__next__()\n",
    "print(seqID)\n",
    "print(score)\n",
    "#print(AF_sequence)\n",
    "#print(string(AF_align))\n",
    "#print(jpred_sequence)\n",
    "#print(string(jpred_align))\n",
    "#print(compress(AF_sequence,AF_align))\n",
    "#print(compress(jpred_sequence,jpred_align))\n",
    "#print(' '*100)\n",
    "print(AF_sequence)\n",
    "print(''.join(pad_jpred()))\n",
    "print(jpred_sequence)"
   ]
  },
  {
   "cell_type": "markdown",
   "id": "5952dffc-6acd-4386-ae36-7292a856551e",
   "metadata": {},
   "source": [
    "Debugging use"
   ]
  },
  {
   "cell_type": "code",
   "execution_count": 314,
   "id": "c7022dcc-7a98-485c-8619-16d413fef375",
   "metadata": {},
   "outputs": [
    {
     "name": "stdout",
     "output_type": "stream",
     "text": [
      "24716\n",
      "7377\n",
      "MSQWNQVQQLEIKFLEQVDQFYDDNFPMEIRHLLAQWIETQDWEVASNNETMATILLQNLLIQLDEQLGRVSKEKNLLLIHNLKRIRKVLQGKFHGNPMHVAVVISNCLREERRILAAANMPIQGPLEKSLQSSSVSERQRNVEHKVSAIKNSVQMTEQDTKYLEDLQDEFDYRYKTIQTMDQGDKNSILVNQEVLTLLQEMLNSLDFKRKEALSKMTQIVNETDLLMNSMLLEELQDWKKRQQIACIGGPLHNGLDQLQNCFTLLAESLFQLRQQLEKLQEQSTKMTYEGDPIPAQRAHLLERATFLIYNLFKNSFVVERQPCMPTHPQRPMVLKTLIQFTVKLRLLIKLPELNYQVKVKASIDKNVSTLSNRRFVLCGTHVKAMSSEESSNGSLSVEFRHLQPKEMKCSTGSKGNEGCHMVTEELHSITFETQICLYGLTINLETSSLPVVMISNVSQLPNAWASIIWYNVSTNDSQNLVFFNNPPSVTLGQLLEVMSWQFSSYVGRGLNSEQLNMLAEKLTVQSNYNDGHLTWAKFCKEHLPGKTFTFWTWLEAILDLIKKHILPLWIDGYIMGFVSKEKERLLLKDKMPGTFLLRFSESHLGGITFTWVDQSENGEVRFHSVEPYNKGRLSALAFADILRDYKVIMAENIPENPLKYLYPDIPKDKAFGKHYSSQPCEVSRPTERGDKGYVPSVFIPISTIRSDSTEPQSPSDLLPMSPSAYAVLRENLSPTTIETAMNSPYSAE\n",
      "11111111111111111111111111111111111111111111111111111111111111111111111111111111111111111111111111111111111111111111111111000000000000000000000000000000000000000000000000000000000000000000000000000000000000000000000000000000000000000000000000000000000000000000000000000000000000000000000000000000000000000000000000000000000000000000000000000000000000000000000000000000000000000000000000000000000000000000000000000000000000000000000000000000000000000000000000000000000000000000000000000000000000000000000000000000000000000000000000000000000000000000000000000000000000000000000000000000000000000000000000000000000000000000000000000000000000000000000000000000000000000000000000000000000000000000000000000000000000000000000000000000000000000000000000001 \n",
      "\n",
      "GGSQWNQVQQLEIKFLEQVDQFYDDNFPMEIRHLLAQWIETQDWEVASNNETMATILLQNLLIQLDEQLGRVSKEKNLLLIHNLKRIRKVLQGKFHGNPMHVAVVISNCLREERRILAAANM--------------------------------------------------------------------------------------------------------------------------------------------------------------------------------------------------------------------------------------------------------------------------------------------------------------------------------------------------------------------------------------------------------------------------------------------------------------------------------------------------------------------------------------------------------------------------------------------------------------------------------------------------P \n",
      "\n",
      "GGSQWNQVQQLEIKFLEQVDQFYDDNFPMEIRHLLAQWIETQDWEVASNNETMATILLQNLLIQLDEQLGRVSKEKNLLLIHNLKRIRKVLQGKFHGNPMHVAVVISNCLREERRILAAANMPI\n",
      "1111111111111111111111111111111111111111111111111111111111111111111111111111111111111111111111111111111111111111111111111111 \n",
      "\n",
      "MSQWNQVQQLEIKFLEQVDQFYDDNFPMEIRHLLAQWIETQDWEVASNNETMATILLQNLLIQLDEQLGRVSKEKNLLLIHNLKRIRKVLQGKFHGNPMHVAVVISNCLREERRILAAANMPE\n",
      "GGSQWNQVQQLEIKFLEQVDQFYDDNFPMEIRHLLAQWIETQDWEVASNNETMATILLQNLLIQLDEQLGRVSKEKNLLLIHNLKRIRKVLQGKFHGNPMHVAVVISNCLREERRILAAANMPI\n"
     ]
    }
   ],
   "source": [
    "print(seqID)\n",
    "print(score)\n",
    "print(AF_sequence)\n",
    "print(string(AF_align),'\\n')\n",
    "print(''.join(pad_jpred()),'\\n')\n",
    "print(jpred_sequence)\n",
    "print(string(jpred_align),'\\n')\n",
    "print(compress(AF_sequence,AF_align))\n",
    "print(compress(jpred_sequence,jpred_align))\n"
   ]
  },
  {
   "cell_type": "code",
   "execution_count": 300,
   "id": "05210612-9d20-405d-b0d8-4189a06a9cfa",
   "metadata": {
    "tags": []
   },
   "outputs": [
    {
     "name": "stdout",
     "output_type": "stream",
     "text": [
      "max_row_val: 120, max_i: 122\n",
      "max_col_val: -1, max_j: 1\n",
      "Assigned 1 at mask1: 121, mask2: 123\n",
      "starting i: 122, j: 124\n"
     ]
    }
   ],
   "source": [
    "dp = pd.DataFrame()\n",
    "mask1, mask2, _ = align(AF_sequence,jpred_sequence,True)\n",
    "#pd.DataFrame(dp,index=['-']+split(AF_sequence),columns=['-']+split(jpred_sequence))"
   ]
  },
  {
   "cell_type": "code",
   "execution_count": 288,
   "id": "ea209724-1d19-454f-8208-76a8c344d9ee",
   "metadata": {},
   "outputs": [
    {
     "data": {
      "text/plain": [
       "'11111111111111111111111111111111111111111111111111111111111111111111111111111111111111111111111111111111111111111111111111100000000000000000000000000000000000000000000000000000000000000000000000000000000000000000000000000000000000000000000000000000000000000000000000000000000000000000000000000000000000000000000000000000000000000000000000000000000000000000000000000000000000000000000000000000000000000000000000000000000000000000000000000000000000000000000000000000000000000000000000000000000000000000000000000000000000000000000000000000000000000000000000000000000000000000000000000000000000000000000000000000000000000000000000000000000000000000000000000000000000000000000000000000000000000000000000000000000000000000000000000000000000000000000000001'"
      ]
     },
     "execution_count": 288,
     "metadata": {},
     "output_type": "execute_result"
    }
   ],
   "source": [
    "string(mask1)"
   ]
  },
  {
   "cell_type": "code",
   "execution_count": 289,
   "id": "54ae991b-a283-424f-8f18-3da990dbdb5f",
   "metadata": {},
   "outputs": [
    {
     "data": {
      "text/plain": [
       "'1111111111111111111111111111111111111111111111111111111111111111111111111111111111111111111111111111111111111111111111111111'"
      ]
     },
     "execution_count": 289,
     "metadata": {},
     "output_type": "execute_result"
    }
   ],
   "source": [
    "string(mask2)"
   ]
  }
 ],
 "metadata": {
  "kernelspec": {
   "display_name": "Python [conda env:miniconda-dssp]",
   "language": "python",
   "name": "conda-env-miniconda-dssp-py"
  },
  "language_info": {
   "codemirror_mode": {
    "name": "ipython",
    "version": 3
   },
   "file_extension": ".py",
   "mimetype": "text/x-python",
   "name": "python",
   "nbconvert_exporter": "python",
   "pygments_lexer": "ipython3",
   "version": "3.6.13"
  }
 },
 "nbformat": 4,
 "nbformat_minor": 5
}
