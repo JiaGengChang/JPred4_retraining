{
 "cells": [
  {
   "cell_type": "markdown",
   "id": "72eb6e71-c01c-483b-9a6c-4daf6334e0b6",
   "metadata": {},
   "source": [
    "## Aligning protein sequence of uniprot (AlphaFold) and SCOPe (jpred)"
   ]
  },
  {
   "cell_type": "code",
   "execution_count": 1,
   "id": "214ac54a-3e37-4052-a6af-e9e75ddf6b40",
   "metadata": {},
   "outputs": [],
   "source": [
    "import pylcs\n",
    "import os\n",
    "import pandas as pd\n",
    "import re\n",
    "import sys"
   ]
  },
  {
   "cell_type": "markdown",
   "id": "037ce5b7-ffa6-40ec-bcfa-fd10117bb20a",
   "metadata": {},
   "source": [
    "Function to convert 8 to 3 state dssp"
   ]
  },
  {
   "cell_type": "code",
   "execution_count": 2,
   "id": "f6429f67-c275-4210-8b8f-faacabc73c02",
   "metadata": {},
   "outputs": [],
   "source": [
    "def reduce_dssp(sec_string):\n",
    "    sec_string = re.compile(r'[ST_bGIC?]').sub('-',sec_string) # convert all known non-sheet, non-helix structures to coil\n",
    "    sec_string = re.compile(r'[B]').sub('E',sec_string) # convert B forms to E\n",
    "    sec_string = re.compile(r'~[HE]').sub('-',sec_string) # convert everything not H or E to coil for backup\n",
    "    return sec_string"
   ]
  },
  {
   "cell_type": "markdown",
   "id": "3ddd206f-f6a1-46a8-a168-d704c468e8b4",
   "metadata": {},
   "source": [
    "Run tests for reduce_dssp"
   ]
  },
  {
   "cell_type": "code",
   "execution_count": 3,
   "id": "984067cc-a43f-49a4-ae81-e439cef4494d",
   "metadata": {},
   "outputs": [],
   "source": [
    "test_dssp_8 = '---------SEEEEEETTEEEETTS-EEEEEEEE-SS-EEEEEE-------S---HHHHTT-SS-SEEEEETTTEEEETTS-EEEEEEEEEETTEEEEEEEE----'\n",
    "test_dssp_3 = '----------EEEEEE--EEEE----EEEEEEEE----EEEEEE-----------HHHH-------EEEEE---EEEE----EEEEEEEEEE--EEEEEEEE----'\n",
    "assert test_dssp_3 == reduce_dssp(test_dssp_8)\n",
    "test_dssp_8 = 'WQ0wZtjViB8XpKfQlD8I'\n",
    "test_dssp_3 = 'WQ0wZtjViE8XpKfQlD8-'\n",
    "assert test_dssp_3 == reduce_dssp(test_dssp_8)\n",
    "test_dssp_8 = 'FF5tPEQqE4JnwD2Rob84'\n",
    "test_dssp_3 = 'FF5tPEQqE4JnwD2Ro-84'\n",
    "assert test_dssp_3 == reduce_dssp(test_dssp_8)\n",
    "test_dssp_8 = 'SKREHZfXfgjwJGjdbyAm'\n",
    "test_dssp_3 = '-KREHZfXfgjwJ-jd-yAm'\n",
    "assert test_dssp_3 == reduce_dssp(test_dssp_8)\n",
    "test_dssp_8 = 'fe3qTylkabnoewFxwp9K'\n",
    "test_dssp_3 = 'fe3q-ylka-noewFxwp9K'\n",
    "assert test_dssp_3 == reduce_dssp(test_dssp_8)\n",
    "test_dssp_8 = 'yVGL1j00mrMIvb6G3wQP'\n",
    "test_dssp_3 = 'yV-L1j00mrM-v-6-3wQP'\n",
    "assert test_dssp_3 == reduce_dssp(test_dssp_8)"
   ]
  },
  {
   "cell_type": "markdown",
   "id": "f959af8d-1090-4b58-84ae-d518568bdc41",
   "metadata": {},
   "source": [
    "Function to score an alignment between two sequences of same length "
   ]
  },
  {
   "cell_type": "code",
   "execution_count": 4,
   "id": "4e3467fa-557a-47d3-93c3-aaf3983e4ec6",
   "metadata": {},
   "outputs": [],
   "source": [
    "def per_residue_score(ref,comp):\n",
    "    n = len(ref)\n",
    "    assert n == len(comp)\n",
    "    n_match = 0\n",
    "    for i in range(0,n):\n",
    "        if ref[i:i+1]==comp[i:i+1]:\n",
    "            n_match += 1\n",
    "    return n_match/(n+1e-32)"
   ]
  },
  {
   "cell_type": "markdown",
   "id": "bcd95784-6481-434c-b7b1-94d108ed465d",
   "metadata": {},
   "source": [
    "Run tests for residue by residue scoring function"
   ]
  },
  {
   "cell_type": "code",
   "execution_count": 5,
   "id": "4ec9d1eb-554f-4472-966d-23487d87d9d0",
   "metadata": {},
   "outputs": [],
   "source": [
    "testref=''\n",
    "testcomp=''\n",
    "assert per_residue_score(testref,testcomp)==0\n",
    "\n",
    "testref  = 'MSQWNQVQQLEIKFLEQVDQFYDDNFPMEIRHLLAQWIETQDWEVASNNETMATILLQNLLIQLDEQLGRVSKEKNLLLIHNLKRIRKVLQGKFHGNPMHVAVVISNCLREERRILAAANMPIQ'\n",
    "testcomp = 'GGSQWNQVQQLEIKFLEQVDQFYDDNFPMEIRHLLAQWIETQDWEVASNNETMATILLQNLLIQLDEQLGRVSKEKNLLLIHNLKRIRKVLQGKFHGNPMHVAVVISNCLREERRILAAANMPI'\n",
    "assert per_residue_score(testref,testcomp) == 13/124\n",
    "\n",
    "testref  = 'SQWNQVQQLEIKFLEQVDQFYDDNFPMEIRHLLAQWIETQDWEVASNNETMATILLQNLLIQLDEQLGRVSKEKNLLLIHNLKRIRKVLQGKFHGNPMHVAVVISNCLREERRILAAANMPI'\n",
    "testcomp = 'SQWNQVQQLEIKFLEQVDQFYDDNFPMEIRHLLAQWIETQDWEVASNNETMATILLQNLLIQLDEQLGRVSKEKNLLLIHNLKRIRKVLQGKFHGNPMHVAVVISNCLREERRILAAANMPI'\n",
    "assert per_residue_score(testref,testcomp) == 1"
   ]
  },
  {
   "cell_type": "markdown",
   "id": "28e36ba3-c736-46c4-8002-cb5719b75aa6",
   "metadata": {},
   "source": [
    "Function to align jpred and alphafold sequences"
   ]
  },
  {
   "cell_type": "code",
   "execution_count": 6,
   "id": "9d2ccb1b-9c18-429e-82b6-c3d8d0dd2266",
   "metadata": {},
   "outputs": [],
   "source": [
    "# left_align - alignment based on longest common subsequence\n",
    "# assumption - no indels i.e. no gaps\n",
    "# returns start and end indices to slice compstring with\n",
    "# distance between start and end indices is exactly the length of refstring\n",
    "# in practice \n",
    "# ... refstring is the jpred protein sequence,\n",
    "# ... and compstring is the uniprot/alphafold sequence\n",
    "# this function is used to trim uniprot sequence\n",
    "# if threshold e.g. 0.9 is not met, then start and end indices of 0 and -1 is returned\n",
    "\n",
    "def left_align(refstring,compstring,threshold):\n",
    "    assert threshold <= 1\n",
    "    lref = len(refstring) \n",
    "    lcomp = len(compstring)\n",
    "    assert lref <= lcomp\n",
    "    lsearch = lcomp - lref + 1 # how many amino acid is stringc longer than stringb by\n",
    "    start,end = 0, lref # index to slice comparator string \n",
    "    best_overlap = per_residue_score(refstring,compstring[start:end]) # alignment start from N terminus\n",
    "    best_offset = 0\n",
    "    for offset in range(0,lsearch):\n",
    "        # compare percentage similarity\n",
    "        assert end+offset <= lcomp\n",
    "        test_window = compstring[start+offset:end+offset]\n",
    "        test_overlap = per_residue_score(refstring, test_window)\n",
    "        if test_overlap > best_overlap:\n",
    "            best_overlap = test_overlap\n",
    "            best_offset = offset\n",
    "        else:\n",
    "            pass\n",
    "    \n",
    "    # sanity check on best_offset by using it to slice compstring\n",
    "    best_window = compstring[best_offset:best_offset + lref]\n",
    "    # check we indeed have the best answer (probably unecessary but I'm not a computer scientist)\n",
    "    assert per_residue_score(best_window, refstring) == best_overlap\n",
    "    \n",
    "    if best_overlap >= threshold: \n",
    "        return best_offset, best_overlap\n",
    "    else:\n",
    "        # threshold is not met\n",
    "        return -1, best_overlap"
   ]
  },
  {
   "cell_type": "markdown",
   "id": "1ded6d10-255c-46f2-a761-2b2532496769",
   "metadata": {},
   "source": [
    "Run tests for alignment function"
   ]
  },
  {
   "cell_type": "code",
   "execution_count": 7,
   "id": "2e706a6d-dff3-4d6f-ac0f-1b1dfeaa339a",
   "metadata": {},
   "outputs": [],
   "source": [
    "assert left_align('','',0)[0] == 0\n",
    "\n",
    "assert left_align('','',0)[1] == 0\n",
    "\n",
    "assert left_align('ALIGNMENT','---ALIGNMENT',0)==(3,1)\n",
    "\n",
    "assert left_align('+ALIGNMENT','---ALIGNMENT',0)==(2,0.9)\n",
    "\n",
    "assert left_align('++ALIGNMENT','-ALIGNMENT--',0)==(0,0.0)\n",
    "\n",
    "assert left_align('ALIGAMENTS','ALIGNMENTS',0)==(0,0.9)\n",
    "\n",
    "assert left_align('AILMENTS','ALIGNMENTS',0)==(2,0.625)\n",
    "\n",
    "assert left_align('NKKPVNSWTCEDFLAVDESFQPTAVGFAEALNNKDKPEDAVLDVQGIATVTPAIVQACTQDKQANFKDKVKGEWDKIKK',\n",
    "                 'MKKVLGVILGGLLLLPVVSNAADAQKAADNKKPVNSWTCEDFLAVDESFQPTAVGFAEALNNKDKPEDAVLDVQGIATVTPAIVQACTQDKQANFKDKVKGEWDKIKKDM',\n",
    "                 1)==(29,1)\n",
    "\n",
    "assert left_align('GSASPTPPYLKWAESLHSLLDDQDGISLFRTFLKQEGCADLLDFWFACTGFRKLEPCDSNEEKRLKLARAIYRKYILDNNGIVSRQTKPATKSFIKGCIMKQLIDPAMFDQAQTEIQATMEENTYPSFLKSDIYLEYTRTGSESPKV',\n",
    "                 'MNIQEQGFPLDLGASFTEDAPRPPVPGEEGELVSTDPRPASYSFCSGKGVGIKGETSTATPRRSDLDLGYEPEGSASPTPPYLKWAESLHSLLDDQDGISLFRTFLKQEGCADLLDFWFACTGFRKLEPCDSNEEKRLKLARAIYRKYILDNNGIVSRQTKPATKSFIKGCIMKQLIDPAMFDQAQTEIQATMEENTYPSFLKSDIYLEYTRTGSESPKVCSDQSSGSGTGKGISGYLPTLNEDEEWKCDQDMDEDDGRDAAPPGRLPQKLLLETAAPRVSSSRRYSEGREFRYGSWREPVNPYYVNAGYALAPATSANDSEQQSLSSDADTLSLTDSSVDGIPPYRIRKQHRREMQESVQVNGRVPLPHIPRTYRVPKEVRVEPQKFAEELIHRLEAVQRTREAEEKLEERLKRVRMEEEGEDGDPSSGPPGPCHKLPPAPAWHHFPPRCVDMGCAGLRDAHEENPESILDEHVQRVLRTPGRQSPGPGHRSPDSGHVAKMPVALGGAASGHGKHVPKSGAKLDAAGLHHHRHVHHHVHHSTARPKEQVEAEATRRAQSSFAWGLEPHSHGARSRGYSESVGAAPNASDGLAHSGKVGVACKRNAKKAESGKSASTEVPGASEDAEKNQKIMQWIIEGEKEISRHRRTGHGSSGTRKPQPHENSRPLSLEHPWAGPQLRTSVQPSHLFIQDPTMPPHPAPNPLTQLEEARRRLEEEEKRASRAPSKQRYVQEVMRRGRACVRPACAPVLHVVPAVSDMELSETETRSQRKVGGGSAQPCDSIVVAYYFCGEPIPYRTLVRGRAVTLGQFKELLTKKGSYRYYFKKVSDEFDCGVVFEEVREDEAVLPVFEEKIIGKVEKVD',\n",
    "                 1)==(73,1)\n",
    "\n",
    "assert left_align('RIPTDPTMYRFYEMLQVYGTTLKALVHEKFGDGIISAINFKLDVKKVADPEGGERAVITLDGKYLPTKPF',\n",
    "                 'MIQSQINRNIRLDLADAILLSKAKKDLSFAEIADGTGLAEAFVTAALLGQQALPADAARLVGAKLDLDEDSILLLQMIPLRGCIDDRIPTDPTMYRFYEMLQVYGTTLKALVHEKFGDGIISAINFKLDVKKVADPEGGERAVITLDGKYLPTKPF',\n",
    "                 1)==(86,1)\n",
    "\n",
    "assert left_align('NERNISRLWRAFRTVKEMVKDRGYFITQEEVELPLEDFKAKYCDSMGRPQRKMMSFQANPTEESISKFPDMGSLWVEFCDEPSVGVKTMKTFVIHIQEKNFQTGIFVYQNNITPSAMKLVPSIPPATIETFNEAALVVN',\n",
    "                 'MDQENERNISRLWRAFRTVKEMVKDRGYFITQEEVELPLEDFKAKYCDSMGRPQRKMMSFQANPTEESISKFPDMGSLWVEFCDEPSVGVKTMKTFVIHIQEKNFQTGIFVYQNNITPSAMKLVPSIPPATIETFNEAALVVNITHHELVPKHIRLSSDEKRELLKRYRLKESQLPRIQRADPVALYLGLKRGEVVKIIRKSETSGRYASYRICM',\n",
    "                 1)==(4,1)\n",
    "\n",
    "assert left_align('SQWNQVQQLEIKFLEQVDQFYDDNFPMEIRHLLAQWIETQDWEVASNNETMATILLQNLLIQLDEQLGRVSKEKNLLLIHNLKRIRKVLQGKFHGNPMHVAVVISNCLREERRILAAANMPI',\n",
    "                  'MSQWNQVQQLEIKFLEQVDQFYDDNFPMEIRHLLAQWIETQDWEVASNNETMATILLQNLLIQLDEQLGRVSKEKNLLLIHNLKRIRKVLQGKFHGNPMHVAVVISNCLREERRILAAANMPIQGPLEKSLQSSSVSERQRNVEHKVSAIKNSVQMTEQDTKYLEDLQDEFDYRYKTIQTMDQGDKNSILVNQEVLTLLQEMLNSLDFKRKEALSKMTQIVNETDLLMNSMLLEELQDWKKRQQIACIGGPLHNGLDQLQNCFTLLAESLFQLRQQLEKLQEQSTKMTYEGDPIPAQRAHLLERATFLIYNLFKNSFVVERQPCMPTHPQRPMVLKTLIQFTVKLRLLIKLPELNYQVKVKASIDKNVSTLSNRRFVLCGTHVKAMSSEESSNGSLSVEFRHLQPKEMKCSTGSKGNEGCHMVTEELHSITFETQICLYGLTINLETSSLPVVMISNVSQLPNAWASIIWYNVSTNDSQNLVFFNNPPSVTLGQLLEVMSWQFSSYVGRGLNSEQLNMLAEKLTVQSNYNDGHLTWAKFCKEHLPGKTFTFWTWLEAILDLIKKHILPLWIDGYIMGFVSKEKERLLLKDKMPGTFLLRFSESHLGGITFTWVDQSENGEVRFHSVEPYNKGRLSALAFADILRDYKVIMAENIPENPLKYLYPDIPKDKAFGKHYSSQPCEVSRPTERGDKGYVPSVFIPISTIRSDSTEPQSPSDLLPMSPSAYAVLRENLSPTTIETAMNSPYSAE',\n",
    "                  1)==(1,1)\n",
    "\n",
    "assert left_align('GGSQWNQVQQLEIKFLEQVDQFYDDNFPMEIRHLLAQWIETQDWEVASNNETMATILLQNLLIQLDEQLGRVSKEKNLLLIHNLKRIRKVLQGKFHGNPMHVAVVISNCLREERRILAAANMPI',\n",
    "                  'MSQWNQVQQLEIKFLEQVDQFYDDNFPMEIRHLLAQWIETQDWEVASNNETMATILLQNLLIQLDEQLGRVSKEKNLLLIHNLKRIRKVLQGKFHGNPMHVAVVISNCLREERRILAAANMPIQGPLEKSLQSSSVSERQRNVEHKVSAIKNSVQMTEQDTKYLEDLQDEFDYRYKTIQTMDQGDKNSILVNQEVLTLLQEMLNSLDFKRKEALSKMTQIVNETDLLMNSMLLEELQDWKKRQQIACIGGPLHNGLDQLQNCFTLLAESLFQLRQQLEKLQEQSTKMTYEGDPIPAQRAHLLERATFLIYNLFKNSFVVERQPCMPTHPQRPMVLKTLIQFTVKLRLLIKLPELNYQVKVKASIDKNVSTLSNRRFVLCGTHVKAMSSEESSNGSLSVEFRHLQPKEMKCSTGSKGNEGCHMVTEELHSITFETQICLYGLTINLETSSLPVVMISNVSQLPNAWASIIWYNVSTNDSQNLVFFNNPPSVTLGQLLEVMSWQFSSYVGRGLNSEQLNMLAEKLTVQSNYNDGHLTWAKFCKEHLPGKTFTFWTWLEAILDLIKKHILPLWIDGYIMGFVSKEKERLLLKDKMPGTFLLRFSESHLGGITFTWVDQSENGEVRFHSVEPYNKGRLSALAFADILRDYKVIMAENIPENPLKYLYPDIPKDKAFGKHYSSQPCEVSRPTERGDKGYVPSVFIPISTIRSDSTEPQSPSDLLPMSPSAYAVLRENLSPTTIETAMNSPYSAE',\n",
    "                  0)==(286,0.14516129032258066)\n",
    "\n",
    "assert left_align('fDVC0%Nc-g^$a3NZQGT2hO_[SsxNsHSEOU3^sS*YP1HEdoQj9_RP/2aq)2lv-D£^£P*)M=0U&WB6yxc[-1a(SQt£hjj0-mmG&*h\"',\n",
    "                  'S!&-CbW3z5)n$m$=[zv[zA91O21ZeKe36-s-[xBy.dIQm3Tl%&X.-8cuLpOCYooC6Wz5]3!Jt262c/2aq)2lv-D£^£P*)(cNk=v£xi9F2_Un/Q5SOS6c',\n",
    "                  0)==(16,0.03)\n",
    "\n",
    "assert left_align('%FDDDSjnmgJ\"=0ht#(N.Aa$QTvVm9-jnUUmLwABZh!y4Sv#v/!u9nsh5V3YatA2ADG$M4\"f/X2KJEU7MXx%$09Qo4zN^VZ^8yf8a',\n",
    "                  '7X1nq£Nvp*-^£LBxGufVm9-naQxYq/nI!&E(YqOv)AD3U=677EXekl4S£mC+&LBPHqtA2ADG$M43^xk&3W(q2L7]3j93Z9(erptrRnQ5AC%5G£BV\"=#',\n",
    "                  0)==(6,0.09)"
   ]
  },
  {
   "cell_type": "markdown",
   "id": "55d1eda2-99f5-410d-84ff-66fe5c2a941a",
   "metadata": {},
   "source": [
    "Function to align a row by calling left_align and dealing with symmetry"
   ]
  },
  {
   "cell_type": "code",
   "execution_count": 8,
   "id": "eb0ddee0-9da7-41b2-80af-6cef73f9b582",
   "metadata": {},
   "outputs": [],
   "source": [
    "# static function\n",
    "def align_row(original_row, threshold=0.9):\n",
    "    row = original_row.copy(deep=True)\n",
    "    truncate = True\n",
    "    lcs_length = pylcs.lcs(row.jpred_sequence, row.AF_sequence)\n",
    "    if len(row.jpred_sequence) <= len(row.AF_sequence):\n",
    "        AF_start, similarity = left_align(row.jpred_sequence, row.AF_sequence, threshold)\n",
    "        \n",
    "        if AF_start == -1:\n",
    "            # could fail because the lcs could start at residue n\n",
    "            # remove n resides from start of jpred sequence\n",
    "            test_jpred_start = len(row.jpred_sequence) - lcs_length\n",
    "            AF_start, similarity = left_align(row.jpred_sequence[test_jpred_start:], row.AF_sequence, threshold)\n",
    "            if AF_start == -1:\n",
    "                # no subsequence with similarity > threshold found\n",
    "                truncate = False\n",
    "            else:\n",
    "                # truncate n terminus of jpred sequence (later)\n",
    "                pass\n",
    "        \n",
    "        if truncate:\n",
    "            # perform truncation\n",
    "            # truncate N terminus of alphafold sequence to match N terminus of jpred sequence\n",
    "            row.AF_sequence = row.AF_sequence[AF_start:]\n",
    "            row.AFpred_8 = row.AFpred_8[AF_start:]\n",
    "            row.AFpred_3 = row.AFpred_3[AF_start:]\n",
    "\n",
    "            # truncate N terminus of jpred sequence\n",
    "            # lcs length does not include single base substitutions\n",
    "            # this can be measured by the edit distance\n",
    "            # offset jpred_start by LCS length AND edit stance \n",
    "            n_substitutions = pylcs.edit_distance(row.AF_sequence)\n",
    "            jpred_start = len(row.jpred_sequence) - lcs_length\n",
    "            row.jpred_sequence = row.jpred_sequence[jpred_start:]\n",
    "            row.jpred_3 = row.jpred_3[jpred_start:]\n",
    "\n",
    "            # truncate C terminus of alphafold sequence\n",
    "            AF_end = lcs_length + jpred_start\n",
    "            row.AF_sequence = row.AF_sequence[:AF_end]\n",
    "            row.AFpred_8 = row.AFpred_8[:AF_end]\n",
    "            row.AFpred_3 = row.AFpred_3[:AF_end]\n",
    "\n",
    "    else:\n",
    "        # jpred sequence is longer than the alphafold sequence\n",
    "        # so do exact same as above but call per_residue_align with arguments swapped\n",
    "        jpred_start, similarity = left_align(row.AF_sequence, row.jpred_sequence, threshold)\n",
    "        \n",
    "        if jpred_start == -1:\n",
    "            # could fail because the lcs could start at residue n\n",
    "            # remove n residues from the jpred sequence\n",
    "            test_AF_start = len(row.AF_sequence) - lcs_length\n",
    "            jpred_start, similarity = left_align(row.AF_sequence[test_AF_start:], row.jpred_sequence, threshold)\n",
    "            # try again\n",
    "            if jpred_start == -1:\n",
    "                # no subsequence with similarity > threshold found\n",
    "                truncate = False\n",
    "            else:\n",
    "                # truncate n terminus of alphafold sequence (later)\n",
    "                pass\n",
    "            \n",
    "        if truncate:\n",
    "            \n",
    "            # truncate N terminus of jpred sequence to match N terminus of alphafold sequence\n",
    "            row.jpred_sequence = row.jpred_sequence[jpred_start:]\n",
    "            row.jpred_3 = row.jpred_3[jpred_start:]\n",
    "            \n",
    "            # truncate N terminus of alphafold sequence\n",
    "            AF_start = len(row.AF_sequence) - lcs_length\n",
    "            row.AF_sequence = row.AF_sequence[AF_start:]\n",
    "            row.AFpred_8 = row.AFpred_8[AF_start:]\n",
    "            row.AFpred_3 = row.AFpred_3[AF_start:]\n",
    "            \n",
    "            # truncate C terminus of jpred sequence\n",
    "            jpred_end = lcs_length + AF_start\n",
    "            row.jpred_sequence = row.jpred_sequence[:jpred_end]\n",
    "            row.jpred_3 = row.jpred_3[:jpred_end]\n",
    "            \n",
    "    assert similarity # should be at least 0\n",
    "    row.loc['similarity'] = similarity\n",
    "    \n",
    "    # for debug\n",
    "    # if no truncation was performed, it is because sequences don't align\n",
    "    if not truncate:\n",
    "        print(f'seqId {row.seqID}: best alignment has similarity below threshold', file=sys.stderr)\n",
    "    \n",
    "    return row"
   ]
  },
  {
   "cell_type": "markdown",
   "id": "02e96c25-5259-4cc8-ba6a-5dc335f7d8bf",
   "metadata": {
    "tags": []
   },
   "source": [
    "# Main routine"
   ]
  },
  {
   "cell_type": "markdown",
   "id": "8d26aaea-6ffc-46d2-a08b-859fa00f5810",
   "metadata": {},
   "source": [
    "Load in input dataframe - already comes with 3 state dssp information"
   ]
  },
  {
   "cell_type": "code",
   "execution_count": 55,
   "id": "b35db69b-dd58-4b8e-adfa-df8a7302bb34",
   "metadata": {},
   "outputs": [],
   "source": [
    "os.chdir('/cluster/gjb_lab/2472402')\n",
    "debug_df = pd.read_csv('debug_table.csv')"
   ]
  },
  {
   "cell_type": "markdown",
   "id": "b85520e3-dce2-47c5-ad87-59465794d4be",
   "metadata": {},
   "source": [
    "Truncate input dataframe"
   ]
  },
  {
   "cell_type": "code",
   "execution_count": 56,
   "id": "7d1e9b03-6799-44fb-bfb9-b4a0cd6a47c5",
   "metadata": {},
   "outputs": [
    {
     "name": "stdout",
     "output_type": "stream",
     "text": [
      "CPU times: user 51.7 ms, sys: 2.22 ms, total: 53.9 ms\n",
      "Wall time: 52.1 ms\n"
     ]
    }
   ],
   "source": [
    "%%time\n",
    "threshold=0.0\n",
    "l = []\n",
    "for i,row in debug_df.iterrows():\n",
    "    aligned_row = align_row(row,threshold)\n",
    "    l.append(aligned_row)\n",
    "debug_df_aligned = pd.concat(l,axis=1).T"
   ]
  },
  {
   "cell_type": "markdown",
   "id": "edd743a7-e28f-4f64-8cba-8e9d027da40b",
   "metadata": {},
   "source": [
    "## Print to summary table, this timed called debug.txt"
   ]
  },
  {
   "cell_type": "markdown",
   "id": "520e10d9-ce86-4e22-a9bf-ca3f6f12fd6b",
   "metadata": {},
   "source": [
    "Add full sequence information"
   ]
  },
  {
   "cell_type": "code",
   "execution_count": 57,
   "id": "3829393d-80c2-4d13-bb42-b9c23c27cb6b",
   "metadata": {},
   "outputs": [],
   "source": [
    "for i,seqID in enumerate([24730,24739,24741,24800,24810,24813]):\n",
    "    jpred_full = sum_df.loc[seqID]['jpred_sequence']\n",
    "    AF_full = sum_df.loc[seqID]['AF_sequence']\n",
    "    debug_df_aligned.loc[i,'jpred_full'] = jpred_full\n",
    "    debug_df_aligned.loc[i,'AF_full'] = AF_full"
   ]
  },
  {
   "cell_type": "code",
   "execution_count": 58,
   "id": "cbb28afa-f45e-45c7-8637-e87c0150c90e",
   "metadata": {},
   "outputs": [],
   "source": [
    "with open('debug_threshold_%.2f.txt'%threshold,'w') as f:\n",
    "    print('Only sequences with similarity > %.2f have been aligned' % threshold, file=f)\n",
    "    for i,row in sum_df_aligned.iterrows():\n",
    "        print('seqID          :',row.seqID,file=f)\n",
    "        print('jpred_full     :',row.jpred_full,file=f)\n",
    "        print('jpred_trunc    :',row.jpred_sequence,file=f)\n",
    "        print('AF____full     :',row.AF_full,file=f)\n",
    "        print('AF____trunc    :',row.AF_sequence,file=f)\n",
    "        print('Similarity     :',row.similarity,file=f)\n",
    "        print('',file=f)"
   ]
  },
  {
   "cell_type": "markdown",
   "id": "0a1a7e9f-db2a-4f3f-a9cf-948d0dc78f12",
   "metadata": {},
   "source": [
    "Do not use"
   ]
  },
  {
   "cell_type": "code",
   "execution_count": null,
   "id": "3865ee25-a3f7-491f-8b6a-b112cf86c171",
   "metadata": {},
   "outputs": [],
   "source": [
    "with open('debug_threshold_%.2f.txt'%threshold,'w') as f:\n",
    "    print('Only sequences with similarity > %.2f have been aligned' % threshold, file=f)\n",
    "    for i,row in sum_df_aligned.iterrows():\n",
    "        print('seqID          :',row.seqID,file=f)\n",
    "        print('domain         :',row.domain,file=f)\n",
    "        print('UniprotId      :',row.uniprotId,file=f)\n",
    "        print('PDBe_sequence  :',row.PDBe_sequence,file=f)\n",
    "        print('DSSP_8         :',row.DSSP8,file=f)\n",
    "        print('DSSP_3         :',row.DSSP3,file=f)\n",
    "        print('jpred_sequence :',row.jpred_sequence,file=f)\n",
    "        print('jpred_3        :',row.jpred_3,file=f)\n",
    "        print('AF_sequence    :',row.AF_sequence,file=f)\n",
    "        print('AFpred_8       :',row.AFpred_8,file=f)\n",
    "        print('AFpred_3       :',row.AFpred_3,file=f)\n",
    "        print('Similarity     :',row.similarity,file=f)\n",
    "        print('',file=f)"
   ]
  },
  {
   "cell_type": "markdown",
   "id": "bcd39fc8-e7b2-4ac4-93c9-e4e50a789a19",
   "metadata": {},
   "source": [
    "# Debugging (new view)"
   ]
  },
  {
   "cell_type": "code",
   "execution_count": 69,
   "id": "a1ebeb04-60a9-46f8-8b9a-91e8644df1d4",
   "metadata": {},
   "outputs": [
    {
     "data": {
      "text/html": [
       "<div>\n",
       "<style scoped>\n",
       "    .dataframe tbody tr th:only-of-type {\n",
       "        vertical-align: middle;\n",
       "    }\n",
       "\n",
       "    .dataframe tbody tr th {\n",
       "        vertical-align: top;\n",
       "    }\n",
       "\n",
       "    .dataframe thead th {\n",
       "        text-align: right;\n",
       "    }\n",
       "</style>\n",
       "<table border=\"1\" class=\"dataframe\">\n",
       "  <thead>\n",
       "    <tr style=\"text-align: right;\">\n",
       "      <th></th>\n",
       "      <th>domain</th>\n",
       "      <th>uniprotId</th>\n",
       "      <th>PDBe_sequence</th>\n",
       "      <th>DSSP8</th>\n",
       "      <th>AFpred_8</th>\n",
       "      <th>AF_sequence</th>\n",
       "      <th>jpred_sequence</th>\n",
       "      <th>jpred_3</th>\n",
       "      <th>DSSP3</th>\n",
       "      <th>AFpred_3</th>\n",
       "      <th>jpred_full</th>\n",
       "      <th>AF_full</th>\n",
       "      <th>similarity</th>\n",
       "    </tr>\n",
       "    <tr>\n",
       "      <th>seqID</th>\n",
       "      <th></th>\n",
       "      <th></th>\n",
       "      <th></th>\n",
       "      <th></th>\n",
       "      <th></th>\n",
       "      <th></th>\n",
       "      <th></th>\n",
       "      <th></th>\n",
       "      <th></th>\n",
       "      <th></th>\n",
       "      <th></th>\n",
       "      <th></th>\n",
       "      <th></th>\n",
       "    </tr>\n",
       "  </thead>\n",
       "  <tbody>\n",
       "    <tr>\n",
       "      <th>24730</th>\n",
       "      <td>d1cfza_</td>\n",
       "      <td>P37182</td>\n",
       "      <td>MRILVLGVGNILLTDEAIGVRIVEALEQRYILPDYVEILDGGTAGM...</td>\n",
       "      <td>--EEEEEES-TTBGGGGHHHHHHHHHHHHEE--TTEEEEEEET--G...</td>\n",
       "      <td>--EEEEEES-TTBGGGGHHHHHHHHHHHHEE--TTEEEEEEET--G...</td>\n",
       "      <td>MRILVLGVGNILLTDEAIGVRIVEALEQRYILPDYVEILDGGTAGM...</td>\n",
       "      <td>ILVLGVGNILLTDEAIGVRIVEALEQRYILPDYVEILDGGTAGMEL...</td>\n",
       "      <td>EEEEEE---------HHHHHHHHHHHH------EEEEEE----HHH...</td>\n",
       "      <td>--EEEEEE----E----HHHHHHHHHHHHEE----EEEEEEE----...</td>\n",
       "      <td>--EEEEEE----E----HHHHHHHHHHHHEE----EEEEEEE----...</td>\n",
       "      <td>MRILVLGVGNILLTDEAIGVRIVEALEQRYILPDYVEILDGGTAGM...</td>\n",
       "      <td>MRILVLGVGNILLTDEAIGVRIVEALEQRYILPDYVEILDGGTAGM...</td>\n",
       "      <td>0.981481</td>\n",
       "    </tr>\n",
       "    <tr>\n",
       "      <th>24739</th>\n",
       "      <td>d1cuka1</td>\n",
       "      <td>P0A809</td>\n",
       "      <td>MIGRLRGIIIEKQPPLVLIEVGGVGYEVHMPMTCFYELPEAGQEAI...</td>\n",
       "      <td>--HHHHHHHHHHHHHT--HHHHHHHHHHS--SS--HHHHHHHHHHTT-</td>\n",
       "      <td>HHHHHHHHHHHHHHTT--HHHHHHHHHTT--TT--HHHHHHHHHHHT-</td>\n",
       "      <td>TDDAEQEAVAALVALGYKPQEASRMVSKIARPDASSETLIREALRAAL</td>\n",
       "      <td>DDAEQEAVARLVALGYKPQEASRMVSKIARPDASSETLIREALRAAL</td>\n",
       "      <td>--HHHHHHHHHHH----HHHHHHHHHHH------HHHHHHHHHHH--</td>\n",
       "      <td>--HHHHHHHHHHHHH---HHHHHHHHHH-------HHHHHHHHHH---</td>\n",
       "      <td>HHHHHHHHHHHHHH----HHHHHHHHH--------HHHHHHHHHHH--</td>\n",
       "      <td>TDDAEQEAVARLVALGYKPQEASRMVSKIARPDASSETLIREALRAAL</td>\n",
       "      <td>MIGRLRGIIIEKQPPLVLIEVGGVGYEVHMPMTCFYELPEAGQEAI...</td>\n",
       "      <td>0.979167</td>\n",
       "    </tr>\n",
       "    <tr>\n",
       "      <th>24741</th>\n",
       "      <td>d1cxzb_</td>\n",
       "      <td>P61586</td>\n",
       "      <td>SMAAIRKKLVIVGDVACGKTCLLIVFSKDQFPEVYVPTVFENYVAD...</td>\n",
       "      <td>--HHHHTT-TTS-TTSHHHHHHHHHHHHHHHHHHHHHHHHHHHHHH...</td>\n",
       "      <td>IIHHHHHHH-TTS-EEEEEE-GGGGG-HHHHHHHHHTT-----HHH...</td>\n",
       "      <td>KWTPEVKHFCPNVPIILVGNKKDLRNDEHTRRELAKMKQEPVKPEE...</td>\n",
       "      <td>ENLRRATTDLGRSLGPVELLLRGSSRRLDLLHQQLQELHAHV</td>\n",
       "      <td>HHHHHHH---HHHHHHHHHHHHHHHHHHHHHHHHHHH-----</td>\n",
       "      <td>--HHHH----------HHHHHHHHHHHHHHHHHHHHHHHHHHHHHH...</td>\n",
       "      <td>--HHHHHHH-----EEEEEE-------HHHHHHHHH-------HHH...</td>\n",
       "      <td>WSLLEQLGLAGADLAAPGVQQQLELERERLRREIRKELKLKEGAEN...</td>\n",
       "      <td>MAAIRKKLVIVGDGACGKTCLLIVFSKDQFPEVYVPTVFENYVADI...</td>\n",
       "      <td>0.139535</td>\n",
       "    </tr>\n",
       "    <tr>\n",
       "      <th>24800</th>\n",
       "      <td>d1fpoa2</td>\n",
       "      <td>P0A6L9</td>\n",
       "      <td>MDYFTLFGLPARYQLDTQALSLRFQDLQRQYHPDKFASGSQAEQLA...</td>\n",
       "      <td>--TT-SSS--S-HHHHHHHHHHHHHHHHHHHHT-HHHHHHHHHHHH...</td>\n",
       "      <td>--SSSTTS----HHHHHHHHHHHHHHHHHHHHT-HHHHHHHHHHHH...</td>\n",
       "      <td>FDLASEQHTVRDTAFLMEQLELREELDEIEQAKDEARLESFIKRVK...</td>\n",
       "      <td>DLASEQHTVRDTAFLMEQLELREELDEIEQAKDEARLESFIKRVKK...</td>\n",
       "      <td>-----------HHHHHHHHHHHHHHHHHH----HHHHHHHHHHHHH...</td>\n",
       "      <td>------------HHHHHHHHHHHHHHHHHHHH--HHHHHHHHHHHH...</td>\n",
       "      <td>------------HHHHHHHHHHHHHHHHHHHH--HHHHHHHHHHHH...</td>\n",
       "      <td>FDLASEQHTVRDTAFLMEQLELREELDEIEQAKDEARLESFIKRVK...</td>\n",
       "      <td>MDYFTLFGLPARYQLDTQALSLRFQDLQRQYHPDKFASGSQAEQLA...</td>\n",
       "      <td>0.989474</td>\n",
       "    </tr>\n",
       "    <tr>\n",
       "      <th>24810</th>\n",
       "      <td>d1g73a_</td>\n",
       "      <td>Q9NR28</td>\n",
       "      <td>AVPIAQKSEPHSLSSEALMRRAVSLVTDSTSTDLSQTTYALIEAIT...</td>\n",
       "      <td>-EE----------HHHHHHHHHHHHHHHHHHHHHHHHHHHHHHHHH...</td>\n",
       "      <td>----------SSHHHHHHHHHHHHHHHHHHHHHHHHHHHHHHHHHH...</td>\n",
       "      <td>AVPIAQKSEPHSLSSEALMRRAVSLVTDSTSTFLSQTTYALIEAIT...</td>\n",
       "      <td>VPIAQKSEPHSLSSEALMRRAVSLVTDSTSTDLSQTTYALIEAITE...</td>\n",
       "      <td>-------------HHHHHHHHHHHHHHHHHHHHHHHHHHHHHHHHH...</td>\n",
       "      <td>-EE----------HHHHHHHHHHHHHHHHHHHHHHHHHHHHHHHHH...</td>\n",
       "      <td>------------HHHHHHHHHHHHHHHHHHHHHHHHHHHHHHHHHH...</td>\n",
       "      <td>AVPIAQKSEPHSLSSEALMRRAVSLVTDSTSTDLSQTTYALIEAIT...</td>\n",
       "      <td>MAALKSWLSRSVTSFFRYRQCLCVPVVANFKKRCFSELIRPWHKTV...</td>\n",
       "      <td>0.993631</td>\n",
       "    </tr>\n",
       "    <tr>\n",
       "      <th>24813</th>\n",
       "      <td>d1g8qa_</td>\n",
       "      <td>P60033</td>\n",
       "      <td>FVNKDQIAKDVKQFYDQALQQAVVDDDANNAKAVVKTFHETLDCCG...</td>\n",
       "      <td>---HHHHHHHHHHHHHHHHHHHHH-TT-HHHHHHHHHHHHHHT--S...</td>\n",
       "      <td>HHTHHHHHHHHHHHHHHHHHHHHH-SS-HHHHHHHHHHHHHHT--S...</td>\n",
       "      <td>FVNKDQIAKDVKQFYDQALQQAVVDDDANNAKAVVKTFHETLDCCG...</td>\n",
       "      <td>VNKDQIAKDVKQFYDQALQQAVVDDDANNAKAVVKTFHETLDCCGS...</td>\n",
       "      <td>---HHHHHHHHHHHHHHHHHH-------HHHHHHHHHHHHH-----...</td>\n",
       "      <td>---HHHHHHHHHHHHHHHHHHHHH----HHHHHHHHHHHHHH----...</td>\n",
       "      <td>HH-HHHHHHHHHHHHHHHHHHHHH----HHHHHHHHHHHHHH----...</td>\n",
       "      <td>FVNKDQIAKDVKQFYDQALQQAVVDDDANNAKAVVKTFHETLDCCG...</td>\n",
       "      <td>MGVEGCTKCIKYLLFVFNFVFWLAGGVILGVALWLRHDPQTTNLLY...</td>\n",
       "      <td>0.988889</td>\n",
       "    </tr>\n",
       "  </tbody>\n",
       "</table>\n",
       "</div>"
      ],
      "text/plain": [
       "        domain uniprotId                                      PDBe_sequence  \\\n",
       "seqID                                                                         \n",
       "24730  d1cfza_    P37182  MRILVLGVGNILLTDEAIGVRIVEALEQRYILPDYVEILDGGTAGM...   \n",
       "24739  d1cuka1    P0A809  MIGRLRGIIIEKQPPLVLIEVGGVGYEVHMPMTCFYELPEAGQEAI...   \n",
       "24741  d1cxzb_    P61586  SMAAIRKKLVIVGDVACGKTCLLIVFSKDQFPEVYVPTVFENYVAD...   \n",
       "24800  d1fpoa2    P0A6L9  MDYFTLFGLPARYQLDTQALSLRFQDLQRQYHPDKFASGSQAEQLA...   \n",
       "24810  d1g73a_    Q9NR28  AVPIAQKSEPHSLSSEALMRRAVSLVTDSTSTDLSQTTYALIEAIT...   \n",
       "24813  d1g8qa_    P60033  FVNKDQIAKDVKQFYDQALQQAVVDDDANNAKAVVKTFHETLDCCG...   \n",
       "\n",
       "                                                   DSSP8  \\\n",
       "seqID                                                      \n",
       "24730  --EEEEEES-TTBGGGGHHHHHHHHHHHHEE--TTEEEEEEET--G...   \n",
       "24739   --HHHHHHHHHHHHHT--HHHHHHHHHHS--SS--HHHHHHHHHHTT-   \n",
       "24741  --HHHHTT-TTS-TTSHHHHHHHHHHHHHHHHHHHHHHHHHHHHHH...   \n",
       "24800  --TT-SSS--S-HHHHHHHHHHHHHHHHHHHHT-HHHHHHHHHHHH...   \n",
       "24810  -EE----------HHHHHHHHHHHHHHHHHHHHHHHHHHHHHHHHH...   \n",
       "24813  ---HHHHHHHHHHHHHHHHHHHHH-TT-HHHHHHHHHHHHHHT--S...   \n",
       "\n",
       "                                                AFpred_8  \\\n",
       "seqID                                                      \n",
       "24730  --EEEEEES-TTBGGGGHHHHHHHHHHHHEE--TTEEEEEEET--G...   \n",
       "24739   HHHHHHHHHHHHHHTT--HHHHHHHHHTT--TT--HHHHHHHHHHHT-   \n",
       "24741  IIHHHHHHH-TTS-EEEEEE-GGGGG-HHHHHHHHHTT-----HHH...   \n",
       "24800  --SSSTTS----HHHHHHHHHHHHHHHHHHHHT-HHHHHHHHHHHH...   \n",
       "24810  ----------SSHHHHHHHHHHHHHHHHHHHHHHHHHHHHHHHHHH...   \n",
       "24813  HHTHHHHHHHHHHHHHHHHHHHHH-SS-HHHHHHHHHHHHHHT--S...   \n",
       "\n",
       "                                             AF_sequence  \\\n",
       "seqID                                                      \n",
       "24730  MRILVLGVGNILLTDEAIGVRIVEALEQRYILPDYVEILDGGTAGM...   \n",
       "24739   TDDAEQEAVAALVALGYKPQEASRMVSKIARPDASSETLIREALRAAL   \n",
       "24741  KWTPEVKHFCPNVPIILVGNKKDLRNDEHTRRELAKMKQEPVKPEE...   \n",
       "24800  FDLASEQHTVRDTAFLMEQLELREELDEIEQAKDEARLESFIKRVK...   \n",
       "24810  AVPIAQKSEPHSLSSEALMRRAVSLVTDSTSTFLSQTTYALIEAIT...   \n",
       "24813  FVNKDQIAKDVKQFYDQALQQAVVDDDANNAKAVVKTFHETLDCCG...   \n",
       "\n",
       "                                          jpred_sequence  \\\n",
       "seqID                                                      \n",
       "24730  ILVLGVGNILLTDEAIGVRIVEALEQRYILPDYVEILDGGTAGMEL...   \n",
       "24739    DDAEQEAVARLVALGYKPQEASRMVSKIARPDASSETLIREALRAAL   \n",
       "24741         ENLRRATTDLGRSLGPVELLLRGSSRRLDLLHQQLQELHAHV   \n",
       "24800  DLASEQHTVRDTAFLMEQLELREELDEIEQAKDEARLESFIKRVKK...   \n",
       "24810  VPIAQKSEPHSLSSEALMRRAVSLVTDSTSTDLSQTTYALIEAITE...   \n",
       "24813  VNKDQIAKDVKQFYDQALQQAVVDDDANNAKAVVKTFHETLDCCGS...   \n",
       "\n",
       "                                                 jpred_3  \\\n",
       "seqID                                                      \n",
       "24730  EEEEEE---------HHHHHHHHHHHH------EEEEEE----HHH...   \n",
       "24739    --HHHHHHHHHHH----HHHHHHHHHHH------HHHHHHHHHHH--   \n",
       "24741         HHHHHHH---HHHHHHHHHHHHHHHHHHHHHHHHHHH-----   \n",
       "24800  -----------HHHHHHHHHHHHHHHHHH----HHHHHHHHHHHHH...   \n",
       "24810  -------------HHHHHHHHHHHHHHHHHHHHHHHHHHHHHHHHH...   \n",
       "24813  ---HHHHHHHHHHHHHHHHHH-------HHHHHHHHHHHHH-----...   \n",
       "\n",
       "                                                   DSSP3  \\\n",
       "seqID                                                      \n",
       "24730  --EEEEEE----E----HHHHHHHHHHHHEE----EEEEEEE----...   \n",
       "24739   --HHHHHHHHHHHHH---HHHHHHHHHH-------HHHHHHHHHH---   \n",
       "24741  --HHHH----------HHHHHHHHHHHHHHHHHHHHHHHHHHHHHH...   \n",
       "24800  ------------HHHHHHHHHHHHHHHHHHHH--HHHHHHHHHHHH...   \n",
       "24810  -EE----------HHHHHHHHHHHHHHHHHHHHHHHHHHHHHHHHH...   \n",
       "24813  ---HHHHHHHHHHHHHHHHHHHHH----HHHHHHHHHHHHHH----...   \n",
       "\n",
       "                                                AFpred_3  \\\n",
       "seqID                                                      \n",
       "24730  --EEEEEE----E----HHHHHHHHHHHHEE----EEEEEEE----...   \n",
       "24739   HHHHHHHHHHHHHH----HHHHHHHHH--------HHHHHHHHHHH--   \n",
       "24741  --HHHHHHH-----EEEEEE-------HHHHHHHHH-------HHH...   \n",
       "24800  ------------HHHHHHHHHHHHHHHHHHHH--HHHHHHHHHHHH...   \n",
       "24810  ------------HHHHHHHHHHHHHHHHHHHHHHHHHHHHHHHHHH...   \n",
       "24813  HH-HHHHHHHHHHHHHHHHHHHHH----HHHHHHHHHHHHHH----...   \n",
       "\n",
       "                                              jpred_full  \\\n",
       "seqID                                                      \n",
       "24730  MRILVLGVGNILLTDEAIGVRIVEALEQRYILPDYVEILDGGTAGM...   \n",
       "24739   TDDAEQEAVARLVALGYKPQEASRMVSKIARPDASSETLIREALRAAL   \n",
       "24741  WSLLEQLGLAGADLAAPGVQQQLELERERLRREIRKELKLKEGAEN...   \n",
       "24800  FDLASEQHTVRDTAFLMEQLELREELDEIEQAKDEARLESFIKRVK...   \n",
       "24810  AVPIAQKSEPHSLSSEALMRRAVSLVTDSTSTDLSQTTYALIEAIT...   \n",
       "24813  FVNKDQIAKDVKQFYDQALQQAVVDDDANNAKAVVKTFHETLDCCG...   \n",
       "\n",
       "                                                 AF_full similarity  \n",
       "seqID                                                                \n",
       "24730  MRILVLGVGNILLTDEAIGVRIVEALEQRYILPDYVEILDGGTAGM...   0.981481  \n",
       "24739  MIGRLRGIIIEKQPPLVLIEVGGVGYEVHMPMTCFYELPEAGQEAI...   0.979167  \n",
       "24741  MAAIRKKLVIVGDGACGKTCLLIVFSKDQFPEVYVPTVFENYVADI...   0.139535  \n",
       "24800  MDYFTLFGLPARYQLDTQALSLRFQDLQRQYHPDKFASGSQAEQLA...   0.989474  \n",
       "24810  MAALKSWLSRSVTSFFRYRQCLCVPVVANFKKRCFSELIRPWHKTV...   0.993631  \n",
       "24813  MGVEGCTKCIKYLLFVFNFVFWLAGGVILGVALWLRHDPQTTNLLY...   0.988889  "
      ]
     },
     "execution_count": 69,
     "metadata": {},
     "output_type": "execute_result"
    }
   ],
   "source": [
    "debug_df_aligned = debug_df_aligned.set_index('seqID')\n",
    "debug_df_aligned"
   ]
  },
  {
   "cell_type": "code",
   "execution_count": 70,
   "id": "41572ef7-903a-461c-a5a2-35c564714d19",
   "metadata": {},
   "outputs": [
    {
     "data": {
      "text/plain": [
       "Int64Index([24730, 24739, 24741, 24800, 24810, 24813], dtype='int64', name='seqID')"
      ]
     },
     "execution_count": 70,
     "metadata": {},
     "output_type": "execute_result"
    }
   ],
   "source": [
    "debug_df_aligned.index"
   ]
  },
  {
   "cell_type": "code",
   "execution_count": 74,
   "id": "2c79abfd-1391-4f5e-a978-aa50469f30fe",
   "metadata": {},
   "outputs": [],
   "source": [
    "jpred_sequence = debug_df_aligned.loc[24800]['jpred_sequence']\n",
    "AF_sequence = debug_df_aligned.loc[24800]['AF_sequence']\n",
    "jpred_full = debug_df_aligned.loc[24800]['jpred_full']\n",
    "AF_full = debug_df_aligned.loc[24800]['AF_full']"
   ]
  },
  {
   "cell_type": "code",
   "execution_count": 72,
   "id": "85614311-3761-4ee6-adec-0aaafc8b1bc1",
   "metadata": {},
   "outputs": [
    {
     "data": {
      "text/plain": [
       "'DLASEQHTVRDTAFLMEQLELREELDEIEQAKDEARLESFIKRVKKMFDTRHQLMVEQLDNETWDAAADTCRKLRFLDKLRSSAEQLEEKLLDF'"
      ]
     },
     "execution_count": 72,
     "metadata": {},
     "output_type": "execute_result"
    }
   ],
   "source": [
    "jpred_sequence"
   ]
  },
  {
   "cell_type": "code",
   "execution_count": 73,
   "id": "cbdd366b-1576-4513-b7ae-d5b26adccb91",
   "metadata": {},
   "outputs": [
    {
     "data": {
      "text/plain": [
       "'FDLASEQHTVRDTAFLMEQLELREELDEIEQAKDEARLESFIKRVKKMFDTRHQLMVEQLDNETWDAAADTVRKLRFLDKLRSSAEQLEEKLLDF'"
      ]
     },
     "execution_count": 73,
     "metadata": {},
     "output_type": "execute_result"
    }
   ],
   "source": [
    "AF_sequence"
   ]
  },
  {
   "cell_type": "code",
   "execution_count": 75,
   "id": "bd2a0fc2-0031-42d5-b8bf-853e1de9aa93",
   "metadata": {},
   "outputs": [
    {
     "data": {
      "text/plain": [
       "'FDLASEQHTVRDTAFLMEQLELREELDEIEQAKDEARLESFIKRVKKMFDTRHQLMVEQLDNETWDAAADTCRKLRFLDKLRSSAEQLEEKLLDF'"
      ]
     },
     "execution_count": 75,
     "metadata": {},
     "output_type": "execute_result"
    }
   ],
   "source": [
    "jpred_full"
   ]
  },
  {
   "cell_type": "code",
   "execution_count": 76,
   "id": "fb65f34e-3629-4e28-8161-374eb7d8da69",
   "metadata": {},
   "outputs": [
    {
     "data": {
      "text/plain": [
       "'MDYFTLFGLPARYQLDTQALSLRFQDLQRQYHPDKFASGSQAEQLAAVQQSATINQAWQTLRHPLMRAEYLLSLHGFDLASEQHTVRDTAFLMEQLELREELDEIEQAKDEARLESFIKRVKKMFDTRHQLMVEQLDNETWDAAADTVRKLRFLDKLRSSAEQLEEKLLDF'"
      ]
     },
     "execution_count": 76,
     "metadata": {},
     "output_type": "execute_result"
    }
   ],
   "source": [
    "AF_full"
   ]
  },
  {
   "cell_type": "code",
   "execution_count": 77,
   "id": "143b7ea9-a9fc-4731-b7a2-5025d8e2d3ad",
   "metadata": {},
   "outputs": [
    {
     "data": {
      "text/plain": [
       "93"
      ]
     },
     "execution_count": 77,
     "metadata": {},
     "output_type": "execute_result"
    }
   ],
   "source": [
    "lcs_length = pylcs.lcs(jpred_sequence, AF_sequence)\n",
    "lcs_length"
   ]
  },
  {
   "cell_type": "code",
   "execution_count": 78,
   "id": "181b1fcf-1491-40e2-8a9b-878fd4a4046e",
   "metadata": {},
   "outputs": [
    {
     "data": {
      "text/plain": [
       "True"
      ]
     },
     "execution_count": 78,
     "metadata": {},
     "output_type": "execute_result"
    }
   ],
   "source": [
    "len(jpred_sequence)<=len(AF_sequence)"
   ]
  },
  {
   "cell_type": "code",
   "execution_count": 85,
   "id": "603817e5-4e41-4685-9c09-530f8b3f0e64",
   "metadata": {},
   "outputs": [],
   "source": [
    "AF_start, similarity = left_align(jpred_full,AF_full,0.9)"
   ]
  },
  {
   "cell_type": "code",
   "execution_count": 83,
   "id": "f9a19dcf-1729-4bd1-aadb-f6e0841791b4",
   "metadata": {},
   "outputs": [
    {
     "data": {
      "text/plain": [
       "94"
      ]
     },
     "execution_count": 83,
     "metadata": {},
     "output_type": "execute_result"
    }
   ],
   "source": [
    "len(jpred_sequence)"
   ]
  },
  {
   "cell_type": "code",
   "execution_count": 86,
   "id": "6a18463e-a36d-4f5c-8090-5d2817c888c6",
   "metadata": {},
   "outputs": [],
   "source": [
    "AF_sequence = AF_full[AF_start:]"
   ]
  },
  {
   "cell_type": "code",
   "execution_count": null,
   "id": "49e5410c-e58e-4019-951f-9706c59cbcd3",
   "metadata": {},
   "outputs": [],
   "source": [
    "jpred_start = len(jpred_sequence) - lcs_length"
   ]
  }
 ],
 "metadata": {
  "kernelspec": {
   "display_name": "Python [conda env:miniconda-dssp]",
   "language": "python",
   "name": "conda-env-miniconda-dssp-py"
  },
  "language_info": {
   "codemirror_mode": {
    "name": "ipython",
    "version": 3
   },
   "file_extension": ".py",
   "mimetype": "text/x-python",
   "name": "python",
   "nbconvert_exporter": "python",
   "pygments_lexer": "ipython3",
   "version": "3.6.13"
  }
 },
 "nbformat": 4,
 "nbformat_minor": 5
}
