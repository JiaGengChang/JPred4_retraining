{
 "cells": [
  {
   "cell_type": "markdown",
   "id": "72eb6e71-c01c-483b-9a6c-4daf6334e0b6",
   "metadata": {},
   "source": [
    "## Aligning protein sequence of uniprot (AlphaFold) and SCOPe (jpred)"
   ]
  },
  {
   "cell_type": "code",
   "execution_count": 1,
   "id": "214ac54a-3e37-4052-a6af-e9e75ddf6b40",
   "metadata": {},
   "outputs": [],
   "source": [
    "import pylcs\n",
    "import os\n",
    "import pandas as pd\n",
    "import re\n",
    "import sys"
   ]
  },
  {
   "cell_type": "markdown",
   "id": "53f4b82b-8727-488d-876d-41466d03b0b2",
   "metadata": {},
   "source": [
    "Function to convert 8 to 3 state dssp"
   ]
  },
  {
   "cell_type": "code",
   "execution_count": 2,
   "id": "02be48ff-f8d7-4883-ab99-7932442627f0",
   "metadata": {},
   "outputs": [],
   "source": [
    "def reduce_dssp(sec_string):\n",
    "    sec_string = re.compile(r'[ST_bGIC?]').sub('-',sec_string) # convert all known non-sheet, non-helix structures to coil\n",
    "    sec_string = re.compile(r'[B]').sub('E',sec_string) # convert B forms to E\n",
    "    sec_string = re.compile(r'~[HE]').sub('-',sec_string) # convert everything not H or E to coil for backup\n",
    "    return sec_string"
   ]
  },
  {
   "cell_type": "markdown",
   "id": "9a143d1d-e248-4ea9-9ce3-44e1db58e652",
   "metadata": {},
   "source": [
    "Run tests for reduce_dssp"
   ]
  },
  {
   "cell_type": "code",
   "execution_count": 3,
   "id": "6a109b73-c2b2-43ce-8671-1a4decce0c6d",
   "metadata": {},
   "outputs": [],
   "source": [
    "test_dssp_8 = '---------SEEEEEETTEEEETTS-EEEEEEEE-SS-EEEEEE-------S---HHHHTT-SS-SEEEEETTTEEEETTS-EEEEEEEEEETTEEEEEEEE----'\n",
    "test_dssp_3 = '----------EEEEEE--EEEE----EEEEEEEE----EEEEEE-----------HHHH-------EEEEE---EEEE----EEEEEEEEEE--EEEEEEEE----'\n",
    "assert test_dssp_3 == reduce_dssp(test_dssp_8)\n",
    "test_dssp_8 = 'WQ0wZtjViB8XpKfQlD8I'\n",
    "test_dssp_3 = 'WQ0wZtjViE8XpKfQlD8-'\n",
    "assert test_dssp_3 == reduce_dssp(test_dssp_8)\n",
    "test_dssp_8 = 'FF5tPEQqE4JnwD2Rob84'\n",
    "test_dssp_3 = 'FF5tPEQqE4JnwD2Ro-84'\n",
    "assert test_dssp_3 == reduce_dssp(test_dssp_8)\n",
    "test_dssp_8 = 'SKREHZfXfgjwJGjdbyAm'\n",
    "test_dssp_3 = '-KREHZfXfgjwJ-jd-yAm'\n",
    "assert test_dssp_3 == reduce_dssp(test_dssp_8)\n",
    "test_dssp_8 = 'fe3qTylkabnoewFxwp9K'\n",
    "test_dssp_3 = 'fe3q-ylka-noewFxwp9K'\n",
    "assert test_dssp_3 == reduce_dssp(test_dssp_8)\n",
    "test_dssp_8 = 'yVGL1j00mrMIvb6G3wQP'\n",
    "test_dssp_3 = 'yV-L1j00mrM-v-6-3wQP'\n",
    "assert test_dssp_3 == reduce_dssp(test_dssp_8)"
   ]
  },
  {
   "cell_type": "markdown",
   "id": "e815bf6f-6a46-497f-9df4-157d6f31a920",
   "metadata": {},
   "source": [
    "Function to align jpred and alphafold sequences"
   ]
  },
  {
   "cell_type": "code",
   "execution_count": 4,
   "id": "9da5eb96-0a3c-4a21-8752-2f5572cf3136",
   "metadata": {},
   "outputs": [],
   "source": [
    "# lcs_align - alignment based on longest common subsequence\n",
    "# assumption - no indels i.e. no gaps\n",
    "# returns start and end indices to slice compstring with\n",
    "# distance between start and end indices is exactly the length of refstring\n",
    "# in practice \n",
    "# ... refstring is the jpred protein sequence,\n",
    "# ... and compstring is the uniprot/alphafold sequence\n",
    "# this function is used to trim uniprot sequence\n",
    "# if threshold e.g. 0.9 is not met, then start and end indices of 0 and -1 is returned\n",
    "def lcs_align(refstring, compstring, threshold):\n",
    "    assert threshold <= 1\n",
    "    lref = len(refstring) \n",
    "    lcomp = len(compstring)\n",
    "    assert lref <= lcomp\n",
    "    lsearch = lcomp - lref + 1 # how many amino acid is stringc longer than stringb by\n",
    "    start,end = 0, lref # index to slice comparator string \n",
    "    best_overlap = pylcs.lcs(refstring,compstring[start:end]) # alignment start from N terminus\n",
    "    best_offset = 0\n",
    "    for offset in range(0,lsearch):\n",
    "        # compare percentage similarity\n",
    "        assert end+offset <= lcomp\n",
    "        test_window = compstring[start+offset:end+offset]\n",
    "        test_overlap = pylcs.lcs(refstring, test_window)\n",
    "        if test_overlap > best_overlap:\n",
    "            best_overlap = test_overlap\n",
    "            best_offset = offset\n",
    "        else:\n",
    "            pass\n",
    "    \n",
    "    # sanity check on best_offset by using it to slice compstring\n",
    "    best_window = compstring[best_offset:best_offset + lref]\n",
    "    # check we indeed have the best answer (probably unecessary but I'm not a computer scientist)\n",
    "    assert pylcs.lcs(best_window, refstring) == best_overlap\n",
    "    \n",
    "    if lref == 0:\n",
    "        best_similarity = 0.0\n",
    "    else:\n",
    "        best_similarity = best_overlap / lref\n",
    "    \n",
    "    if best_overlap >= threshold * lref: # recompute so as to avoid dividing for more precision\n",
    "        return best_offset, best_similarity\n",
    "    else:\n",
    "        # threshold is not met\n",
    "        return -1, best_similarity"
   ]
  },
  {
   "cell_type": "markdown",
   "id": "5b321dca-98cf-4fd7-9eac-a6d63865be8b",
   "metadata": {},
   "source": [
    "Run tests for lcs_align"
   ]
  },
  {
   "cell_type": "code",
   "execution_count": 5,
   "id": "d2929fbf-b303-4144-9916-5aab45213e71",
   "metadata": {},
   "outputs": [],
   "source": [
    "# test 1 - compare nothing\n",
    "assert lcs_align('','',1)[0] == 0\n",
    "assert lcs_align('','',1)[1] == 0\n",
    "\n",
    "# test 2 - compare simple strings\n",
    "assert lcs_align('ABC','DABAABCAB',1)[0]==4\n",
    "assert lcs_align('ABC','DABAABCAB',1)[1]==1.0\n",
    "\n",
    "# test 3 - fail threshold\n",
    "assert lcs_align('ABDDC','DABAABCAB',0.8)[0]==-1\n",
    "assert lcs_align('ABDDC','DABAABCAB',0.8)[1]==0.6\n",
    "\n",
    "# test 4 - compare normal length strings\n",
    "assert lcs_align('NKKPVNSWTCEDFLAVDESFQPTAVGFAEALNNKDKPEDAVLDVQGIATVTPAIVQACTQDKQANFKDKVKGEWDKIKK',\n",
    "                 'MKKVLGVILGGLLLLPVVSNAADAQKAADNKKPVNSWTCEDFLAVDESFQPTAVGFAEALNNKDKPEDAVLDVQGIATVTPAIVQACTQDKQANFKDKVKGEWDKIKKDM',\n",
    "                 1)[0]==29\n",
    "assert lcs_align('NKKPVNSWTCEDFLAVDESFQPTAVGFAEALNNKDKPEDAVLDVQGIATVTPAIVQACTQDKQANFKDKVKGEWDKIKK',\n",
    "                 'MKKVLGVILGGLLLLPVVSNAADAQKAADNKKPVNSWTCEDFLAVDESFQPTAVGFAEALNNKDKPEDAVLDVQGIATVTPAIVQACTQDKQANFKDKVKGEWDKIKKDM',\n",
    "                 1)[1]==1\n",
    "\n",
    "# test 5 \n",
    "assert lcs_align('GSASPTPPYLKWAESLHSLLDDQDGISLFRTFLKQEGCADLLDFWFACTGFRKLEPCDSNEEKRLKLARAIYRKYILDNNGIVSRQTKPATKSFIKGCIMKQLIDPAMFDQAQTEIQATMEENTYPSFLKSDIYLEYTRTGSESPKV',\n",
    "                 'MNIQEQGFPLDLGASFTEDAPRPPVPGEEGELVSTDPRPASYSFCSGKGVGIKGETSTATPRRSDLDLGYEPEGSASPTPPYLKWAESLHSLLDDQDGISLFRTFLKQEGCADLLDFWFACTGFRKLEPCDSNEEKRLKLARAIYRKYILDNNGIVSRQTKPATKSFIKGCIMKQLIDPAMFDQAQTEIQATMEENTYPSFLKSDIYLEYTRTGSESPKVCSDQSSGSGTGKGISGYLPTLNEDEEWKCDQDMDEDDGRDAAPPGRLPQKLLLETAAPRVSSSRRYSEGREFRYGSWREPVNPYYVNAGYALAPATSANDSEQQSLSSDADTLSLTDSSVDGIPPYRIRKQHRREMQESVQVNGRVPLPHIPRTYRVPKEVRVEPQKFAEELIHRLEAVQRTREAEEKLEERLKRVRMEEEGEDGDPSSGPPGPCHKLPPAPAWHHFPPRCVDMGCAGLRDAHEENPESILDEHVQRVLRTPGRQSPGPGHRSPDSGHVAKMPVALGGAASGHGKHVPKSGAKLDAAGLHHHRHVHHHVHHSTARPKEQVEAEATRRAQSSFAWGLEPHSHGARSRGYSESVGAAPNASDGLAHSGKVGVACKRNAKKAESGKSASTEVPGASEDAEKNQKIMQWIIEGEKEISRHRRTGHGSSGTRKPQPHENSRPLSLEHPWAGPQLRTSVQPSHLFIQDPTMPPHPAPNPLTQLEEARRRLEEEEKRASRAPSKQRYVQEVMRRGRACVRPACAPVLHVVPAVSDMELSETETRSQRKVGGGSAQPCDSIVVAYYFCGEPIPYRTLVRGRAVTLGQFKELLTKKGSYRYYFKKVSDEFDCGVVFEEVREDEAVLPVFEEKIIGKVEKVD',\n",
    "                 1)[0]==73\n",
    "assert lcs_align('GSASPTPPYLKWAESLHSLLDDQDGISLFRTFLKQEGCADLLDFWFACTGFRKLEPCDSNEEKRLKLARAIYRKYILDNNGIVSRQTKPATKSFIKGCIMKQLIDPAMFDQAQTEIQATMEENTYPSFLKSDIYLEYTRTGSESPKV',\n",
    "                 'MNIQEQGFPLDLGASFTEDAPRPPVPGEEGELVSTDPRPASYSFCSGKGVGIKGETSTATPRRSDLDLGYEPEGSASPTPPYLKWAESLHSLLDDQDGISLFRTFLKQEGCADLLDFWFACTGFRKLEPCDSNEEKRLKLARAIYRKYILDNNGIVSRQTKPATKSFIKGCIMKQLIDPAMFDQAQTEIQATMEENTYPSFLKSDIYLEYTRTGSESPKVCSDQSSGSGTGKGISGYLPTLNEDEEWKCDQDMDEDDGRDAAPPGRLPQKLLLETAAPRVSSSRRYSEGREFRYGSWREPVNPYYVNAGYALAPATSANDSEQQSLSSDADTLSLTDSSVDGIPPYRIRKQHRREMQESVQVNGRVPLPHIPRTYRVPKEVRVEPQKFAEELIHRLEAVQRTREAEEKLEERLKRVRMEEEGEDGDPSSGPPGPCHKLPPAPAWHHFPPRCVDMGCAGLRDAHEENPESILDEHVQRVLRTPGRQSPGPGHRSPDSGHVAKMPVALGGAASGHGKHVPKSGAKLDAAGLHHHRHVHHHVHHSTARPKEQVEAEATRRAQSSFAWGLEPHSHGARSRGYSESVGAAPNASDGLAHSGKVGVACKRNAKKAESGKSASTEVPGASEDAEKNQKIMQWIIEGEKEISRHRRTGHGSSGTRKPQPHENSRPLSLEHPWAGPQLRTSVQPSHLFIQDPTMPPHPAPNPLTQLEEARRRLEEEEKRASRAPSKQRYVQEVMRRGRACVRPACAPVLHVVPAVSDMELSETETRSQRKVGGGSAQPCDSIVVAYYFCGEPIPYRTLVRGRAVTLGQFKELLTKKGSYRYYFKKVSDEFDCGVVFEEVREDEAVLPVFEEKIIGKVEKVD',\n",
    "                 1)[1]==1\n",
    "\n",
    "# test 6 \n",
    "# fixed: lsearch = lcomp - lref +1 \n",
    "assert lcs_align('RIPTDPTMYRFYEMLQVYGTTLKALVHEKFGDGIISAINFKLDVKKVADPEGGERAVITLDGKYLPTKPF',\n",
    "                 'MIQSQINRNIRLDLADAILLSKAKKDLSFAEIADGTGLAEAFVTAALLGQQALPADAARLVGAKLDLDEDSILLLQMIPLRGCIDDRIPTDPTMYRFYEMLQVYGTTLKALVHEKFGDGIISAINFKLDVKKVADPEGGERAVITLDGKYLPTKPF',\n",
    "                 1)[0]==86\n",
    "assert lcs_align('RIPTDPTMYRFYEMLQVYGTTLKALVHEKFGDGIISAINFKLDVKKVADPEGGERAVITLDGKYLPTKPF',\n",
    "                 'MIQSQINRNIRLDLADAILLSKAKKDLSFAEIADGTGLAEAFVTAALLGQQALPADAARLVGAKLDLDEDSILLLQMIPLRGCIDDRIPTDPTMYRFYEMLQVYGTTLKALVHEKFGDGIISAINFKLDVKKVADPEGGERAVITLDGKYLPTKPF',\n",
    "                 1)[1]==1\n",
    "\n",
    "# test 7\n",
    "assert lcs_align('NERNISRLWRAFRTVKEMVKDRGYFITQEEVELPLEDFKAKYCDSMGRPQRKMMSFQANPTEESISKFPDMGSLWVEFCDEPSVGVKTMKTFVIHIQEKNFQTGIFVYQNNITPSAMKLVPSIPPATIETFNEAALVVN',\n",
    "                 'MDQENERNISRLWRAFRTVKEMVKDRGYFITQEEVELPLEDFKAKYCDSMGRPQRKMMSFQANPTEESISKFPDMGSLWVEFCDEPSVGVKTMKTFVIHIQEKNFQTGIFVYQNNITPSAMKLVPSIPPATIETFNEAALVVNITHHELVPKHIRLSSDEKRELLKRYRLKESQLPRIQRADPVALYLGLKRGEVVKIIRKSETSGRYASYRICM',\n",
    "                 1)[0]==4\n",
    "assert lcs_align('NERNISRLWRAFRTVKEMVKDRGYFITQEEVELPLEDFKAKYCDSMGRPQRKMMSFQANPTEESISKFPDMGSLWVEFCDEPSVGVKTMKTFVIHIQEKNFQTGIFVYQNNITPSAMKLVPSIPPATIETFNEAALVVN',\n",
    "                 'MDQENERNISRLWRAFRTVKEMVKDRGYFITQEEVELPLEDFKAKYCDSMGRPQRKMMSFQANPTEESISKFPDMGSLWVEFCDEPSVGVKTMKTFVIHIQEKNFQTGIFVYQNNITPSAMKLVPSIPPATIETFNEAALVVNITHHELVPKHIRLSSDEKRELLKRYRLKESQLPRIQRADPVALYLGLKRGEVVKIIRKSETSGRYASYRICM',\n",
    "                 1)[1]==1"
   ]
  },
  {
   "cell_type": "markdown",
   "id": "0d4a0308-3608-4bf9-9164-125212a362b6",
   "metadata": {},
   "source": [
    "Load in input array"
   ]
  },
  {
   "cell_type": "code",
   "execution_count": 6,
   "id": "2faa1461-4c7a-4e37-b536-561dc0172829",
   "metadata": {},
   "outputs": [
    {
     "data": {
      "text/html": [
       "<div>\n",
       "<style scoped>\n",
       "    .dataframe tbody tr th:only-of-type {\n",
       "        vertical-align: middle;\n",
       "    }\n",
       "\n",
       "    .dataframe tbody tr th {\n",
       "        vertical-align: top;\n",
       "    }\n",
       "\n",
       "    .dataframe thead th {\n",
       "        text-align: right;\n",
       "    }\n",
       "</style>\n",
       "<table border=\"1\" class=\"dataframe\">\n",
       "  <thead>\n",
       "    <tr style=\"text-align: right;\">\n",
       "      <th></th>\n",
       "      <th>seqID</th>\n",
       "      <th>domain</th>\n",
       "      <th>uniprotId</th>\n",
       "      <th>PDBe_sequence</th>\n",
       "      <th>DSSP8</th>\n",
       "      <th>AFpred_8</th>\n",
       "      <th>AF_sequence</th>\n",
       "      <th>jpred_sequence</th>\n",
       "      <th>jpred_3</th>\n",
       "      <th>DSSP3</th>\n",
       "    </tr>\n",
       "  </thead>\n",
       "  <tbody>\n",
       "    <tr>\n",
       "      <th>0</th>\n",
       "      <td>24695</td>\n",
       "      <td>d1a12a_</td>\n",
       "      <td>P18754</td>\n",
       "      <td>RRSPPADAIPKSKKVKVSHRSHSTEPGLVLTLGQGDVGQLGLGENV...</td>\n",
       "      <td>-------TT-----BEEEEEEE-TTSTT-S-TT--EEEEEEEE--S...</td>\n",
       "      <td>-------------S-------------TT-----BEEEEEEE-TTS...</td>\n",
       "      <td>MSPKRIAKRRSPPADAIPKSKKVKVSHRSHSTEPGLVLTLGQGDVG...</td>\n",
       "      <td>KKVKVSHRSHSTEPGLVLTLGQGDVGQLGLGENVMERKKPALVSIP...</td>\n",
       "      <td>-----EEEEEEE----EEEEE-------------------EEE---...</td>\n",
       "      <td>--------------EEEEEEEE-------------EEEEEEEE---...</td>\n",
       "    </tr>\n",
       "    <tr>\n",
       "      <th>1</th>\n",
       "      <td>24696</td>\n",
       "      <td>d1a1xa_</td>\n",
       "      <td>P56278</td>\n",
       "      <td>GSAGEDVGAPPDHLWVHQEGIYRDEYQRTWVAVVEEETSFLRARVQ...</td>\n",
       "      <td>---------SEEEEEETTEEEETTS-EEEEEEEE-SS-EEEEEE--...</td>\n",
       "      <td>-------S--SEEEEEETTEEEETT--EEEEEEEEETTEEEEEEE-...</td>\n",
       "      <td>MAGEDVGAPPDHLWVHQEGIYRDEYQRTWVAVVEEETSFLRARVQQ...</td>\n",
       "      <td>AGEDVGAPPDHLWVHQEGIYRDEYQRTWVAVVEEETSFLRARVQQI...</td>\n",
       "      <td>----------EEEEE---EEEE----EEEEEEEE----EEEEEEE-...</td>\n",
       "      <td>----------EEEEEE--EEEE----EEEEEEEE----EEEEEE--...</td>\n",
       "    </tr>\n",
       "    <tr>\n",
       "      <th>2</th>\n",
       "      <td>24697</td>\n",
       "      <td>d1a62a1</td>\n",
       "      <td>P0AG30</td>\n",
       "      <td>*NLTELKNTPVSELITLGEN*GLENLAR*RKQDIIFAILKQHAKSG...</td>\n",
       "      <td>-BHHHHHTS-HHHHHHHHHTTT----TTS-HHHHHHHHHHHHHHTT-</td>\n",
       "      <td>-BHHHHHHS-HHHHHHHHHHTT--SGGGS-HHHHHHHHHHHHHHTT...</td>\n",
       "      <td>MNLTELKNTPVSELITLGENMGLENLARMRKQDIIFAILKQHAKSG...</td>\n",
       "      <td>MNLTELKNTPVSELITLGENMGLENLARMRKQDIIFAILKQHAKSGE</td>\n",
       "      <td>--HHH-----HHHHHHHHHH----------HHHHHHHHHHHHHH---</td>\n",
       "      <td>-EHHHHH---HHHHHHHHH-----------HHHHHHHHHHHHHH---</td>\n",
       "    </tr>\n",
       "    <tr>\n",
       "      <th>3</th>\n",
       "      <td>24706</td>\n",
       "      <td>d1aiea_</td>\n",
       "      <td>P04637</td>\n",
       "      <td>EYFTLQIRGRERFEMFRELNEALELKDAQAG</td>\n",
       "      <td>--------SHHHHHHHHHHHHHHHHHHHH--</td>\n",
       "      <td>---------------TTTHHHHHHTS-S--S---------------...</td>\n",
       "      <td>MEEPQSDPSVEPPLSQETFSDLWKLLPENNVLSPLPSQAMDDLMLS...</td>\n",
       "      <td>EYFTLQIRGRERFEMFRELNEALELKDAQAG</td>\n",
       "      <td>-EEEEEEE--HHHHHHHHHHHHHHHHH----</td>\n",
       "      <td>---------HHHHHHHHHHHHHHHHHHHH--</td>\n",
       "    </tr>\n",
       "    <tr>\n",
       "      <th>4</th>\n",
       "      <td>24713</td>\n",
       "      <td>d1b79a_</td>\n",
       "      <td>P0ACB0</td>\n",
       "      <td>MASHMERDPQVAGLKVPPHSIEAEQSVLGGLMLDNERWDDVAERVV...</td>\n",
       "      <td>---HHHHHHHHHHHHHH-GGGHHHHHTT--GGGSSSHHHHHHHHHH...</td>\n",
       "      <td>------------------TTTTTS------HHHHHHHHHHHHH-GG...</td>\n",
       "      <td>MAGNKPFNKQQAEPRERDPQVAGLKVPPHSIEAEQSVLGGLMLDNE...</td>\n",
       "      <td>PPHSIEAEQSVLGGLMLDNERWDDVAERVVADDFYTRPHRHIFTEM...</td>\n",
       "      <td>----HHHHHHHHHHHH----HHHHHHHHH----HHHHHHHHHHHHH...</td>\n",
       "      <td>---HHHHHHHHHHHHHH----HHHHH----------HHHHHHHHHH...</td>\n",
       "    </tr>\n",
       "  </tbody>\n",
       "</table>\n",
       "</div>"
      ],
      "text/plain": [
       "   seqID   domain uniprotId  \\\n",
       "0  24695  d1a12a_    P18754   \n",
       "1  24696  d1a1xa_    P56278   \n",
       "2  24697  d1a62a1    P0AG30   \n",
       "3  24706  d1aiea_    P04637   \n",
       "4  24713  d1b79a_    P0ACB0   \n",
       "\n",
       "                                       PDBe_sequence  \\\n",
       "0  RRSPPADAIPKSKKVKVSHRSHSTEPGLVLTLGQGDVGQLGLGENV...   \n",
       "1  GSAGEDVGAPPDHLWVHQEGIYRDEYQRTWVAVVEEETSFLRARVQ...   \n",
       "2  *NLTELKNTPVSELITLGEN*GLENLAR*RKQDIIFAILKQHAKSG...   \n",
       "3                    EYFTLQIRGRERFEMFRELNEALELKDAQAG   \n",
       "4  MASHMERDPQVAGLKVPPHSIEAEQSVLGGLMLDNERWDDVAERVV...   \n",
       "\n",
       "                                               DSSP8  \\\n",
       "0  -------TT-----BEEEEEEE-TTSTT-S-TT--EEEEEEEE--S...   \n",
       "1  ---------SEEEEEETTEEEETTS-EEEEEEEE-SS-EEEEEE--...   \n",
       "2    -BHHHHHTS-HHHHHHHHHTTT----TTS-HHHHHHHHHHHHHHTT-   \n",
       "3                    --------SHHHHHHHHHHHHHHHHHHHH--   \n",
       "4  ---HHHHHHHHHHHHHH-GGGHHHHHTT--GGGSSSHHHHHHHHHH...   \n",
       "\n",
       "                                            AFpred_8  \\\n",
       "0  -------------S-------------TT-----BEEEEEEE-TTS...   \n",
       "1  -------S--SEEEEEETTEEEETT--EEEEEEEEETTEEEEEEE-...   \n",
       "2  -BHHHHHHS-HHHHHHHHHHTT--SGGGS-HHHHHHHHHHHHHHTT...   \n",
       "3  ---------------TTTHHHHHHTS-S--S---------------...   \n",
       "4  ------------------TTTTTS------HHHHHHHHHHHHH-GG...   \n",
       "\n",
       "                                         AF_sequence  \\\n",
       "0  MSPKRIAKRRSPPADAIPKSKKVKVSHRSHSTEPGLVLTLGQGDVG...   \n",
       "1  MAGEDVGAPPDHLWVHQEGIYRDEYQRTWVAVVEEETSFLRARVQQ...   \n",
       "2  MNLTELKNTPVSELITLGENMGLENLARMRKQDIIFAILKQHAKSG...   \n",
       "3  MEEPQSDPSVEPPLSQETFSDLWKLLPENNVLSPLPSQAMDDLMLS...   \n",
       "4  MAGNKPFNKQQAEPRERDPQVAGLKVPPHSIEAEQSVLGGLMLDNE...   \n",
       "\n",
       "                                      jpred_sequence  \\\n",
       "0  KKVKVSHRSHSTEPGLVLTLGQGDVGQLGLGENVMERKKPALVSIP...   \n",
       "1  AGEDVGAPPDHLWVHQEGIYRDEYQRTWVAVVEEETSFLRARVQQI...   \n",
       "2    MNLTELKNTPVSELITLGENMGLENLARMRKQDIIFAILKQHAKSGE   \n",
       "3                    EYFTLQIRGRERFEMFRELNEALELKDAQAG   \n",
       "4  PPHSIEAEQSVLGGLMLDNERWDDVAERVVADDFYTRPHRHIFTEM...   \n",
       "\n",
       "                                             jpred_3  \\\n",
       "0  -----EEEEEEE----EEEEE-------------------EEE---...   \n",
       "1  ----------EEEEE---EEEE----EEEEEEEE----EEEEEEE-...   \n",
       "2    --HHH-----HHHHHHHHHH----------HHHHHHHHHHHHHH---   \n",
       "3                    -EEEEEEE--HHHHHHHHHHHHHHHHH----   \n",
       "4  ----HHHHHHHHHHHH----HHHHHHHHH----HHHHHHHHHHHHH...   \n",
       "\n",
       "                                               DSSP3  \n",
       "0  --------------EEEEEEEE-------------EEEEEEEE---...  \n",
       "1  ----------EEEEEE--EEEE----EEEEEEEE----EEEEEE--...  \n",
       "2    -EHHHHH---HHHHHHHHH-----------HHHHHHHHHHHHHH---  \n",
       "3                    ---------HHHHHHHHHHHHHHHHHHHH--  \n",
       "4  ---HHHHHHHHHHHHHH----HHHHH----------HHHHHHHHHH...  "
      ]
     },
     "execution_count": 6,
     "metadata": {},
     "output_type": "execute_result"
    }
   ],
   "source": [
    "os.chdir('/cluster/gjb_lab/2472402')\n",
    "sum_df = pd.read_csv('summary_table.csv')\n",
    "sum_df.head()"
   ]
  },
  {
   "cell_type": "markdown",
   "id": "eb31c028-4735-4385-8d8f-de90d4c86408",
   "metadata": {},
   "source": [
    "Run code below to initialize/reset the input for in-place truncation subroutine"
   ]
  },
  {
   "cell_type": "code",
   "execution_count": 113,
   "id": "7c441d5e-2ec8-49a0-a54e-eb1c241e3066",
   "metadata": {
    "tags": []
   },
   "outputs": [
    {
     "name": "stdout",
     "output_type": "stream",
     "text": [
      "resetting input dataframe\n"
     ]
    }
   ],
   "source": [
    "print('resetting input dataframe')\n",
    "sum_df_trunc = sum_df.copy(deep=True)"
   ]
  },
  {
   "cell_type": "markdown",
   "id": "ebe0ba4b-af8c-42f9-83a0-567f79452642",
   "metadata": {},
   "source": [
    "Run the code below for in-place truncation of jpred/alphafold sequences"
   ]
  },
  {
   "cell_type": "code",
   "execution_count": 114,
   "id": "b7c19034-35f8-4f40-8c80-b5affaa2575b",
   "metadata": {},
   "outputs": [],
   "source": [
    "# threshold for accepting sequences as capable of aligning to each other\n",
    "# defined terms of length of longest common subsequence (IMPT: NOT substring) divided by length of the shorter sequence\n",
    "threshold = 0.5"
   ]
  },
  {
   "cell_type": "code",
   "execution_count": 115,
   "id": "81ebf0e3-4ac5-4204-81e3-4c763e18f3b9",
   "metadata": {},
   "outputs": [
    {
     "name": "stderr",
     "output_type": "stream",
     "text": [
      "row 14 / pdbId d1cxzb_: sequences do not align\n",
      "row 23 / pdbId d1dtdb_: sequences do not align\n",
      "row 31 / pdbId d1em8b_: sequences do not align\n",
      "row 44 / pdbId d1fm0e_: sequences do not align\n",
      "row 58 / pdbId d1gzsb_: sequences do not align\n",
      "row 104 / pdbId d1lm8v_: sequences do not align\n",
      "row 107 / pdbId d1m1eb_: sequences do not align\n",
      "row 114 / pdbId d1nh2b_: sequences do not align\n",
      "row 115 / pdbId d1nh2c_: sequences do not align\n",
      "row 126 / pdbId d1oc0b_: sequences do not align\n",
      "row 135 / pdbId d1or7c_: sequences do not align\n",
      "row 159 / pdbId d1rk8c_: sequences do not align\n",
      "row 173 / pdbId d1syxb_: sequences do not align\n",
      "row 183 / pdbId d1twfc2: sequences do not align\n",
      "row 184 / pdbId d1twff_: sequences do not align\n",
      "row 185 / pdbId d1twfj_: sequences do not align\n",
      "row 195 / pdbId d1uptb_: sequences do not align\n",
      "row 196 / pdbId d1us7b_: sequences do not align\n",
      "row 197 / pdbId d1usub_: sequences do not align\n",
      "row 224 / pdbId d1xu1r_: sequences do not align\n",
      "row 226 / pdbId d1y5ic1: sequences do not align\n",
      "row 230 / pdbId d1z0jb1: sequences do not align\n",
      "row 237 / pdbId d1zoqc_: sequences do not align\n",
      "row 244 / pdbId d2apob_: sequences do not align\n",
      "row 251 / pdbId d2bfdb2: sequences do not align\n",
      "row 268 / pdbId d2e9xb2: sequences do not align\n",
      "row 270 / pdbId d2f4mb_: sequences do not align\n",
      "row 275 / pdbId d2fcwb1: sequences do not align\n",
      "row 290 / pdbId d2hqsc_: sequences do not align\n",
      "row 296 / pdbId d2icwg_: sequences do not align\n",
      "row 297 / pdbId d2idob_: sequences do not align\n",
      "row 300 / pdbId d2jdqd_: sequences do not align\n",
      "row 313 / pdbId d2p8qb_: sequences do not align\n",
      "row 318 / pdbId d2qklb_: sequences do not align\n",
      "row 344 / pdbId d2z7fi_: sequences do not align\n",
      "row 356 / pdbId d3buxb2: sequences do not align\n",
      "row 359 / pdbId d3bwud_: sequences do not align\n",
      "row 366 / pdbId d3dgpb_: sequences do not align\n",
      "row 384 / pdbId d3l51b_: sequences do not align\n",
      "row 385 / pdbId d3ldqb_: sequences do not align\n",
      "row 397 / pdbId d3rlff1: sequences do not align\n",
      "row 398 / pdbId d3rlff2: sequences do not align\n",
      "row 409 / pdbId d3tvji_: sequences do not align\n",
      "row 416 / pdbId d3v5wg_: sequences do not align\n",
      "row 425 / pdbId d4drib_: sequences do not align\n",
      "row 434 / pdbId d4fyxb1: sequences do not align\n",
      "row 435 / pdbId d4fyxb2: sequences do not align\n"
     ]
    }
   ],
   "source": [
    "for i,row in sum_df_trunc.iterrows():\n",
    "    sequences_do_not_align = False\n",
    "    # order of arguments in lcs_align has to be len(arg1) < len(arg2)\n",
    "    # that is the reason for if-else handling \n",
    "    if len(row.jpred_sequence) <= len(row.AF_sequence):\n",
    "        AF_start, similarity = lcs_align(row.jpred_sequence, row.AF_sequence, threshold)\n",
    "        if AF_start == -1:\n",
    "            sequences_do_not_align = True\n",
    "        else:\n",
    "            # truncate N terminus of alphafold sequence to match N terminus of jpred sequence\n",
    "            sum_df_trunc.loc[i,'AF_sequence'] = sum_df_trunc.loc[i,'AF_sequence'][AF_start:]\n",
    "            sum_df_trunc.loc[i,'AFpred_8'] = sum_df_trunc.loc[i,'AFpred_8'][AF_start:]\n",
    "            \n",
    "            # truncate N terminus of jpred sequence\n",
    "            overlap_length = pylcs.lcs(row.jpred_sequence, row.AF_sequence)\n",
    "            jpred_start = len(row.jpred_sequence) - overlap_length\n",
    "            sum_df_trunc.loc[i,'jpred_sequence'] = sum_df_trunc.loc[i,'AF_sequence'][jpred_start:]\n",
    "            sum_df_trunc.loc[i,'jpred_3'] = reduce_dssp(sum_df_trunc.loc[i,'AFpred_8'])\n",
    "            \n",
    "            # truncate C terminus of alphafold sequence\n",
    "            AF_end = AF_start + overlap_length + jpred_start\n",
    "            sum_df_trunc.loc[i,'AF_sequence'] = sum_df_trunc.loc[i,'AF_sequence'][:AF_end]\n",
    "            sum_df_trunc.loc[i,'AFpred_8'] = sum_df_trunc.loc[i,'AFpred_8'][:AF_end]\n",
    "            \n",
    "            # add column consisting of AF pred 3 state version\n",
    "            sum_df_trunc.loc[i,'AFpred_3'] = reduce_dssp(sum_df_trunc.loc[i,'AFpred_8'])\n",
    "\n",
    "    else:\n",
    "        # jpred sequence is longer than the alphafold sequence\n",
    "        jpred_start, similarity = lcs_align(row.AF_sequence, row.jpred_sequence, threshold)\n",
    "        if jpred_start == -1:\n",
    "            sequences_do_not_align = True\n",
    "        else:\n",
    "            # truncate N terminus of jpred sequence to match N terminus of alphafold sequence\n",
    "            sum_df_trunc.loc[i,'jpred_sequence'] = sum_df_trunc.loc[i,'jpred_sequence'][jpred_start:]\n",
    "            sum_df_trunc.loc[i,'jpred_3'] = sum_df_trunc.loc[i,'jpred_3'][jpred_start:]\n",
    "            \n",
    "            # truncate N terminus of alphafold sequence\n",
    "            overlap_length = pylcs.lcs(row.AF_sequence, row.jpred_sequence)\n",
    "            AF_start = len(row.AF_sequence) - overlap_length\n",
    "            sum_df_trunc.loc[i,'AF_sequence'] = sum_df_trunc.loc[i,'AF_sequence'][AF_start:]\n",
    "            sum_df_trunc.loc[i,'AFpred_8'] = sum_df_trunc.loc[i,'AFpred_8'][AF_start:]\n",
    "            \n",
    "            # truncate C terminus of jpred sequence\n",
    "            jpred_end = jpred_start + overlap_length + AF_start\n",
    "            sum_df_trunc.loc[i,'jpred_sequence'] = sum_df_trunc.loc[i,'jpred_sequence'][:jpred_end]\n",
    "            sum_df_trunc.loc[i,'jpred_3'] = sum_df_trunc.loc[i,'jpred_3'][:jpred_end]\n",
    "            \n",
    "            # add column with AF pred 3 state version\n",
    "            sum_df_trunc.loc[i,'AFpred_3'] = reduce_dssp(sum_df_trunc.loc[i,'AFpred_8'])\n",
    "    \n",
    "    assert similarity # should be at least 0\n",
    "    sum_df_trunc.loc[i,'similarity'] = similarity\n",
    "    \n",
    "    # for debug\n",
    "    if sequences_do_not_align:\n",
    "        print(f'row {i} / pdbId {row.domain}: sequences do not align', file=sys.stderr)"
   ]
  },
  {
   "cell_type": "markdown",
   "id": "ab2834fd-9c60-4812-8519-36a0337a8420",
   "metadata": {},
   "source": [
    "## Print to summary table, this timed called debug.txt"
   ]
  },
  {
   "cell_type": "code",
   "execution_count": 122,
   "id": "b701d75c-cb95-4dac-a371-6e45b3fda19e",
   "metadata": {},
   "outputs": [],
   "source": [
    "with open('debug.txt','w') as f:\n",
    "    print('Only sequences with similarity > %.2f have been aligned' % threshold, file=f)\n",
    "    for i,row in sum_df_trunc.iterrows():\n",
    "        print('seqID          :',row.seqID,file=f)\n",
    "        print('domain         :',row.domain,file=f)\n",
    "        print('UniprotId      :',row.uniprotId,file=f)\n",
    "        print('PDBe_sequence  :',row.PDBe_sequence,file=f)\n",
    "        print('jpred_sequence :',row.jpred_sequence,file=f)\n",
    "        print('DSSP_8         :',row.DSSP8,file=f)\n",
    "        print('DSSP_3         :',row.DSSP3,file=f)\n",
    "        print('jpred_3        :',row.jpred_3,file=f)\n",
    "        print('AF_sequence    :',row.AF_sequence,file=f)\n",
    "        print('AFpred_8       :',row.AFpred_8,file=f)\n",
    "        print('AFpred_3       :',row.AFpred_3,file=f)\n",
    "        print('AFpred_3       :',row.AFpred_3,file=f)\n",
    "        print('Similarity     :',row.similarity,file=f)\n",
    "        print('',file=f)"
   ]
  },
  {
   "cell_type": "markdown",
   "id": "26d9d8e9-3ab0-4af2-8560-1fee431af9b8",
   "metadata": {},
   "source": [
    "# Retry debugging"
   ]
  },
  {
   "cell_type": "markdown",
   "id": "374662a4-a9f5-4126-b8c2-bd6f3455c279",
   "metadata": {},
   "source": [
    "Debug for seqID 24716"
   ]
  },
  {
   "cell_type": "code",
   "execution_count": 7,
   "id": "c8483dce-81ee-4c92-a72a-9bb46ca6b499",
   "metadata": {},
   "outputs": [
    {
     "data": {
      "text/html": [
       "<div>\n",
       "<style scoped>\n",
       "    .dataframe tbody tr th:only-of-type {\n",
       "        vertical-align: middle;\n",
       "    }\n",
       "\n",
       "    .dataframe tbody tr th {\n",
       "        vertical-align: top;\n",
       "    }\n",
       "\n",
       "    .dataframe thead th {\n",
       "        text-align: right;\n",
       "    }\n",
       "</style>\n",
       "<table border=\"1\" class=\"dataframe\">\n",
       "  <thead>\n",
       "    <tr style=\"text-align: right;\">\n",
       "      <th></th>\n",
       "      <th>seqID</th>\n",
       "      <th>domain</th>\n",
       "      <th>uniprotId</th>\n",
       "      <th>PDBe_sequence</th>\n",
       "      <th>DSSP8</th>\n",
       "      <th>AFpred_8</th>\n",
       "      <th>AF_sequence</th>\n",
       "      <th>jpred_sequence</th>\n",
       "      <th>jpred_3</th>\n",
       "      <th>DSSP3</th>\n",
       "    </tr>\n",
       "  </thead>\n",
       "  <tbody>\n",
       "    <tr>\n",
       "      <th>6</th>\n",
       "      <td>24716</td>\n",
       "      <td>d1bgfa_</td>\n",
       "      <td>P42228</td>\n",
       "      <td>GGSQWNQVQQLEIKFLEQVDQFYDDNFPMEIRHLLAQWIETQDWEV...</td>\n",
       "      <td>---HHHHHHHS-GGGHHHHGGG-BTTB-HHHHHHTHHHHHHS-HHH...</td>\n",
       "      <td>--HHHHHHTS-HHHHHHHHTT--TTS-HHHHHHTHHHHHHS-HHHH...</td>\n",
       "      <td>MSQWNQVQQLEIKFLEQVDQFYDDNFPMEIRHLLAQWIETQDWEVA...</td>\n",
       "      <td>GGSQWNQVQQLEIKFLEQVDQFYDDNFPMEIRHLLAQWIETQDWEV...</td>\n",
       "      <td>-HHHHHHHH----HHHHHHHHH------HHHHHHHH----------...</td>\n",
       "      <td>---HHHHHHH-----HHHH----E--E-HHHHHH-HHHHHH--HHH...</td>\n",
       "    </tr>\n",
       "  </tbody>\n",
       "</table>\n",
       "</div>"
      ],
      "text/plain": [
       "   seqID   domain uniprotId  \\\n",
       "6  24716  d1bgfa_    P42228   \n",
       "\n",
       "                                       PDBe_sequence  \\\n",
       "6  GGSQWNQVQQLEIKFLEQVDQFYDDNFPMEIRHLLAQWIETQDWEV...   \n",
       "\n",
       "                                               DSSP8  \\\n",
       "6  ---HHHHHHHS-GGGHHHHGGG-BTTB-HHHHHHTHHHHHHS-HHH...   \n",
       "\n",
       "                                            AFpred_8  \\\n",
       "6  --HHHHHHTS-HHHHHHHHTT--TTS-HHHHHHTHHHHHHS-HHHH...   \n",
       "\n",
       "                                         AF_sequence  \\\n",
       "6  MSQWNQVQQLEIKFLEQVDQFYDDNFPMEIRHLLAQWIETQDWEVA...   \n",
       "\n",
       "                                      jpred_sequence  \\\n",
       "6  GGSQWNQVQQLEIKFLEQVDQFYDDNFPMEIRHLLAQWIETQDWEV...   \n",
       "\n",
       "                                             jpred_3  \\\n",
       "6  -HHHHHHHH----HHHHHHHHH------HHHHHHHH----------...   \n",
       "\n",
       "                                               DSSP3  \n",
       "6  ---HHHHHHH-----HHHH----E--E-HHHHHH-HHHHHH--HHH...  "
      ]
     },
     "execution_count": 7,
     "metadata": {},
     "output_type": "execute_result"
    }
   ],
   "source": [
    "debug_df = sum_df[sum_df['seqID']==24716] # problematic one is 24716\n",
    "debug_df"
   ]
  },
  {
   "cell_type": "code",
   "execution_count": 8,
   "id": "4e3467fa-557a-47d3-93c3-aaf3983e4ec6",
   "metadata": {},
   "outputs": [],
   "source": [
    "def per_residue_score(ref,comp):\n",
    "    n = len(ref)\n",
    "    assert n == len(comp)\n",
    "    n_match = 0\n",
    "    for i in range(0,n):\n",
    "        if ref[i:i+1]==comp[i:i+1]:\n",
    "            n_match += 1\n",
    "    return n_match/(n+1e-32)"
   ]
  },
  {
   "cell_type": "code",
   "execution_count": 9,
   "id": "a3aeb761-e0a2-43e3-9c1d-64ff83068d62",
   "metadata": {},
   "outputs": [
    {
     "data": {
      "text/plain": [
       "0.0"
      ]
     },
     "execution_count": 9,
     "metadata": {},
     "output_type": "execute_result"
    }
   ],
   "source": [
    "testref=''\n",
    "testcomp=''\n",
    "per_residue_score(testref,testcomp)"
   ]
  },
  {
   "cell_type": "code",
   "execution_count": 10,
   "id": "b99dc475-2a29-4588-85c6-1b92897c63a7",
   "metadata": {},
   "outputs": [
    {
     "data": {
      "text/plain": [
       "0.10483870967741936"
      ]
     },
     "execution_count": 10,
     "metadata": {},
     "output_type": "execute_result"
    }
   ],
   "source": [
    "testref  = 'MSQWNQVQQLEIKFLEQVDQFYDDNFPMEIRHLLAQWIETQDWEVASNNETMATILLQNLLIQLDEQLGRVSKEKNLLLIHNLKRIRKVLQGKFHGNPMHVAVVISNCLREERRILAAANMPIQ'\n",
    "testcomp = 'GGSQWNQVQQLEIKFLEQVDQFYDDNFPMEIRHLLAQWIETQDWEVASNNETMATILLQNLLIQLDEQLGRVSKEKNLLLIHNLKRIRKVLQGKFHGNPMHVAVVISNCLREERRILAAANMPI'\n",
    "per_residue_score(testref,testcomp)"
   ]
  },
  {
   "cell_type": "code",
   "execution_count": 11,
   "id": "e4628ad1-56cd-4755-a654-941f268c5029",
   "metadata": {},
   "outputs": [
    {
     "data": {
      "text/plain": [
       "1.0"
      ]
     },
     "execution_count": 11,
     "metadata": {},
     "output_type": "execute_result"
    }
   ],
   "source": [
    "testref  = 'SQWNQVQQLEIKFLEQVDQFYDDNFPMEIRHLLAQWIETQDWEVASNNETMATILLQNLLIQLDEQLGRVSKEKNLLLIHNLKRIRKVLQGKFHGNPMHVAVVISNCLREERRILAAANMPI'\n",
    "testcomp = 'SQWNQVQQLEIKFLEQVDQFYDDNFPMEIRHLLAQWIETQDWEVASNNETMATILLQNLLIQLDEQLGRVSKEKNLLLIHNLKRIRKVLQGKFHGNPMHVAVVISNCLREERRILAAANMPI'\n",
    "per_residue_score(testref,testcomp)"
   ]
  },
  {
   "cell_type": "code",
   "execution_count": 24,
   "id": "9d2ccb1b-9c18-429e-82b6-c3d8d0dd2266",
   "metadata": {},
   "outputs": [],
   "source": [
    "def per_residue_align(refstring,compstring,threshold):\n",
    "    assert threshold <= 1\n",
    "    lref = len(refstring) \n",
    "    lcomp = len(compstring)\n",
    "    assert lref <= lcomp\n",
    "    lsearch = lcomp - lref + 1 # how many amino acid is stringc longer than stringb by\n",
    "    start,end = 0, lref # index to slice comparator string \n",
    "    best_overlap = per_residue_score(refstring,compstring[start:end]) # alignment start from N terminus\n",
    "    best_offset = 0\n",
    "    for offset in range(0,lsearch):\n",
    "        # compare percentage similarity\n",
    "        assert end+offset <= lcomp\n",
    "        test_window = compstring[start+offset:end+offset]\n",
    "        test_overlap = per_residue_score(refstring, test_window)\n",
    "        if test_overlap > best_overlap:\n",
    "            best_overlap = test_overlap\n",
    "            best_offset = offset\n",
    "        else:\n",
    "            pass\n",
    "    \n",
    "    # sanity check on best_offset by using it to slice compstring\n",
    "    best_window = compstring[best_offset:best_offset + lref]\n",
    "    # check we indeed have the best answer (probably unecessary but I'm not a computer scientist)\n",
    "    assert per_residue_score(best_window, refstring) == best_overlap\n",
    "    \n",
    "    if best_overlap >= threshold: \n",
    "        return best_offset, best_overlap\n",
    "    else:\n",
    "        # threshold is not met\n",
    "        return -1, best_overlap"
   ]
  },
  {
   "cell_type": "code",
   "execution_count": 13,
   "id": "082c7ea7-a206-48c7-ad16-4e4ed96d6152",
   "metadata": {},
   "outputs": [
    {
     "data": {
      "text/plain": [
       "(-1, 0.14516129032258066)"
      ]
     },
     "execution_count": 13,
     "metadata": {},
     "output_type": "execute_result"
    }
   ],
   "source": [
    "testref = 'GGSQWNQVQQLEIKFLEQVDQFYDDNFPMEIRHLLAQWIETQDWEVASNNETMATILLQNLLIQLDEQLGRVSKEKNLLLIHNLKRIRKVLQGKFHGNPMHVAVVISNCLREERRILAAANMPI'\n",
    "testcomp  = 'MSQWNQVQQLEIKFLEQVDQFYDDNFPMEIRHLLAQWIETQDWEVASNNETMATILLQNLLIQLDEQLGRVSKEKNLLLIHNLKRIRKVLQGKFHGNPMHVAVVISNCLREERRILAAANMPIQGPLEKSLQSSSVSERQRNVEHKVSAIKNSVQMTEQDTKYLEDLQDEFDYRYKTIQTMDQGDKNSILVNQEVLTLLQEMLNSLDFKRKEALSKMTQIVNETDLLMNSMLLEELQDWKKRQQIACIGGPLHNGLDQLQNCFTLLAESLFQLRQQLEKLQEQSTKMTYEGDPIPAQRAHLLERATFLIYNLFKNSFVVERQPCMPTHPQRPMVLKTLIQFTVKLRLLIKLPELNYQVKVKASIDKNVSTLSNRRFVLCGTHVKAMSSEESSNGSLSVEFRHLQPKEMKCSTGSKGNEGCHMVTEELHSITFETQICLYGLTINLETSSLPVVMISNVSQLPNAWASIIWYNVSTNDSQNLVFFNNPPSVTLGQLLEVMSWQFSSYVGRGLNSEQLNMLAEKLTVQSNYNDGHLTWAKFCKEHLPGKTFTFWTWLEAILDLIKKHILPLWIDGYIMGFVSKEKERLLLKDKMPGTFLLRFSESHLGGITFTWVDQSENGEVRFHSVEPYNKGRLSALAFADILRDYKVIMAENIPENPLKYLYPDIPKDKAFGKHYSSQPCEVSRPTERGDKGYVPSVFIPISTIRSDSTEPQSPSDLLPMSPSAYAVLRENLSPTTIETAMNSPYSAE'\n",
    "per_residue_align(testref,testcomp,threshold=0.9)"
   ]
  },
  {
   "cell_type": "code",
   "execution_count": 28,
   "id": "52090b12-68b6-4dd0-ae38-d26fe397cf09",
   "metadata": {},
   "outputs": [
    {
     "data": {
      "text/plain": [
       "122"
      ]
     },
     "execution_count": 28,
     "metadata": {},
     "output_type": "execute_result"
    }
   ],
   "source": [
    "testref = 'GGSQWNQVQQLEIKFLEQVDQFYDDNFPMEIRHLLAQWIETQDWEVASNNETMATILLQNLLIQLDEQLGRVSKEKNLLLIHNLKRIRKVLQGKFHGNPMHVAVVISNCLREERRILAAANMPI'\n",
    "testcomp  = 'MSQWNQVQQLEIKFLEQVDQFYDDNFPMEIRHLLAQWIETQDWEVASNNETMATILLQNLLIQLDEQLGRVSKEKNLLLIHNLKRIRKVLQGKFHGNPMHVAVVISNCLREERRILAAANMPIQGPLEKSLQSSSVSERQRNVEHKVSAIKNSVQMTEQDTKYLEDLQDEFDYRYKTIQTMDQGDKNSILVNQEVLTLLQEMLNSLDFKRKEALSKMTQIVNETDLLMNSMLLEELQDWKKRQQIACIGGPLHNGLDQLQNCFTLLAESLFQLRQQLEKLQEQSTKMTYEGDPIPAQRAHLLERATFLIYNLFKNSFVVERQPCMPTHPQRPMVLKTLIQFTVKLRLLIKLPELNYQVKVKASIDKNVSTLSNRRFVLCGTHVKAMSSEESSNGSLSVEFRHLQPKEMKCSTGSKGNEGCHMVTEELHSITFETQICLYGLTINLETSSLPVVMISNVSQLPNAWASIIWYNVSTNDSQNLVFFNNPPSVTLGQLLEVMSWQFSSYVGRGLNSEQLNMLAEKLTVQSNYNDGHLTWAKFCKEHLPGKTFTFWTWLEAILDLIKKHILPLWIDGYIMGFVSKEKERLLLKDKMPGTFLLRFSESHLGGITFTWVDQSENGEVRFHSVEPYNKGRLSALAFADILRDYKVIMAENIPENPLKYLYPDIPKDKAFGKHYSSQPCEVSRPTERGDKGYVPSVFIPISTIRSDSTEPQSPSDLLPMSPSAYAVLRENLSPTTIETAMNSPYSAE'\n",
    "pylcs.lcs(testcomp,testref)"
   ]
  },
  {
   "cell_type": "code",
   "execution_count": 26,
   "id": "52b9bec9-e929-40f9-a4b2-06da1d97587d",
   "metadata": {
    "tags": []
   },
   "outputs": [
    {
     "data": {
      "text/plain": [
       "(1, 1.0)"
      ]
     },
     "execution_count": 26,
     "metadata": {},
     "output_type": "execute_result"
    }
   ],
   "source": [
    "testref = 'SQWNQVQQLEIKFLEQVDQFYDDNFPMEIRHLLAQWIETQDWEVASNNETMATILLQNLLIQLDEQLGRVSKEKNLLLIHNLKRIRKVLQGKFHGNPMHVAVVISNCLREERRILAAANMPI'\n",
    "testcomp  = 'MSQWNQVQQLEIKFLEQVDQFYDDNFPMEIRHLLAQWIETQDWEVASNNETMATILLQNLLIQLDEQLGRVSKEKNLLLIHNLKRIRKVLQGKFHGNPMHVAVVISNCLREERRILAAANMPIQGPLEKSLQSSSVSERQRNVEHKVSAIKNSVQMTEQDTKYLEDLQDEFDYRYKTIQTMDQGDKNSILVNQEVLTLLQEMLNSLDFKRKEALSKMTQIVNETDLLMNSMLLEELQDWKKRQQIACIGGPLHNGLDQLQNCFTLLAESLFQLRQQLEKLQEQSTKMTYEGDPIPAQRAHLLERATFLIYNLFKNSFVVERQPCMPTHPQRPMVLKTLIQFTVKLRLLIKLPELNYQVKVKASIDKNVSTLSNRRFVLCGTHVKAMSSEESSNGSLSVEFRHLQPKEMKCSTGSKGNEGCHMVTEELHSITFETQICLYGLTINLETSSLPVVMISNVSQLPNAWASIIWYNVSTNDSQNLVFFNNPPSVTLGQLLEVMSWQFSSYVGRGLNSEQLNMLAEKLTVQSNYNDGHLTWAKFCKEHLPGKTFTFWTWLEAILDLIKKHILPLWIDGYIMGFVSKEKERLLLKDKMPGTFLLRFSESHLGGITFTWVDQSENGEVRFHSVEPYNKGRLSALAFADILRDYKVIMAENIPENPLKYLYPDIPKDKAFGKHYSSQPCEVSRPTERGDKGYVPSVFIPISTIRSDSTEPQSPSDLLPMSPSAYAVLRENLSPTTIETAMNSPYSAE'\n",
    "per_residue_align(testref,testcomp,threshold=1)"
   ]
  },
  {
   "cell_type": "code",
   "execution_count": 30,
   "id": "eb0ddee0-9da7-41b2-80af-6cef73f9b582",
   "metadata": {},
   "outputs": [],
   "source": [
    "def truncate_row(original_row, threshold=0.9):\n",
    "    row = original_row.copy(deep=True)\n",
    "    truncate = True\n",
    "    lcs_length = pylcs.lcs(row.jpred_sequence, row.AF_sequence)\n",
    "    if len(row.jpred_sequence) <= len(row.AF_sequence):\n",
    "        AF_start, similarity = per_residue_align(row.jpred_sequence, row.AF_sequence, threshold)\n",
    "        \n",
    "        if AF_start == -1:\n",
    "            # could fail because the lcs could start at residue n\n",
    "            # remove n resides from start of jpred sequence\n",
    "            jpred_start = len(row.jpred_sequence) - lcs_length # find n\n",
    "            jpred_sequence_backup = row.jpred_sequence\n",
    "            row.jpred_sequence = row.jpred_sequence[jpred_start:]\n",
    "            # try again\n",
    "            AF_start, similarity = per_residue_align(row.jpred_sequence, row.AF_sequence, threshold)\n",
    "            \n",
    "            if AF_start == -1:\n",
    "                # no subsequence with similarity > threshold found\n",
    "                truncate = False\n",
    "                # reset jpred sequence to original\n",
    "                row.jpred_sequence = jpred_sequence_backup\n",
    "        \n",
    "        if truncate:\n",
    "            # perform truncation\n",
    "            # truncate N terminus of alphafold sequence to match N terminus of jpred sequence\n",
    "            row.AF_sequence = row.AF_sequence[AF_start:]\n",
    "            row.AFpred_8 = row.AFpred_8[AF_start:]\n",
    "\n",
    "            # truncate N terminus of jpred sequence\n",
    "            jpred_start = len(row.jpred_sequence) - lcs_length\n",
    "            row.jpred_sequence = row.jpred_sequence[jpred_start:]\n",
    "            row.jpred_3 = row.jpred_3[jpred_start:]\n",
    "\n",
    "            # truncate C terminus of alphafold sequence\n",
    "            AF_end = AF_start + lcs_length + jpred_start\n",
    "            row.AF_sequence = row.AF_sequence[:AF_end]\n",
    "            row.AFpred_8 = row.AFpred_8[:AF_end]\n",
    "\n",
    "            # add column consisting of AF pred 3 state version\n",
    "            row.AFpred_3 = reduce_dssp(row.AFpred_8)\n",
    "\n",
    "    else:\n",
    "        # jpred sequence is longer than the alphafold sequence\n",
    "        # so do exact same as above but call per_residue_align with arguments swapped\n",
    "        jpred_start, similarity = per_residue_align(row.AF_sequence, row.jpred_sequence, threshold)\n",
    "        \n",
    "        if jpred_start == -1:\n",
    "            # could fail because the lcs could start at residue n\n",
    "            # remove n residues from the jpred sequence\n",
    "            AF_start = len(row.AF_sequence) - lcs_length\n",
    "            AF_sequence_backup = row.AF_sequence\n",
    "            row.AF_sequence = row.AF_sequence[AF_start:]\n",
    "            jpred_start, similarity = per_residue_align(row.AF_sequence, row.jpred_sequence, threshold)\n",
    "            # try again\n",
    "            if jpred_start == -1:\n",
    "                # no subsequence with similarity > threshold found\n",
    "                truncate = False\n",
    "                # reset AF_sequence to original\n",
    "                row.AF_sequence = AF_sequence_backup\n",
    "            \n",
    "        if truncate:\n",
    "            # calculate length of lcs\n",
    "            overlap_length = pylcs.lcs(row.AF_sequence, row.jpred_sequence)\n",
    "            \n",
    "            # truncate N terminus of jpred sequence to match N terminus of alphafold sequence\n",
    "            row.jpred_sequence = row.jpred_sequence[jpred_start:]\n",
    "            row.jpred_3 = row.jpred_3[jpred_start:]\n",
    "            \n",
    "            # truncate N terminus of alphafold sequence\n",
    "            AF_start = len(row.AF_sequence) - lcs_length\n",
    "            row.AF_sequence = row.AF_sequence[AF_start:]\n",
    "            row.AFpred_8 = row.AFpred_8[AF_start:]\n",
    "            \n",
    "            # truncate C terminus of jpred sequence\n",
    "            jpred_end = jpred_start + lcs_length + AF_start\n",
    "            row.jpred_sequence = row.jpred_sequence[:jpred_end]\n",
    "            row.jpred_3 = row.jpred_3[:jpred_end]\n",
    "            \n",
    "            # add column with AF pred 3 state version\n",
    "            row.AFpred_3 = reduce_dssp(row.AFpred_8)\n",
    "    \n",
    "    assert similarity # should be at least 0\n",
    "    row.loc['similarity'] = similarity\n",
    "    \n",
    "    # for debug\n",
    "    # if no truncation was performed, it is because sequences don't align\n",
    "    if not truncate:\n",
    "        print(f'seqId {row.seqID}: sequences do not align', file=sys.stderr)\n",
    "    \n",
    "    return row"
   ]
  },
  {
   "cell_type": "code",
   "execution_count": 37,
   "id": "c66a3ddc-bfb7-41d9-8945-03cacfff2287",
   "metadata": {},
   "outputs": [],
   "source": [
    "debug_df = sum_df[sum_df['seqID']<25000] # problematic one is 24716\n"
   ]
  },
  {
   "cell_type": "code",
   "execution_count": 38,
   "id": "7d1e9b03-6799-44fb-bfb9-b4a0cd6a47c5",
   "metadata": {},
   "outputs": [
    {
     "name": "stderr",
     "output_type": "stream",
     "text": [
      "seqId 24715: sequences do not align\n",
      "seqId 24741: sequences do not align\n",
      "seqId 24744: sequences do not align\n",
      "seqId 24746: sequences do not align\n",
      "seqId 24753: sequences do not align\n",
      "seqId 24773: sequences do not align\n",
      "seqId 24798: sequences do not align\n",
      "seqId 24833: sequences do not align\n",
      "seqId 24849: sequences do not align\n",
      "seqId 24852: sequences do not align\n",
      "seqId 24861: sequences do not align\n",
      "seqId 24863: sequences do not align\n",
      "seqId 24892: sequences do not align\n",
      "seqId 24905: sequences do not align\n",
      "seqId 24909: sequences do not align\n",
      "seqId 24921: sequences do not align\n",
      "seqId 24937: sequences do not align\n",
      "seqId 24970: sequences do not align\n",
      "seqId 24982: sequences do not align\n"
     ]
    },
    {
     "data": {
      "text/html": [
       "<div>\n",
       "<style scoped>\n",
       "    .dataframe tbody tr th:only-of-type {\n",
       "        vertical-align: middle;\n",
       "    }\n",
       "\n",
       "    .dataframe tbody tr th {\n",
       "        vertical-align: top;\n",
       "    }\n",
       "\n",
       "    .dataframe thead th {\n",
       "        text-align: right;\n",
       "    }\n",
       "</style>\n",
       "<table border=\"1\" class=\"dataframe\">\n",
       "  <thead>\n",
       "    <tr style=\"text-align: right;\">\n",
       "      <th></th>\n",
       "      <th>seqID</th>\n",
       "      <th>AF_sequence</th>\n",
       "      <th>jpred_sequence</th>\n",
       "    </tr>\n",
       "  </thead>\n",
       "  <tbody>\n",
       "    <tr>\n",
       "      <th>0</th>\n",
       "      <td>24695</td>\n",
       "      <td>KKVKVSHRSHSTEPGLVLTLGQGDVGQLGLGENVMERKKPALVSIPEDVVQAEAGGMHTVCLSKSGQVYSFGCNDEGALGRDTSVEGSEMVPGKVE...</td>\n",
       "      <td>KKVKVSHRSHSTEPGLVLTLGQGDVGQLGLGENVMERKKPALVSIPEDVVQAEAGGMHTVCLSKSGQVYSFGCNDEGALGRDTSVEGSEMVPGKVE...</td>\n",
       "    </tr>\n",
       "    <tr>\n",
       "      <th>1</th>\n",
       "      <td>24696</td>\n",
       "      <td>AGEDVGAPPDHLWVHQEGIYRDEYQRTWVAVVEEETSFLRARVQQIQVPLGDAARPSHLLTSQLPLMWQLYPEERYMDNNSRLWQIQHHLMVRGVQ...</td>\n",
       "      <td>AGEDVGAPPDHLWVHQEGIYRDEYQRTWVAVVEEETSFLRARVQQIQVPLGDAARPSHLLTSQLPLMWQLYPEERYMDNNSRLWQIQHHLMVRGVQ...</td>\n",
       "    </tr>\n",
       "    <tr>\n",
       "      <th>2</th>\n",
       "      <td>24697</td>\n",
       "      <td>MNLTELKNTPVSELITLGENMGLENLARMRKQDIIFAILKQHAKSGE</td>\n",
       "      <td>MNLTELKNTPVSELITLGENMGLENLARMRKQDIIFAILKQHAKSGE</td>\n",
       "    </tr>\n",
       "    <tr>\n",
       "      <th>3</th>\n",
       "      <td>24706</td>\n",
       "      <td>EYFTLQIRGRERFEMFRELNEALELKDAQAGKEPGGSRAHSSHLKSKKGQSTSRHKKLMFKTEGPDSD</td>\n",
       "      <td>EYFTLQIRGRERFEMFRELNEALELKDAQAG</td>\n",
       "    </tr>\n",
       "    <tr>\n",
       "      <th>4</th>\n",
       "      <td>24713</td>\n",
       "      <td>PPHSIEAEQSVLGGLMLDNERWDDVAERVVADDFYTRPHRHIFTEMARLQESGSPIDLITLAESLERQGQLDSVGGFAYLAELSKNTPSAANISAY...</td>\n",
       "      <td>PPHSIEAEQSVLGGLMLDNERWDDVAERVVADDFYTRPHRHIFTEMARLQESGSPIDLITLAESLERQGQLDSVGGFAYLAELSKNTPSAANISAY...</td>\n",
       "    </tr>\n",
       "    <tr>\n",
       "      <th>...</th>\n",
       "      <td>...</td>\n",
       "      <td>...</td>\n",
       "      <td>...</td>\n",
       "    </tr>\n",
       "    <tr>\n",
       "      <th>105</th>\n",
       "      <td>24971</td>\n",
       "      <td>AAYPITGKLGSELTMTDTVGQVVLGWKVSDLKSSTAVIPGYPVAGQVWEATATVNAIRGSVTPAVSQFNARTADGINYRVLWQAAGPDTISGATIP...</td>\n",
       "      <td>AYPITGKLGSELTMTDTVGQVVLGWKVSDLKSSTAVIPGYPVAGQVWEATATVNAIRGSVTPAVSQFNARTADGINYRVLWQAAGPDTISGATIPQ...</td>\n",
       "    </tr>\n",
       "    <tr>\n",
       "      <th>106</th>\n",
       "      <td>24978</td>\n",
       "      <td>QDGGWSHWSPWSSCSVTCGDGVITRIRLCNSPSPQMNGKPCEGEARETKACKKDACPINGGWGPWSPWDICSVTCGGGVQKRSRLCNNPTPQFGGK...</td>\n",
       "      <td>QDGGWSHWSPWSSCSVTCGDGVITRIRLCNSPSPQMNGKPCEGEARETKACKKD</td>\n",
       "    </tr>\n",
       "    <tr>\n",
       "      <th>107</th>\n",
       "      <td>24982</td>\n",
       "      <td>MATQADLMELDMAMEPDRKAAVSHWQQQSYLDSGIHSGATTTAPSLSGKGNPEEEDVDTSQVLYEWEQGFSQSFTQEQVADIDGQYAMTRAQRVRA...</td>\n",
       "      <td>KSPEEMYIQQKVRVLLMLRKMGSNLTASEEEFLRTYAGVVNSQLSQIDQGAEDVVMAFSRSETED</td>\n",
       "    </tr>\n",
       "    <tr>\n",
       "      <th>108</th>\n",
       "      <td>24990</td>\n",
       "      <td>CPQEDSDIAFLIDGSGSIIPHDFRRMKEFVSTVMEQLKKSKTLFSLMQYSEEFRIHFTFKEFQNNPNPRSLVKPITQLLGRTHTATGIRKVVRELF...</td>\n",
       "      <td>CPQEDSDIAFLIDGSGSIIPHDFRRMKEFVSTVMEQLKKSKTLFSLMQYSEEFRIHFTFKEFQNNPNPRSLVKPITQLLGRTHTATGIRKVVRELF...</td>\n",
       "    </tr>\n",
       "    <tr>\n",
       "      <th>109</th>\n",
       "      <td>24991</td>\n",
       "      <td>KKAKKVRFYRNGDRYFKGIVYAISPDRFRSFEALLADLTRTLSDNVNLPQGVRTIYTIDGLKKISSLDQLVEGESYVCGSIEPFKKLEYTKNVNPN...</td>\n",
       "      <td>KKAKKVRFYRNGDRYFKGIVYAISPDRFRSFEALLADLTRTLSDNVNLPQGVRTIYTIDGLKKISSLDQLVEGESYVCGSIEPFKKLEYTKNVNPN...</td>\n",
       "    </tr>\n",
       "  </tbody>\n",
       "</table>\n",
       "<p>110 rows × 3 columns</p>\n",
       "</div>"
      ],
      "text/plain": [
       "     seqID  \\\n",
       "0    24695   \n",
       "1    24696   \n",
       "2    24697   \n",
       "3    24706   \n",
       "4    24713   \n",
       "..     ...   \n",
       "105  24971   \n",
       "106  24978   \n",
       "107  24982   \n",
       "108  24990   \n",
       "109  24991   \n",
       "\n",
       "                                                                                             AF_sequence  \\\n",
       "0    KKVKVSHRSHSTEPGLVLTLGQGDVGQLGLGENVMERKKPALVSIPEDVVQAEAGGMHTVCLSKSGQVYSFGCNDEGALGRDTSVEGSEMVPGKVE...   \n",
       "1    AGEDVGAPPDHLWVHQEGIYRDEYQRTWVAVVEEETSFLRARVQQIQVPLGDAARPSHLLTSQLPLMWQLYPEERYMDNNSRLWQIQHHLMVRGVQ...   \n",
       "2                                                        MNLTELKNTPVSELITLGENMGLENLARMRKQDIIFAILKQHAKSGE   \n",
       "3                                   EYFTLQIRGRERFEMFRELNEALELKDAQAGKEPGGSRAHSSHLKSKKGQSTSRHKKLMFKTEGPDSD   \n",
       "4    PPHSIEAEQSVLGGLMLDNERWDDVAERVVADDFYTRPHRHIFTEMARLQESGSPIDLITLAESLERQGQLDSVGGFAYLAELSKNTPSAANISAY...   \n",
       "..                                                                                                   ...   \n",
       "105  AAYPITGKLGSELTMTDTVGQVVLGWKVSDLKSSTAVIPGYPVAGQVWEATATVNAIRGSVTPAVSQFNARTADGINYRVLWQAAGPDTISGATIP...   \n",
       "106  QDGGWSHWSPWSSCSVTCGDGVITRIRLCNSPSPQMNGKPCEGEARETKACKKDACPINGGWGPWSPWDICSVTCGGGVQKRSRLCNNPTPQFGGK...   \n",
       "107  MATQADLMELDMAMEPDRKAAVSHWQQQSYLDSGIHSGATTTAPSLSGKGNPEEEDVDTSQVLYEWEQGFSQSFTQEQVADIDGQYAMTRAQRVRA...   \n",
       "108  CPQEDSDIAFLIDGSGSIIPHDFRRMKEFVSTVMEQLKKSKTLFSLMQYSEEFRIHFTFKEFQNNPNPRSLVKPITQLLGRTHTATGIRKVVRELF...   \n",
       "109  KKAKKVRFYRNGDRYFKGIVYAISPDRFRSFEALLADLTRTLSDNVNLPQGVRTIYTIDGLKKISSLDQLVEGESYVCGSIEPFKKLEYTKNVNPN...   \n",
       "\n",
       "                                                                                          jpred_sequence  \n",
       "0    KKVKVSHRSHSTEPGLVLTLGQGDVGQLGLGENVMERKKPALVSIPEDVVQAEAGGMHTVCLSKSGQVYSFGCNDEGALGRDTSVEGSEMVPGKVE...  \n",
       "1    AGEDVGAPPDHLWVHQEGIYRDEYQRTWVAVVEEETSFLRARVQQIQVPLGDAARPSHLLTSQLPLMWQLYPEERYMDNNSRLWQIQHHLMVRGVQ...  \n",
       "2                                                        MNLTELKNTPVSELITLGENMGLENLARMRKQDIIFAILKQHAKSGE  \n",
       "3                                                                        EYFTLQIRGRERFEMFRELNEALELKDAQAG  \n",
       "4    PPHSIEAEQSVLGGLMLDNERWDDVAERVVADDFYTRPHRHIFTEMARLQESGSPIDLITLAESLERQGQLDSVGGFAYLAELSKNTPSAANISAY...  \n",
       "..                                                                                                   ...  \n",
       "105  AYPITGKLGSELTMTDTVGQVVLGWKVSDLKSSTAVIPGYPVAGQVWEATATVNAIRGSVTPAVSQFNARTADGINYRVLWQAAGPDTISGATIPQ...  \n",
       "106                                               QDGGWSHWSPWSSCSVTCGDGVITRIRLCNSPSPQMNGKPCEGEARETKACKKD  \n",
       "107                                    KSPEEMYIQQKVRVLLMLRKMGSNLTASEEEFLRTYAGVVNSQLSQIDQGAEDVVMAFSRSETED  \n",
       "108  CPQEDSDIAFLIDGSGSIIPHDFRRMKEFVSTVMEQLKKSKTLFSLMQYSEEFRIHFTFKEFQNNPNPRSLVKPITQLLGRTHTATGIRKVVRELF...  \n",
       "109  KKAKKVRFYRNGDRYFKGIVYAISPDRFRSFEALLADLTRTLSDNVNLPQGVRTIYTIDGLKKISSLDQLVEGESYVCGSIEPFKKLEYTKNVNPN...  \n",
       "\n",
       "[110 rows x 3 columns]"
      ]
     },
     "execution_count": 38,
     "metadata": {},
     "output_type": "execute_result"
    }
   ],
   "source": [
    "l = []\n",
    "for i,row in debug_df.iterrows():\n",
    "    new_row = truncate_row(row,threshold=0.9)\n",
    "    l.append(new_row)\n",
    "pd.options.display.max_colwidth = 100\n",
    "pd.concat(l,axis=1).T[['seqID','AF_sequence','jpred_sequence']]"
   ]
  },
  {
   "cell_type": "code",
   "execution_count": null,
   "id": "67d58502-3da0-4695-8c1c-947909073083",
   "metadata": {},
   "outputs": [],
   "source": []
  }
 ],
 "metadata": {
  "kernelspec": {
   "display_name": "Python [conda env:miniconda-dssp]",
   "language": "python",
   "name": "conda-env-miniconda-dssp-py"
  },
  "language_info": {
   "codemirror_mode": {
    "name": "ipython",
    "version": 3
   },
   "file_extension": ".py",
   "mimetype": "text/x-python",
   "name": "python",
   "nbconvert_exporter": "python",
   "pygments_lexer": "ipython3",
   "version": "3.6.13"
  }
 },
 "nbformat": 4,
 "nbformat_minor": 5
}
