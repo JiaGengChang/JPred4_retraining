{
 "cells": [
  {
   "cell_type": "code",
   "execution_count": 2,
   "id": "bd6e95a4-0207-4b63-b669-840addd02f19",
   "metadata": {},
   "outputs": [],
   "source": [
    "import os\n",
    "import json\n",
    "import glob\n",
    "import pandas as pd"
   ]
  },
  {
   "cell_type": "code",
   "execution_count": 11,
   "id": "09c38319-cd58-45f5-b35f-4c945c57bec4",
   "metadata": {},
   "outputs": [],
   "source": [
    "os.chdir('/cluster/gjb_lab/2472402')\n",
    "json_file_list = glob.glob('pdb-json-files/*.json')\n",
    "pdb_df = pd.read_csv('data/dictionaries/1507_pdbId.csv')\n",
    "pdb_file_list = ['pdb-json-files/'+pdbId+'.json' for pdbId in pdb_df.pdbId]"
   ]
  },
  {
   "cell_type": "code",
   "execution_count": 47,
   "id": "522637a2-4cb3-453e-8333-e1bfaa4370c1",
   "metadata": {},
   "outputs": [
    {
     "data": {
      "text/plain": [
       "1507"
      ]
     },
     "execution_count": 47,
     "metadata": {},
     "output_type": "execute_result"
    }
   ],
   "source": [
    "len(pdb_file_list)"
   ]
  },
  {
   "cell_type": "code",
   "execution_count": 55,
   "id": "49d34853-8454-40cd-8f6c-2b4b8324d32b",
   "metadata": {},
   "outputs": [],
   "source": [
    "pdb_dict_list = []\n",
    "no_json_df = pd.DataFrame()\n",
    "wf_json_df = pd.DataFrame()\n",
    "for i,row in pdb_df.iterrows():\n",
    "    json_file_path = 'pdb-json-files/' + row.pdbId + '.json'\n",
    "    if os.path.exists(json_file_path):\n",
    "        with open(json_file_path,'r') as f:\n",
    "            pdb_dict = json.loads(f.read())\n",
    "            pdb_dict_list.append(pdb_dict)\n",
    "            wf_json_df = pd.concat([wf_json_df, row],axis=1,sort=False)\n",
    "    else:\n",
    "        no_json_df = pd.concat([no_json_df, row],axis=1,sort=False)\n",
    "\n",
    "no_json_df=no_json_df.T\n",
    "wf_json_df=wf_json_df.T"
   ]
  },
  {
   "cell_type": "code",
   "execution_count": 58,
   "id": "4cb100d3-2fbf-4a79-894e-d0d103b7ed90",
   "metadata": {},
   "outputs": [
    {
     "data": {
      "text/plain": [
       "1342"
      ]
     },
     "execution_count": 58,
     "metadata": {},
     "output_type": "execute_result"
    }
   ],
   "source": [
    "len(json_file_list)"
   ]
  },
  {
   "cell_type": "code",
   "execution_count": 56,
   "id": "7c08b1c9-4cb0-4628-8011-c74768b3914d",
   "metadata": {},
   "outputs": [
    {
     "data": {
      "text/plain": [
       "(1473, 3)"
      ]
     },
     "execution_count": 56,
     "metadata": {},
     "output_type": "execute_result"
    }
   ],
   "source": [
    "wf_json_df.shape"
   ]
  },
  {
   "cell_type": "code",
   "execution_count": 57,
   "id": "de200a5a-a48a-45a4-84f1-cda947f6ed3b",
   "metadata": {},
   "outputs": [
    {
     "data": {
      "text/plain": [
       "(34, 3)"
      ]
     },
     "execution_count": 57,
     "metadata": {},
     "output_type": "execute_result"
    }
   ],
   "source": [
    "no_json_df.shape"
   ]
  },
  {
   "cell_type": "code",
   "execution_count": 62,
   "id": "857cc04b-7367-48dd-bc5a-f1a93a1b3cb5",
   "metadata": {},
   "outputs": [
    {
     "data": {
      "text/plain": [
       "1473"
      ]
     },
     "execution_count": 62,
     "metadata": {},
     "output_type": "execute_result"
    }
   ],
   "source": [
    "len(pdb_dict_list)"
   ]
  },
  {
   "cell_type": "code",
   "execution_count": 94,
   "id": "f58cb208-6fbd-4664-b850-306a93032d4a",
   "metadata": {},
   "outputs": [
    {
     "name": "stdout",
     "output_type": "stream",
     "text": [
      "There are 285 pdbIds with only one uniprot mapping\n"
     ]
    }
   ],
   "source": [
    "is_singleton=0\n",
    "log=[]\n",
    "for i,pdbId in enumerate(wf_json_df.pdbId[:]):\n",
    "    pdb_dict = pdb_dict_list[i]\n",
    "    uniprot_mappings = pdb_dict[pdbId]['UniProt']\n",
    "    if uniprot_mappings.keys().__len__()==1:\n",
    "        is_singleton+=1\n",
    "    else:\n",
    "        log.append('%s %s' % (pdbId,uniprot_mappings.keys()))\n",
    "print(f'There are {is_singleton} pdbIds with only one uniprot mapping')"
   ]
  },
  {
   "cell_type": "code",
   "execution_count": 63,
   "id": "aa4774e4-5a61-44f2-bae1-355ec10edf2e",
   "metadata": {},
   "outputs": [
    {
     "data": {
      "text/plain": [
       "0       1a12\n",
       "1       1a1x\n",
       "2       1a62\n",
       "3       1a9x\n",
       "4       1a9x\n",
       "        ... \n",
       "1491    4ler\n",
       "1492    4lrs\n",
       "1494    4mf5\n",
       "1495    4mjr\n",
       "1496    4sgb\n",
       "Name: pdbId, Length: 1473, dtype: object"
      ]
     },
     "execution_count": 63,
     "metadata": {},
     "output_type": "execute_result"
    }
   ],
   "source": [
    "wf_json_df.pdbId"
   ]
  },
  {
   "cell_type": "code",
   "execution_count": 95,
   "id": "d943c4bb-88e9-48b5-a72e-fcf3991a0e75",
   "metadata": {},
   "outputs": [
    {
     "data": {
      "text/plain": [
       "[\"1a12 dict_keys(['P18754-2', 'PRO_0000206628', 'P18754'])\",\n",
       " \"1a1x dict_keys(['PRO_0000184486', 'P56278'])\",\n",
       " \"1a62 dict_keys(['PRO_0000188962', 'P0AG30'])\",\n",
       " \"1a9x dict_keys(['PRO_0000112274', 'P0A6F1', 'P00968', 'PRO_0000145004'])\",\n",
       " \"1a9x dict_keys(['PRO_0000112274', 'P0A6F1', 'P00968', 'PRO_0000145004'])\",\n",
       " \"1aco dict_keys(['PRO_0000000540', 'P20004'])\",\n",
       " \"1aco dict_keys(['PRO_0000000540', 'P20004'])\",\n",
       " \"1ad2 dict_keys(['PRO_0000125765', 'P27150'])\",\n",
       " \"1ae9 dict_keys(['PRO_0000197527', 'P03700'])\",\n",
       " \"1af7 dict_keys(['PRO_0000176039', 'P07801'])\",\n",
       " \"1ah7 dict_keys(['PRO_0000023928', 'P09598'])\",\n",
       " \"1aie dict_keys(['P04637-9', 'P04637-8', 'P04637-7', 'P04637-6', 'P04637-5', 'P04637-4', 'PRO_0000185703', 'P04637', 'P04637-2', 'P04637-3'])\",\n",
       " \"1aol dict_keys(['PRO_0000239581', 'PRO_0000040751', 'P03390'])\",\n",
       " \"1ayo dict_keys(['PRO_0000093790', 'Q7SIH1'])\",\n",
       " \"1b0n dict_keys(['PRO_0000097763', 'P23308', 'PRO_0000149738', 'P06533'])\",\n",
       " \"1b33 dict_keys(['PRO_0000199235', 'P20116', 'PRO_0000199099', 'P00318', 'PRO_0000199073', 'P00315'])\",\n",
       " \"1b79 dict_keys(['PRO_0000102019', 'P0ACB0'])\",\n",
       " \"1bco dict_keys(['PRO_0000077584', 'P07636'])\",\n",
       " \"1bg1 dict_keys(['P42227-2', 'PRO_0000182418', 'P42227', 'P42227-3'])\",\n",
       " \"1bgf dict_keys(['PRO_0000182421', 'P42228'])\"]"
      ]
     },
     "execution_count": 95,
     "metadata": {},
     "output_type": "execute_result"
    }
   ],
   "source": [
    "log[:20]"
   ]
  }
 ],
 "metadata": {
  "kernelspec": {
   "display_name": "Python 3 (dssp)",
   "language": "python",
   "name": "dssp"
  },
  "language_info": {
   "codemirror_mode": {
    "name": "ipython",
    "version": 3
   },
   "file_extension": ".py",
   "mimetype": "text/x-python",
   "name": "python",
   "nbconvert_exporter": "python",
   "pygments_lexer": "ipython3",
   "version": "3.6.8"
  }
 },
 "nbformat": 4,
 "nbformat_minor": 5
}
