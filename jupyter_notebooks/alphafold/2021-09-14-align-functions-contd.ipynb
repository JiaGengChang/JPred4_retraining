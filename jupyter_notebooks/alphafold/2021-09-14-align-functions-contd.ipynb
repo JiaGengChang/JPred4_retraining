{
 "cells": [
  {
   "cell_type": "markdown",
   "id": "f27771a7-7a80-40ce-be0d-3d80b228fe16",
   "metadata": {},
   "source": [
    "## Import modules"
   ]
  },
  {
   "cell_type": "code",
   "execution_count": null,
   "id": "a1731e48-b804-4b38-b703-87424b52548e",
   "metadata": {},
   "outputs": [],
   "source": [
    "import pandas as pd\n",
    "import numpy as np\n",
    "import os\n",
    "from joblib import Parallel, delayed\n",
    "\n",
    "pd.options.display.max_rows=999\n",
    "pd.options.display.max_columns=999"
   ]
  },
  {
   "cell_type": "markdown",
   "id": "547b18dd-ca41-40c9-a3e2-efd77f5c19a7",
   "metadata": {
    "tags": []
   },
   "source": [
    "## Load functions "
   ]
  },
  {
   "cell_type": "code",
   "execution_count": 619,
   "id": "301b7077-d0a9-4dee-a7e7-5edcef8ba75f",
   "metadata": {
    "tags": []
   },
   "outputs": [],
   "source": [
    "def align(s1,s2,debug=False,verbose=False):\n",
    "    assert len(s1) > 0 and len(s2) > 0\n",
    "    \n",
    "    m = len(s1)\n",
    "    n = len(s2)\n",
    "    \n",
    "    # for debugging\n",
    "    if debug:\n",
    "        global dp\n",
    "    \n",
    "    # initialize table for memoization\n",
    "    dp = np.zeros((m+1,n+1),dtype=np.int16)\n",
    "    \n",
    "    # memoization\n",
    "    for i in range(1,m+1):\n",
    "        for j in range(1,n+1):\n",
    "            if s1[i-1:i] == s2[j-1:j]:\n",
    "                dp[i][j] = max(dp[i-1][j-1] + 1, max(dp[i-1][j]-2, dp[i][j-1]-2))\n",
    "            else:\n",
    "                dp[i][j] = max(dp[i-1][j-1] - 2, max(dp[i-1][j]-2, dp[i][j-1]-2))\n",
    "        \n",
    "    # keep track of bit mask\n",
    "    mask1 = np.zeros((m,),dtype=np.byte)\n",
    "    mask2 = np.zeros((n,),dtype=np.byte)\n",
    "    \n",
    "    # search for local alignment\n",
    "    max_local_val = np.NINF\n",
    "    max_local_row = np.nan\n",
    "    max_local_col = np.nan\n",
    "    \n",
    "    for irow in range(1,m+1):\n",
    "        for icol in range(1,n+1):\n",
    "            if dp[irow][icol] > max_local_val:\n",
    "                max_local_val = dp[irow][icol]\n",
    "                max_local_row = irow\n",
    "                max_local_col = icol\n",
    "    assert max_local_val\n",
    "    assert max_local_row \n",
    "    assert max_local_col \n",
    "    \n",
    "    # edge case 0 - alignment length is 0\n",
    "    if max_local_val < 0:\n",
    "        if verbose:\n",
    "            print('No alignment found. Returning empty masks and some negative score.')\n",
    "        return mask1, mask2, max_local_val\n",
    "    \n",
    "    if verbose:\n",
    "        if max_local_col == n:\n",
    "            print('Using semi-global alignment. s1 is reference, s2 is query')\n",
    "        elif max_local_row == m:\n",
    "            print('Using semi-global alignment. s2 is reference, s1 is query')\n",
    "        else:\n",
    "            print(f'Using local alignment. s1 ends at {max_local_row} and s2 ends at {max_local_col}')\n",
    "    \n",
    "    # initialize i and j for backtracing the dp table\n",
    "    i = max_local_row\n",
    "    j = max_local_col\n",
    "    score = 0\n",
    "    \n",
    "    # initialize mask with the starting position\n",
    "    if verbose:\n",
    "        print(f'Assigning 1 at index {i-1} of AF_mask and index {j-1} of jpred_mask.')\n",
    "    mask1[i-1] = 1\n",
    "    mask2[j-1] = 1\n",
    "\n",
    "    # edge case 1 - alignment length is 1\n",
    "    if max_local_row == 1 or max_local_col == 1:\n",
    "        if verbose:\n",
    "            print('Alignment of length 1.')\n",
    "        return mask1, mask2, max_local_val\n",
    "    \n",
    "    # backtrace the dp table\n",
    "    while i != 0:\n",
    "        while j != 0:\n",
    "            curr = dp[i][j]\n",
    "            diag = dp[i-1][j-1] \n",
    "            left = dp[i][j-1] \n",
    "            abov = dp[i-1][j]\n",
    "            score += curr\n",
    "            if diag >= left and diag >= abov:\n",
    "                mask1[i-1] = 1\n",
    "                mask2[j-1] = 1\n",
    "                if max(diag, max(left, abov)) < 0:\n",
    "                    if verbose:\n",
    "                        print(f'Truncating alignment to start at s1[{i}:] and s2[{j}:]. No alignment beyond this position N-terminally.')\n",
    "                    break\n",
    "                i = i - 1\n",
    "                j = j - 1\n",
    "            elif left >= diag and left >= abov:\n",
    "                j = j - 1\n",
    "            elif abov >= left and abov >= diag:\n",
    "                i = i - 1\n",
    "            else:\n",
    "                print(f'unhandled error for {i},{j}')\n",
    "                break\n",
    "        break\n",
    "     \n",
    "    return mask1,mask2,score\n",
    "\n",
    "\n",
    "def align_all(input_df):\n",
    "    \n",
    "    df = pd.DataFrame()\n",
    "\n",
    "    def for_joblib(series):\n",
    "        seqID = series.seqID\n",
    "        AF_sequence = series.AF_sequence\n",
    "        jpred_sequence = series.jpred_sequence\n",
    "        AF_mask,jpred_mask,score = align(AF_sequence,jpred_sequence,debug=True,verbose=False)\n",
    "        return df.append([{'seqID' : seqID, \n",
    "                           'score' : score, \n",
    "                           'AF_sequence' : AF_sequence,\n",
    "                           'AF_mask' : AF_mask, \n",
    "                           'jpred_sequence' : jpred_sequence,\n",
    "                           'jpred_mask' : jpred_mask}])\n",
    "\n",
    "    df_list = Parallel(n_jobs=-1,verbose=1)(\n",
    "        delayed(for_joblib)(row) for _,row in input_df.iterrows()\n",
    "    )\n",
    "    df = pd.concat(df_list, ignore_index=True)\n",
    "    \n",
    "    return df\n",
    "\n",
    "def split(string):\n",
    "    return ['-']+[c for c in string]\n",
    "\n",
    "def compress(seq,mask):\n",
    "    return ''.join([s for s, m in zip(seq,mask) if m])\n",
    "\n",
    "def string(byte_array):\n",
    "    return ''.join(byte_array.astype(str))\n",
    "\n",
    "def pad_jpred(debug=False):\n",
    "    global AF_mask, jpred_mask, AF_sequence, jpred_sequence\n",
    "    i = 0\n",
    "    j = 0\n",
    "    lower = []\n",
    "    while i < len(AF_mask): # and j < len(jpred_align):\n",
    "        \n",
    "        j = min(j, len(jpred_mask)-1)\n",
    "        \n",
    "        if AF_mask[i] and jpred_mask[j]:\n",
    "            lower.append(jpred_sequence[j])\n",
    "            i += 1\n",
    "            j += 1\n",
    "        elif AF_mask[i] and not jpred_mask[j]:\n",
    "            if debug:\n",
    "                # for case 24716\n",
    "                j += 1\n",
    "            else:\n",
    "                lower.append('-')\n",
    "                j += 1\n",
    "        elif not AF_mask[i]:\n",
    "            lower.append('-')\n",
    "            i += 1\n",
    "        else:\n",
    "            print('unhandled error')\n",
    "            break\n",
    "    return lower"
   ]
  },
  {
   "cell_type": "markdown",
   "id": "32fb362f-542c-4ef8-8449-957cea00b80e",
   "metadata": {},
   "source": [
    "## Load data"
   ]
  },
  {
   "cell_type": "code",
   "execution_count": 696,
   "id": "5783127c-d8ef-4bac-8099-8c065236f179",
   "metadata": {},
   "outputs": [
    {
     "name": "stderr",
     "output_type": "stream",
     "text": [
      "[Parallel(n_jobs=-1)]: Using backend LokyBackend with 64 concurrent workers.\n",
      "[Parallel(n_jobs=-1)]: Done  30 out of  78 | elapsed:    0.7s remaining:    1.2s\n",
      "[Parallel(n_jobs=-1)]: Done  78 out of  78 | elapsed:    3.9s finished\n"
     ]
    }
   ],
   "source": [
    "#os.chdir('/cluster/gjb_lab/2472402/.')\n",
    "os.chdir('/YOUR/DIRECTORY/HERE')\n",
    "df = pd.read_csv('summary_table.csv')\n",
    "\n",
    "aligned_df = align_all(df[72:150]) # seqID 24744\n",
    "\n",
    "it = aligned_df.iterrows()"
   ]
  },
  {
   "cell_type": "markdown",
   "id": "a6fdb739-df10-4dc7-a743-eb1feed1ac7d",
   "metadata": {},
   "source": [
    "## Run to generate new sequence"
   ]
  },
  {
   "cell_type": "code",
   "execution_count": 703,
   "id": "46f89462-3f6e-4ed6-babe-f05865d83191",
   "metadata": {},
   "outputs": [
    {
     "name": "stdout",
     "output_type": "stream",
     "text": [
      "24909\n",
      "48849\n",
      "MNIDMAALHAIEVDRGISVNELLETIKSALLTAYRHTQGHQTDARIEIDRKTGVVRVIARETDEAGNLISEWDDTPEGFGRIAATTARQVMLQRFRDAENERTYGEFSTREGEIVAGVIQRDSRANARGLVVVRIGTETKASEGVIPAAEQVPGESYEHGNRLRCYVVGVTRGAREPLITLSRTHPNLVRKLFSLEVPEIADGSVEIVAVAREAGHRSKIAVRSNVAGLNAKGACIGPMGQRVRNVMSELSGEKIDIIDYDDDPARFVANALSPAKVVSVSVIDQTARAARVVVPDFQLSLAIGKEGQNARLAARLTGWRIDIRGDAPPPPPGQPEPGVSRGMAHDR\n",
      "VMNIDMAALHAIEVDRGISVNELLETIKSALLTAYRHTQGHQTDARIEIDRKTGVVRVIARETDEAGNLISEWDDTPEGFGRIAATTARQVMLQRFRDA--------ESTREGEIVAGVIQRDSRANARGLVVVRIGTETKASEGVIPAAEQVPGESYEHGNRLRCYVVGVTRGAREPLITLSRTHPNLVRKLFSLEVPEIADGSVEIVAVAREAGHRSKIAVRSNVAGLNAKGACIGPMGQRVRNVMSELSGEKIDIIDYDDDPARFVANALSPAKVVSVSVIDQTARAARVVVPDFQLSLAIGKEGQNARLAARLTGWRIDIRGDAP-----------------P\n",
      "VSRRHMNIDMAALHAIEVDRGISVNELLETIKSALLTAYRHTQGHQTDARIEIDRKTGVVRVIARETDEAGNLISEWDDTPEGFGRIAATTARQVMLQRFRDAESTREGEIVAGVIQRDSRANARGLVVVRIGTETKASEGVIPAAEQVPGESYEHGNRLRCYVVGVTRGAREPLITLSRTHPNLVRKLFSLEVPEIADGSVEIVAVAREAGHRSKIAVRSNVAGLNAKGACIGPMGQRVRNVMSELSGEKIDIIDYDDDPARFVANALSPAKVVSVSVIDQTARAARVVVPDFQLSLAIGKEGQNARLAARLTGWRIDIRGDAPP\n"
     ]
    }
   ],
   "source": [
    "i, (seqID, score, AF_sequence, AF_mask, jpred_sequence, jpred_mask) = it.__next__()\n",
    "print(seqID)\n",
    "print(score)\n",
    "#print(AF_sequence)\n",
    "#print(string(AF_align))\n",
    "#print(jpred_sequence)\n",
    "#print(string(jpred_align))\n",
    "#print(compress(AF_sequence,AF_align))\n",
    "#print(compress(jpred_sequence,jpred_align))\n",
    "#print(' '*100)\n",
    "print(AF_sequence)\n",
    "print(''.join(pad_jpred(debug=True)))\n",
    "print(jpred_sequence)"
   ]
  },
  {
   "cell_type": "markdown",
   "id": "5952dffc-6acd-4386-ae36-7292a856551e",
   "metadata": {
    "tags": []
   },
   "source": [
    "## Debugging"
   ]
  },
  {
   "cell_type": "code",
   "execution_count": 705,
   "id": "05210612-9d20-405d-b0d8-4189a06a9cfa",
   "metadata": {
    "tags": []
   },
   "outputs": [
    {
     "name": "stdout",
     "output_type": "stream",
     "text": [
      "Using semi-global alignment. s1 is reference, s2 is query\n",
      "Assigning 1 at index 328 of AF_mask and index 325 of jpred_mask.\n",
      "24909\n",
      "Alignment score:  48849\n",
      " \n",
      "11111111111111111111111111111111111111111111111111111111111111111111111111111111111111111111111111100000000111111111111111111111111111111111111111111111111111111111111111111111111111111111111111111111111111111111111111111111111111111111111111111111111111111111111111111111111111111111111111111111111111111111111111111111111111111000000000000000001\n",
      "10000111111111111111111111111111111111111111111111111111111111111111111111111111111111111111111111111111111111111111111111111111111111111111111111111111111111111111111111111111111111111111111111111111111111111111111111111111111111111111111111111111111111111111111111111111111111111111111111111111111111111111111111111111111111\n",
      "MNIDMAALHAIEVDRGISVNELLETIKSALLTAYRHTQGHQTDARIEIDRKTGVVRVIARETDEAGNLISEWDDTPEGFGRIAATTARQVMLQRFRDAENERTYGEFSTREGEIVAGVIQRDSRANARGLVVVRIGTETKASEGVIPAAEQVPGESYEHGNRLRCYVVGVTRGAREPLITLSRTHPNLVRKLFSLEVPEIADGSVEIVAVAREAGHRSKIAVRSNVAGLNAKGACIGPMGQRVRNVMSELSGEKIDIIDYDDDPARFVANALSPAKVVSVSVIDQTARAARVVVPDFQLSLAIGKEGQNARLAARLTGWRIDIRGDAPPPPPGQPEPGVSRGMAHDR\n",
      "VMNIDMAALHAIEVDRGISVNELLETIKSALLTAYRHTQGHQTDARIEIDRKTGVVRVIARETDEAGNLISEWDDTPEGFGRIAATTARQVMLQRFRDA--------ESTREGEIVAGVIQRDSRANARGLVVVRIGTETKASEGVIPAAEQVPGESYEHGNRLRCYVVGVTRGAREPLITLSRTHPNLVRKLFSLEVPEIADGSVEIVAVAREAGHRSKIAVRSNVAGLNAKGACIGPMGQRVRNVMSELSGEKIDIIDYDDDPARFVANALSPAKVVSVSVIDQTARAARVVVPDFQLSLAIGKEGQNARLAARLTGWRIDIRGDAP-----------------P\n",
      "VSRRHMNIDMAALHAIEVDRGISVNELLETIKSALLTAYRHTQGHQTDARIEIDRKTGVVRVIARETDEAGNLISEWDDTPEGFGRIAATTARQVMLQRFRDAESTREGEIVAGVIQRDSRANARGLVVVRIGTETKASEGVIPAAEQVPGESYEHGNRLRCYVVGVTRGAREPLITLSRTHPNLVRKLFSLEVPEIADGSVEIVAVAREAGHRSKIAVRSNVAGLNAKGACIGPMGQRVRNVMSELSGEKIDIIDYDDDPARFVANALSPAKVVSVSVIDQTARAARVVVPDFQLSLAIGKEGQNARLAARLTGWRIDIRGDAPP\n"
     ]
    }
   ],
   "source": [
    "dp = pd.DataFrame()\n",
    "AF_mask, jpred_mask, score = align(AF_sequence,jpred_sequence,debug=True,verbose=True)\n",
    "print(seqID)\n",
    "print('Alignment score: ',score)\n",
    "print(' ')\n",
    "print(string(AF_mask))\n",
    "print(string(jpred_mask))\n",
    "print(AF_sequence)\n",
    "print(''.join(pad_jpred(debug=True)))\n",
    "print(jpred_sequence)\n",
    "dp = pd.DataFrame(dp,index=split(AF_sequence),columns=split(jpred_sequence))"
   ]
  },
  {
   "cell_type": "markdown",
   "id": "ce2bcbb0-326c-4ac6-8ffe-a095733eb86a",
   "metadata": {},
   "source": [
    "TODO: need to model in some sort of gap extension penalty, during the backtracing stage\n",
    "\n",
    "So far, best combination I have found is +1,-2,-2 and -2,-2,-2"
   ]
  }
 ],
 "metadata": {
  "kernelspec": {
   "display_name": "Python [conda env:miniconda-dssp]",
   "language": "python",
   "name": "conda-env-miniconda-dssp-py"
  },
  "language_info": {
   "codemirror_mode": {
    "name": "ipython",
    "version": 3
   },
   "file_extension": ".py",
   "mimetype": "text/x-python",
   "name": "python",
   "nbconvert_exporter": "python",
   "pygments_lexer": "ipython3",
   "version": "3.6.13"
  }
 },
 "nbformat": 4,
 "nbformat_minor": 5
}
