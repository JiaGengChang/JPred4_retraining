{
 "cells": [
  {
   "cell_type": "markdown",
   "id": "c1465995-2760-4f42-981a-9cf7150f435b",
   "metadata": {},
   "source": [
    "## Connect to Jnet SQL database and obtain the 8 state information"
   ]
  },
  {
   "cell_type": "markdown",
   "id": "8be9efd5-5fba-4f75-8709-ed25a6ae305a",
   "metadata": {},
   "source": [
    "Runs in conda env: keras where mysql-connector-python package is installed\n",
    "\n",
    "Code I use is derived from https://dev.mysql.com/doc/connector-python/en/connector-python-example-connecting.html and from jpred training code (trunk/lib/Jpred/jnetDB.pm)"
   ]
  },
  {
   "cell_type": "code",
   "execution_count": 1,
   "id": "f0c30620-f110-4f79-847d-357eb8efb23e",
   "metadata": {},
   "outputs": [],
   "source": [
    "import mysql.connector"
   ]
  },
  {
   "cell_type": "code",
   "execution_count": 2,
   "id": "8aff18b3-283b-4871-895a-3f926fbcee10",
   "metadata": {},
   "outputs": [],
   "source": [
    "cnx = mysql.connector.connect(\n",
    "    host=\"gjb-mysql-1.cluster.lifesci.dundee.ac.uk\",\n",
    "    user=\"jnet-user\",\n",
    "    password=\"T1SVDMwOfzlLZks\",\n",
    "    database='jnet'\n",
    ")\n",
    "query=\"SELECT seq_id,domain,dssp FROM query WHERE seq_id BETWEEN 24695 AND 26201\"\n",
    "statement=bytes(query,'utf-8')\n",
    "stmt=cnx.cmd_stmt_prepare(statement=statement)\n",
    "assert stmt.stmt_execute()"
   ]
  },
  {
   "cell_type": "code",
   "execution_count": 3,
   "id": "ab42153f-f012-4d74-8fae-7d8623734bd3",
   "metadata": {
    "tags": []
   },
   "outputs": [],
   "source": [
    "with open ('/cluster/gjb_lab/2472402/data/1507_sec.csv','w+') as f:\n",
    "    # write header\n",
    "    f.write('seqID,domain,dssp')\n",
    "    while (True):\n",
    "        row=stmt.fetch_row()\n",
    "        if (row==None):\n",
    "            break\n",
    "        else:\n",
    "            f.write(','.join([str(r) for r in row]))\n",
    "            f.write('\\n')\n",
    "\n",
    "cnx.close()"
   ]
  },
  {
   "cell_type": "code",
   "execution_count": 4,
   "id": "677d51a6-5bf5-4561-8544-a69da5b0594d",
   "metadata": {},
   "outputs": [
    {
     "name": "stdout",
     "output_type": "stream",
     "text": [
      "Variable    Type                Data/Info\n",
      "-----------------------------------------\n",
      "cnx         CMySQLConnection    <mysql.connector.connecti<...>object at 0x2b6cc3fc7438>\n",
      "f           TextIOWrapper       <_io.TextIOWrapper name='<...>de='w+' encoding='UTF-8'>\n",
      "mysql       module              <module 'mysql' from '/cl<...>kages/mysql/__init__.py'>\n",
      "query       str                 SELECT seq_id,domain,dssp<...>d BETWEEN 24695 AND 26201\n",
      "row         NoneType            None\n",
      "statement   bytes               b'SELECT seq_id,domain,ds<...> BETWEEN 24695 AND 26201'\n",
      "stmt        MySQLPrepStmt       <_mysql_connector.MySQLPr<...>object at 0x2b6cc30fc4b0>\n"
     ]
    }
   ],
   "source": [
    "%whos"
   ]
  }
 ],
 "metadata": {
  "kernelspec": {
   "display_name": "Python [conda env:miniconda-keras]",
   "language": "python",
   "name": "conda-env-miniconda-keras-py"
  },
  "language_info": {
   "codemirror_mode": {
    "name": "ipython",
    "version": 3
   },
   "file_extension": ".py",
   "mimetype": "text/x-python",
   "name": "python",
   "nbconvert_exporter": "python",
   "pygments_lexer": "ipython3",
   "version": "3.6.12"
  }
 },
 "nbformat": 4,
 "nbformat_minor": 5
}
