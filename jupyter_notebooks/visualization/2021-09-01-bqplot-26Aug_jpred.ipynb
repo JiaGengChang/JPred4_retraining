{
 "cells": [
  {
   "cell_type": "markdown",
   "id": "1cb4a3dd-dde4-4188-98af-63ccd0f1ac1f",
   "metadata": {},
   "source": [
    "# Plot SNNS vs Keras scatterplot"
   ]
  },
  {
   "cell_type": "markdown",
   "id": "6e187dce-8dcc-4ff3-8c82-e9e27e1c3c0c",
   "metadata": {},
   "source": [
    "This compares joint prediction of snns vs joint prediction of keras. Does not look at hmm and pssm"
   ]
  },
  {
   "cell_type": "code",
   "execution_count": 1,
   "id": "fde0d9cd-c1d1-4bf1-8445-089fd3a81b39",
   "metadata": {},
   "outputs": [],
   "source": [
    "import pandas as pd\n",
    "from bqplot import (\n",
    "    LinearScale, Scatter, Lines, Figure, Axis, pyplot as plt\n",
    ")\n",
    "import ipywidgets\n",
    "from IPython.display import display"
   ]
  },
  {
   "cell_type": "code",
   "execution_count": 2,
   "id": "fad58328-d2ba-48ce-8a19-72f0806f58f9",
   "metadata": {},
   "outputs": [],
   "source": [
    "d_path='/cluster/gjb_lab/2472402/data/dssp_dict.csv'\n",
    "seq_dict=dict()\n",
    "with open(d_path,'r') as f:\n",
    "    rows=f.read().splitlines()\n",
    "    while (rows):\n",
    "        row=rows.pop(0)\n",
    "        domain, seqID = row.split(',')\n",
    "        seq_dict[int(seqID)]=domain"
   ]
  },
  {
   "cell_type": "code",
   "execution_count": 3,
   "id": "16d043ff-15f6-431a-802e-a8708ce0ccd4",
   "metadata": {},
   "outputs": [],
   "source": [
    "d_path='/cluster/gjb_lab/2472402/data/1507_sec.csv'\n",
    "seq_dict=dict()\n",
    "with open(d_path,'r') as f:\n",
    "    rows=f.read().splitlines()\n",
    "    while (rows):\n",
    "        row=rows.pop(0)\n",
    "        seqID, domain, sec = row.split(',')\n",
    "        seq_dict[int(seqID)]={'dom':domain,'sec':sec}\n",
    "        "
   ]
  },
  {
   "cell_type": "code",
   "execution_count": 7,
   "id": "b26996a4-3a1d-4ce5-8135-ebcc648f9286",
   "metadata": {},
   "outputs": [],
   "source": [
    "def plot_scatter(i):\n",
    "    \n",
    "    keras_path=\"/cluster/gjb_lab/2472402/results/keras/21Sep/cv%d_scores.csv\" % i # path to accuracy values\n",
    "    snns_path=\"/cluster/gjb_lab/2472402/results/snns/1Oct/cv%d_scores.csv\" % i\n",
    "    snns=pd.read_csv(snns_path)\n",
    "    keras=pd.read_csv(keras_path)\n",
    "    seqIDs=snns.seqID\n",
    "    snns=snns.set_index('seqID')\n",
    "    keras=keras.set_index('seqID')\n",
    "    keras_path_2=\"/cluster/gjb_lab/2472402/results/keras/21Sep/cv%d.knet\" % i # path to dssp and predictions\n",
    "    snns_path_2=\"/cluster/gjb_lab/2472402/results/snns/1Oct/cv%d.knet\" % i\n",
    "    dssp=[]\n",
    "    snns_pred=[]\n",
    "    keras_pred=[]\n",
    "    snns_confs=[]\n",
    "    keras_confs=[]\n",
    "\n",
    "    # accumulate the 3 lists above\n",
    "    with open(keras_path_2) as f:\n",
    "        rows=f.read().splitlines()\n",
    "        while (rows):\n",
    "            row=rows.pop(0)\n",
    "            if (row.startswith('DSSP')):\n",
    "                dssp.append(row[12:])\n",
    "            elif (row.startswith('JNET_pred')):\n",
    "                keras_pred.append(row[12:])\n",
    "            elif (row.startswith('JNET_conf')):\n",
    "                keras_confs.append(row[12:])\n",
    "            else:\n",
    "                continue\n",
    "\n",
    "    with open(snns_path_2) as f:\n",
    "        rows=f.read().splitlines()\n",
    "        while (rows):\n",
    "            row=rows.pop(0)\n",
    "            if (row.startswith('JNET_pred')):\n",
    "                snns_pred.append(row[12:])\n",
    "            elif (row.startswith('JNET_conf')):\n",
    "                snns_confs.append(row[12:])\n",
    "            else:\n",
    "                continue\n",
    "    \n",
    "    # dictionary of things to display in Output widget or whatever display option\n",
    "    dpred=dict()\n",
    "    for (seqID,dssp_str,snns_jpred,keras_jpred,snns_conf,keras_conf) in zip (seqIDs,dssp,snns_pred,keras_pred,snns_confs,keras_confs):\n",
    "        dpred[seqID]={'domain':seq_dict[seqID]['dom'],\n",
    "                      'dssp8_str':seq_dict[seqID]['sec'],\n",
    "                      'dssp3_str':dssp_str,\n",
    "                      'snns_jpred':snns_jpred,\n",
    "                      'snns_conf':snns_conf,\n",
    "                      'keras_jpred':keras_jpred,\n",
    "                      'keras_conf':keras_conf,\n",
    "                     }\n",
    "\n",
    "    x_data=snns.HMM_acc\n",
    "    y_data=keras.HMM_acc\n",
    "\n",
    "    x_sc=LinearScale()\n",
    "    y_sc=LinearScale()\n",
    "\n",
    "    ax_x = Axis(label='SNNS HMM acc', scale=x_sc, tick_format='0.1f')\n",
    "    ax_y = Axis(label='Keras HMM acc', scale=y_sc, orientation='vertical', tick_format='0.1f')\n",
    "\n",
    "    # create Output widget\n",
    "    out=ipywidgets.Output()\n",
    "    \n",
    "    # define function to run when I hover over a mark\n",
    "    def hover_function(_,event):\n",
    "        out.clear_output()\n",
    "        out.layout={'max_width':'95%'}\n",
    "        out.layout={'width':'1500px'}\n",
    "        with out:\n",
    "            seqID=event['data']['name']\n",
    "            val_x=event['data']['x']\n",
    "            val_y=event['data']['y']\n",
    "            domain=dpred[seqID]['domain']\n",
    "            dssp8_str=dpred[seqID]['dssp8_str']\n",
    "            dssp3_str=dpred[seqID]['dssp3_str']\n",
    "            snns_jpred=dpred[seqID]['snns_jpred']\n",
    "            keras_jpred=dpred[seqID]['keras_jpred']\n",
    "            snns_conf=dpred[seqID]['snns_conf']\n",
    "            keras_conf=dpred[seqID]['keras_conf']\n",
    "            \n",
    "            print('%s %s (seqID,SCOPe)' % (seqID,domain))\n",
    "            print('%s %s (snns,keras)' % (val_x,val_y))\n",
    "            print('dssp8:  %s' % dssp8_str)\n",
    "            print('dssp3:  %s' % dssp3_str)\n",
    "            print('snns:   %s' % snns_jpred)\n",
    "            print('conf:   %s' % snns_conf)\n",
    "            print('keras:  %s' % keras_jpred)\n",
    "            print('conf:   %s' % keras_conf)\n",
    "    \n",
    "    scatter=Scatter(x=x_data,\n",
    "                    y=y_data,\n",
    "                    scales={'x': x_sc, 'y': y_sc},\n",
    "                    names=seqIDs,\n",
    "                    display_names=False,\n",
    "                    tooltip=out,\n",
    "                    opacities=[0.5],\n",
    "                    interactions={'click':'select','hover':'tooltip'},\n",
    "                    hovered_style={'opacity':1.0,'fill':'DarkOrange'},\n",
    "                    unhovered_style={'opacity':0.2,},\n",
    "                    selected_style={'opacity':1.0,'fill':'DarkOrange'},\n",
    "                   )\n",
    "\n",
    "    scatter.on_hover(hover_function)\n",
    "    \n",
    "    line=Lines(x=[60,100],y=[60,100],\n",
    "               scales={'x': x_sc, 'y': y_sc},\n",
    "               colors=['White'],\n",
    "               stroke_width=0.5,\n",
    "               line_style='dashed'\n",
    "              )\n",
    "\n",
    "    fig=Figure(title='Cross-validation fold %d accuracies' % i,\n",
    "           marks=[scatter,line],\n",
    "           axes=[ax_x,ax_y],\n",
    "           layout={'height':'900px','width':'900px'},\n",
    "          )\n",
    "    \n",
    "    return fig"
   ]
  },
  {
   "cell_type": "code",
   "execution_count": 8,
   "id": "28f8c368-dcb9-4df9-ae4a-ec72552c1a3f",
   "metadata": {},
   "outputs": [
    {
     "data": {
      "application/vnd.jupyter.widget-view+json": {
       "model_id": "89efdd383b0b4ce0ab2e8354961e073f",
       "version_major": 2,
       "version_minor": 0
      },
      "text/plain": [
       "Figure(axes=[Axis(label='SNNS HMM acc', scale=LinearScale(), tick_format='0.1f'), Axis(label='Keras HMM acc', …"
      ]
     },
     "metadata": {},
     "output_type": "display_data"
    }
   ],
   "source": [
    "CROSS_VAL_FOLD=4\n",
    "fig=plot_scatter(CROSS_VAL_FOLD)\n",
    "display(fig)"
   ]
  },
  {
   "cell_type": "code",
   "execution_count": null,
   "id": "37c84f8f-3d97-4f98-a0c0-8bc388f01a5a",
   "metadata": {},
   "outputs": [],
   "source": []
  }
 ],
 "metadata": {
  "kernelspec": {
   "display_name": "Python 3 (bqplot-env)",
   "language": "python",
   "name": "bqplot-env"
  },
  "language_info": {
   "codemirror_mode": {
    "name": "ipython",
    "version": 3
   },
   "file_extension": ".py",
   "mimetype": "text/x-python",
   "name": "python",
   "nbconvert_exporter": "python",
   "pygments_lexer": "ipython3",
   "version": "3.9.5"
  }
 },
 "nbformat": 4,
 "nbformat_minor": 5
}
