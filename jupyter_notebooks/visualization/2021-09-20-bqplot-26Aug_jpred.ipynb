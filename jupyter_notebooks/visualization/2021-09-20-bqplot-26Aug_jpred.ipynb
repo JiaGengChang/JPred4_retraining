{
 "cells": [
  {
   "cell_type": "markdown",
   "id": "1cb4a3dd-dde4-4188-98af-63ccd0f1ac1f",
   "metadata": {},
   "source": [
    "# Plot SNNS vs Keras scatterplot"
   ]
  },
  {
   "cell_type": "markdown",
   "id": "6e187dce-8dcc-4ff3-8c82-e9e27e1c3c0c",
   "metadata": {},
   "source": [
    "This compares joint prediction of snns vs joint prediction of keras. Does not look at hmm and pssm"
   ]
  },
  {
   "cell_type": "code",
   "execution_count": 1,
   "id": "fde0d9cd-c1d1-4bf1-8445-089fd3a81b39",
   "metadata": {},
   "outputs": [],
   "source": [
    "import os\n",
    "import pandas as pd\n",
    "from bqplot import (\n",
    "    LinearScale, Scatter, Lines, Figure, Axis, pyplot as plt\n",
    ")\n",
    "import ipywidgets\n",
    "from IPython.display import display"
   ]
  },
  {
   "cell_type": "code",
   "execution_count": 2,
   "id": "fad58328-d2ba-48ce-8a19-72f0806f58f9",
   "metadata": {},
   "outputs": [],
   "source": [
    "d_path='/cluster/gjb_lab/2472402/data/dssp_dict.csv'\n",
    "seq_dict=dict()\n",
    "with open(d_path,'r') as f:\n",
    "    rows=f.read().splitlines()\n",
    "    while (rows):\n",
    "        row=rows.pop(0)\n",
    "        domain, seqID = row.split(',')\n",
    "        seq_dict[int(seqID)]=domain"
   ]
  },
  {
   "cell_type": "code",
   "execution_count": 3,
   "id": "16d043ff-15f6-431a-802e-a8708ce0ccd4",
   "metadata": {},
   "outputs": [],
   "source": [
    "d_path='/cluster/gjb_lab/2472402/data/1507_sec.csv'\n",
    "seq_dict=dict()\n",
    "with open(d_path,'r') as f:\n",
    "    rows=f.read().splitlines()\n",
    "    while (rows):\n",
    "        row=rows.pop(0)\n",
    "        seqID, domain, sec = row.split(',')\n",
    "        seq_dict[int(seqID)]={'dom':domain,'sec':sec}\n",
    "        "
   ]
  },
  {
   "cell_type": "code",
   "execution_count": 4,
   "id": "cf2136f8-ad17-4168-b6d6-63e27899f14d",
   "metadata": {},
   "outputs": [],
   "source": [
    "# plot without tooltip\n",
    "\n",
    "def plot_scatter_static(snns_dir, keras_dir):\n",
    "    \n",
    "    def read_scores(scores_dir):\n",
    "        df = []\n",
    "        for i in range(1,8):\n",
    "            df.append(pd.read_csv(os.path.join(scores_dir,\"cv%d_scores.csv\" % i)))\n",
    "        return pd.concat(df,axis=0)\n",
    "    \n",
    "    x_data = read_scores(snns_dir).JNET_acc\n",
    "    y_data = read_scores(keras_dir).JNET_acc\n",
    "    \n",
    "    x_sc=LinearScale()\n",
    "    y_sc=LinearScale()\n",
    "\n",
    "    ax_x = Axis(label='SNNS accuracy', scale=x_sc, tick_format='0.1f')\n",
    "    ax_y = Axis(label='Keras accuracy', scale=y_sc, orientation='vertical', tick_format='0.1f')\n",
    "\n",
    "    scatter=Scatter(x=x_data,\n",
    "                    y=y_data,\n",
    "                    scales={'x': x_sc, 'y': y_sc},\n",
    "                    opacities=[0.5],\n",
    "                    interactions={'click':'select','hover':'tooltip'},\n",
    "                    hovered_style={'opacity':1.0,'fill':'DarkOrange'},\n",
    "                    unhovered_style={'opacity':0.2,},\n",
    "                    selected_style={'opacity':1.0,'fill':'DarkOrange'},\n",
    "                   )\n",
    "\n",
    "    line=Lines(x=[40,100],y=[40,100],\n",
    "               scales={'x': x_sc, 'y': y_sc},\n",
    "               colors=['Blue'],\n",
    "               stroke_width=0.5,\n",
    "               line_style='dashed'\n",
    "              )\n",
    "\n",
    "    fig=Figure(title='Out-of-fold accuracies',\n",
    "           marks=[scatter,line],\n",
    "           axes=[ax_x,ax_y],\n",
    "           layout={'height':'600px','width':'600px'},\n",
    "          )\n",
    "    \n",
    "    return fig    "
   ]
  },
  {
   "cell_type": "code",
   "execution_count": 5,
   "id": "b26996a4-3a1d-4ce5-8135-ebcc648f9286",
   "metadata": {},
   "outputs": [],
   "source": [
    "# this version plots all out-of-fold predictions\n",
    "def plot_scatter(snns_exp_dir, keras_exp_dir):\n",
    "    \n",
    "    dssp=[]\n",
    "    snns_pred=[]\n",
    "    keras_pred=[]\n",
    "    snns_confs=[]\n",
    "    keras_confs=[]\n",
    "    seqIDs=[]\n",
    "    x_data = []\n",
    "    y_data = []\n",
    "    \n",
    "    for i in range(1,8):\n",
    "        \n",
    "        keras_csv = os.path.join(keras_exp_dir,'cv%d_scores.csv' % i)\n",
    "        snns_csv = os.path.join(snns_exp_dir,'cv%d_scores.csv' % i)\n",
    "        \n",
    "        snns=pd.read_csv(snns_csv)\n",
    "        keras=pd.read_csv(keras_csv)\n",
    "        \n",
    "        seqIDs.extend(snns.seqID)\n",
    "        snns=snns.set_index('seqID')\n",
    "        keras=keras.set_index('seqID')\n",
    "        \n",
    "        x_data.append(snns.JNET_acc)\n",
    "        y_data.append(keras.JNET_acc)\n",
    "        \n",
    "        keras_knet = os.path.join(keras_exp_dir,'cv%d.knet' % i)\n",
    "        snns_knet = os.path.join(snns_exp_dir,'cv%d.knet' % i)\n",
    "        \n",
    "        # accumulate the 3 lists above\n",
    "        with open(keras_knet) as f:\n",
    "            rows=f.read().splitlines()\n",
    "            while (rows):\n",
    "                row=rows.pop(0)\n",
    "                if (row.startswith('DSSP')):\n",
    "                    dssp.append(row[12:])\n",
    "                elif (row.startswith('JNET_pred')):\n",
    "                    keras_pred.append(row[12:])\n",
    "                elif (row.startswith('JNET_conf')):\n",
    "                    keras_confs.append(row[12:])\n",
    "                else:\n",
    "                    continue\n",
    "\n",
    "        with open(snns_knet) as f:\n",
    "            rows=f.read().splitlines()\n",
    "            while (rows):\n",
    "                row=rows.pop(0)\n",
    "                if (row.startswith('JNET_pred')):\n",
    "                    snns_pred.append(row[12:])\n",
    "                elif (row.startswith('JNET_conf')):\n",
    "                    snns_confs.append(row[12:])\n",
    "                else:\n",
    "                    continue\n",
    "    \n",
    "    \n",
    "    # dictionary of things to display in Output widget or whatever display option\n",
    "    dpred=dict()\n",
    "    for (seqID,dssp_str,snns_jpred,keras_jpred,snns_conf,keras_conf) in zip (seqIDs,dssp,snns_pred,keras_pred,snns_confs,keras_confs):\n",
    "        dpred[seqID]={'domain':seq_dict[seqID]['dom'],\n",
    "                      'dssp8_str':seq_dict[seqID]['sec'],\n",
    "                      'dssp3_str':dssp_str,\n",
    "                      'snns_jpred':snns_jpred,\n",
    "                      'snns_conf':snns_conf,\n",
    "                      'keras_jpred':keras_jpred,\n",
    "                      'keras_conf':keras_conf,\n",
    "                     }\n",
    "\n",
    "    x_data=pd.concat(x_data)\n",
    "    y_data=pd.concat(y_data)\n",
    "    \n",
    "    x_sc=LinearScale()\n",
    "    y_sc=LinearScale()\n",
    "\n",
    "    ax_x = Axis(label='SNNS accuracy', scale=x_sc, tick_format='0.1f')\n",
    "    ax_y = Axis(label='Keras accuracy', scale=y_sc, orientation='vertical', tick_format='0.1f')\n",
    "\n",
    "    # create Output widget\n",
    "    out=ipywidgets.Output()\n",
    "    \n",
    "    # define function to run when I hover over a mark\n",
    "    def hover_function(_,event):\n",
    "        out.clear_output()\n",
    "        out.layout={'max_width':'95%'}\n",
    "        out.layout={'width':'1000px'}\n",
    "        with out:\n",
    "            seqID=event['data']['name']\n",
    "            val_x=event['data']['x']\n",
    "            val_y=event['data']['y']\n",
    "            domain=dpred[seqID]['domain']\n",
    "            dssp8_str=dpred[seqID]['dssp8_str']\n",
    "            dssp3_str=dpred[seqID]['dssp3_str']\n",
    "            snns_jpred=dpred[seqID]['snns_jpred']\n",
    "            keras_jpred=dpred[seqID]['keras_jpred']\n",
    "            snns_conf=dpred[seqID]['snns_conf']\n",
    "            keras_conf=dpred[seqID]['keras_conf']\n",
    "            \n",
    "            print('%s %s (seqID,SCOPe)' % (seqID,domain))\n",
    "            print('%s %s (snns,keras)' % (val_x,val_y))\n",
    "            print('dssp8:  %s' % dssp8_str)\n",
    "            print('dssp3:  %s' % dssp3_str)\n",
    "            print('snns:   %s' % snns_jpred)\n",
    "            print('conf:   %s' % snns_conf)\n",
    "            print('keras:  %s' % keras_jpred)\n",
    "            print('conf:   %s' % keras_conf)\n",
    "    \n",
    "    scatter=Scatter(x=x_data,\n",
    "                    y=y_data,\n",
    "                    scales={'x': x_sc, 'y': y_sc},\n",
    "                    names=seqIDs,\n",
    "                    display_names=False,\n",
    "                    tooltip=out,\n",
    "                    opacities=[0.5],\n",
    "                    interactions={'click':'select','hover':'tooltip'},\n",
    "                    hovered_style={'opacity':1.0,'fill':'DarkOrange'},\n",
    "                    unhovered_style={'opacity':0.2,},\n",
    "                    selected_style={'opacity':1.0,'fill':'DarkOrange'},\n",
    "                   )\n",
    "\n",
    "    scatter.on_hover(hover_function)\n",
    "    \n",
    "    line=Lines(x=[40,100],y=[40,100],\n",
    "               scales={'x': x_sc, 'y': y_sc},\n",
    "               colors=['Blue'],\n",
    "               stroke_width=0.5,\n",
    "               line_style='dashed'\n",
    "              )\n",
    "\n",
    "    fig=Figure(title='Out-of-fold accuracies',\n",
    "           marks=[scatter,line],\n",
    "           axes=[ax_x,ax_y],\n",
    "           layout={'height':'600px','width':'600px'},\n",
    "          )\n",
    "    \n",
    "    return fig"
   ]
  },
  {
   "cell_type": "code",
   "execution_count": 6,
   "id": "28f8c368-dcb9-4df9-ae4a-ec72552c1a3f",
   "metadata": {},
   "outputs": [
    {
     "data": {
      "application/vnd.jupyter.widget-view+json": {
       "model_id": "460a2dba4552444da14e32661a0ca86a",
       "version_major": 2,
       "version_minor": 0
      },
      "text/plain": [
       "Figure(axes=[Axis(label='SNNS accuracy', scale=LinearScale(), tick_format='0.1f'), Axis(label='Keras accuracy'…"
      ]
     },
     "metadata": {},
     "output_type": "display_data"
    }
   ],
   "source": [
    "snns_exp_dir = '/cluster/gjb_lab/2472402/results/snns/1Oct'\n",
    "keras_exp_dir = '/cluster/gjb_lab/2472402/results/keras/21Sep'\n",
    "fig=plot_scatter(snns_exp_dir, keras_exp_dir)\n",
    "display(fig)"
   ]
  },
  {
   "cell_type": "code",
   "execution_count": 7,
   "id": "bbb90bbd-688b-4047-8deb-8853c1dc2c1d",
   "metadata": {},
   "outputs": [
    {
     "data": {
      "application/vnd.jupyter.widget-view+json": {
       "model_id": "643052e8bc8f41449c74aa68c02de71d",
       "version_major": 2,
       "version_minor": 0
      },
      "text/plain": [
       "Figure(axes=[Axis(label='SNNS accuracy', scale=LinearScale(), tick_format='0.1f'), Axis(label='Keras accuracy'…"
      ]
     },
     "metadata": {},
     "output_type": "display_data"
    }
   ],
   "source": [
    "snns_exp_dir = '/cluster/gjb_lab/2472402/results/snns/26Aug_jpred'\n",
    "keras_exp_dir = '/cluster/gjb_lab/2472402/results/keras/26Aug_jpred'\n",
    "fig=plot_scatter(snns_exp_dir, keras_exp_dir)\n",
    "display(fig)"
   ]
  },
  {
   "cell_type": "code",
   "execution_count": 8,
   "id": "a258c4c4-111a-4aa9-879f-a16351465b35",
   "metadata": {},
   "outputs": [
    {
     "data": {
      "application/vnd.jupyter.widget-view+json": {
       "model_id": "82b07bd0d2bd4abd82c5f96cd0956511",
       "version_major": 2,
       "version_minor": 0
      },
      "text/plain": [
       "Figure(axes=[Axis(label='SNNS accuracy', scale=LinearScale(), tick_format='0.1f'), Axis(label='Keras accuracy'…"
      ]
     },
     "metadata": {},
     "output_type": "display_data"
    }
   ],
   "source": [
    "snns_exp_dir = '/cluster/gjb_lab/2472402/results/snns/22Sep'\n",
    "keras_exp_dir = '/cluster/gjb_lab/2472402/results/keras/21Sep'\n",
    "fig=plot_scatter(snns_exp_dir, keras_exp_dir)\n",
    "display(fig)"
   ]
  },
  {
   "cell_type": "code",
   "execution_count": 9,
   "id": "9db830ce-7187-4fd7-b383-3a07f8a3f8da",
   "metadata": {},
   "outputs": [
    {
     "data": {
      "application/vnd.jupyter.widget-view+json": {
       "model_id": "2be26aeb5922468cb17cd9c0bd20c90f",
       "version_major": 2,
       "version_minor": 0
      },
      "text/plain": [
       "Figure(axes=[Axis(label='SNNS accuracy', scale=LinearScale(), tick_format='0.1f'), Axis(label='Keras accuracy'…"
      ]
     },
     "metadata": {},
     "output_type": "display_data"
    }
   ],
   "source": [
    "snns_exp_dir = '/cluster/gjb_lab/2472402/results/snns/24Sep'\n",
    "keras_exp_dir = '/cluster/gjb_lab/2472402/results/keras/21Sep'\n",
    "fig=plot_scatter(snns_exp_dir, keras_exp_dir)\n",
    "display(fig)"
   ]
  },
  {
   "cell_type": "code",
   "execution_count": null,
   "id": "6a9e9147-b254-432f-8424-3f2ee669bfaa",
   "metadata": {},
   "outputs": [],
   "source": []
  }
 ],
 "metadata": {
  "kernelspec": {
   "display_name": "Python 3 (bqplot-env)",
   "language": "python",
   "name": "bqplot-env"
  },
  "language_info": {
   "codemirror_mode": {
    "name": "ipython",
    "version": 3
   },
   "file_extension": ".py",
   "mimetype": "text/x-python",
   "name": "python",
   "nbconvert_exporter": "python",
   "pygments_lexer": "ipython3",
   "version": "3.9.5"
  }
 },
 "nbformat": 4,
 "nbformat_minor": 5
}
