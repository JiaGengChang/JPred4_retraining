{
 "cells": [
  {
   "cell_type": "markdown",
   "id": "1cb4a3dd-dde4-4188-98af-63ccd0f1ac1f",
   "metadata": {},
   "source": [
    "# Plot SNNS vs Keras scatterplot"
   ]
  },
  {
   "cell_type": "code",
   "execution_count": 14,
   "id": "fde0d9cd-c1d1-4bf1-8445-089fd3a81b39",
   "metadata": {},
   "outputs": [],
   "source": [
    "import pandas as pd\n",
    "from bqplot import (\n",
    "    LinearScale, Scatter, Lines, Figure, Axis, pyplot as plt\n",
    ")\n",
    "from ipywidgets import Output, Layout\n",
    "from IPython.display import display"
   ]
  },
  {
   "cell_type": "code",
   "execution_count": 2,
   "id": "fad58328-d2ba-48ce-8a19-72f0806f58f9",
   "metadata": {},
   "outputs": [],
   "source": [
    "d_path='/cluster/gjb_lab/2472402/data/dssp_dict.csv'\n",
    "seq_dict=dict()\n",
    "with open(d_path,'r') as f:\n",
    "    rows=f.read().splitlines()\n",
    "    while (rows):\n",
    "        row=rows.pop(0)\n",
    "        domain, seqID = row.split(',')\n",
    "        seq_dict[int(seqID)]=domain"
   ]
  },
  {
   "cell_type": "code",
   "execution_count": 33,
   "id": "b26996a4-3a1d-4ce5-8135-ebcc648f9286",
   "metadata": {},
   "outputs": [],
   "source": [
    "def plot_scatter(i):\n",
    "    keras_path=\"/cluster/gjb_lab/2472402/results/keras/25Aug/cv%d_scores.csv\" % i\n",
    "    snns_path=\"/cluster/gjb_lab/2472402/results/snns/25Aug/cv%d_scores.csv\" % i\n",
    "    snns=pd.read_csv(snns_path)\n",
    "    keras=pd.read_csv(keras_path)\n",
    "    seqIDs=snns.seqID\n",
    "    snns=snns.set_index('seqID')\n",
    "    keras=keras.set_index('seqID')\n",
    "    keras_path_2=\"/cluster/gjb_lab/2472402/results/keras/25Aug/cv%d.knet\" % i\n",
    "    snns_path_2=\"/cluster/gjb_lab/2472402/results/snns/25Aug/cv%d.knet\" % i\n",
    "    dssp=[]\n",
    "    snns_pred=[]\n",
    "    keras_pred=[]\n",
    "\n",
    "    # accumulate the 3 lists above\n",
    "    with open(keras_path_2) as f:\n",
    "        rows=f.read().splitlines()\n",
    "        while (rows):\n",
    "            row=rows.pop(0)\n",
    "            if (row.startswith('DSSP')):\n",
    "                dssp.append(row[11:])\n",
    "            elif (row.startswith('HMM_pred')):\n",
    "                keras_pred.append(row[11:])\n",
    "            else:\n",
    "                continue\n",
    "\n",
    "    with open(snns_path_2) as f:\n",
    "        rows=f.read().splitlines()\n",
    "        while (rows):\n",
    "            row=rows.pop(0)\n",
    "            if (row.startswith('HMM_pred')):\n",
    "                snns_pred.append(row[11:])\n",
    "            else:\n",
    "                continue\n",
    "\n",
    "    dpred=dict()\n",
    "    for (j,d,s,k) in zip (seqIDs,dssp,snns_pred,keras_pred):\n",
    "        dpred[j]={'domain':seq_dict[j],'dssp_str':d,'snns_str':s,'keras_str':k}\n",
    "\n",
    "    x_data=snns.HMM_acc\n",
    "    y_data=keras.HMM_acc\n",
    "\n",
    "    x_sc=LinearScale()\n",
    "    y_sc=LinearScale()\n",
    "\n",
    "    ax_x = Axis(label='SNNS HMM acc', scale=x_sc, tick_format='0.1f')\n",
    "    ax_y = Axis(label='Keras HMM acc', scale=y_sc, orientation='vertical', tick_format='0.1f')\n",
    "\n",
    "    # create Output widget\n",
    "    out=Output()\n",
    "    out.layout={'max_width':'95%'}\n",
    "\n",
    "    # define function to run when I hover over a mark\n",
    "    def def_tt(_,event):\n",
    "        out.clear_output()\n",
    "        with out:\n",
    "            seqID=event['data']['name']\n",
    "            val_x=event['data']['x']\n",
    "            val_y=event['data']['y']\n",
    "            domain=dpred[seqID]['domain']\n",
    "            dssp_str=dpred[seqID]['dssp_str']\n",
    "            snns_str=dpred[seqID]['snns_str']\n",
    "            keras_str=dpred[seqID]['keras_str']\n",
    "            print('seqID:  %s' % seqID)\n",
    "            print('SCOPe:  %s' % domain)\n",
    "            print('snns:   %s' % val_x)\n",
    "            print('keras:  %s' % val_y)\n",
    "            print('dssp:   %s' % dssp_str)\n",
    "            print('snns:   %s' % snns_str)\n",
    "            print('keras:  %s' % keras_str)\n",
    "\n",
    "    scatter=Scatter(x=x_data,\n",
    "                    y=y_data,\n",
    "                    scales={'x': x_sc, 'y': y_sc},\n",
    "                    names=seqIDs,\n",
    "                    display_names=False,\n",
    "                    tooltip=out,\n",
    "                    opacities=[0.5],\n",
    "                    hovered_style={'opacity':1.0,'fill':'DarkOrange'},\n",
    "                    unhovered_style={'opacity':0.2,},\n",
    "                   )\n",
    "\n",
    "    scatter.on_hover(def_tt)\n",
    "\n",
    "    line=Lines(x=[60,100],y=[60,100],\n",
    "               scales={'x': x_sc, 'y': y_sc},\n",
    "               colors=['White'],\n",
    "               stroke_width=0.5,\n",
    "               line_style='dashed'\n",
    "              )\n",
    "\n",
    "    fig=Figure(title='Cross-validation fold %d accuracies' % i,\n",
    "           marks=[scatter,line],\n",
    "           axes=[ax_x,ax_y],\n",
    "           layout={'height':'900px','width':'900px'},\n",
    "          )\n",
    "    \n",
    "    display(fig)"
   ]
  },
  {
   "cell_type": "code",
   "execution_count": 37,
   "id": "28f8c368-dcb9-4df9-ae4a-ec72552c1a3f",
   "metadata": {},
   "outputs": [
    {
     "data": {
      "application/vnd.jupyter.widget-view+json": {
       "model_id": "aa907004499144dbbe8706716b3911e0",
       "version_major": 2,
       "version_minor": 0
      },
      "text/plain": [
       "Figure(axes=[Axis(label='SNNS HMM acc', scale=LinearScale(), tick_format='0.1f'), Axis(label='Keras HMM acc', …"
      ]
     },
     "metadata": {},
     "output_type": "display_data"
    }
   ],
   "source": [
    "CROSS_VAL_FOLD=2\n",
    "plot_scatter(CROSS_VAL_FOLD)"
   ]
  }
 ],
 "metadata": {
  "kernelspec": {
   "display_name": "Python 3 (bqplot-env)",
   "language": "python",
   "name": "bqplot-env"
  },
  "language_info": {
   "codemirror_mode": {
    "name": "ipython",
    "version": 3
   },
   "file_extension": ".py",
   "mimetype": "text/x-python",
   "name": "python",
   "nbconvert_exporter": "python",
   "pygments_lexer": "ipython3",
   "version": "3.9.5"
  }
 },
 "nbformat": 4,
 "nbformat_minor": 5
}
