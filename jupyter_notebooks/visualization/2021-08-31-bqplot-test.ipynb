{
 "cells": [
  {
   "cell_type": "markdown",
   "id": "d939335b-f362-4fca-a09f-f3a2fb937ac8",
   "metadata": {
    "tags": []
   },
   "source": [
    "# Plotting using bqplot"
   ]
  },
  {
   "cell_type": "markdown",
   "id": "1640aa3b-b585-4984-8cb5-44825da9980b",
   "metadata": {},
   "source": [
    "Works only when you install jupyterlab in the same environment as you install bqplot, and launch a notebook from this environment\n",
    "\n",
    "Otherwise, it gives an error along the lines of 'model not found', or returns the location of the plot object with\n",
    "\n",
    "Run these commands:\n",
    "\n",
    "source envs/bqplot-env/bin/activate\n",
    "\n",
    "jupyter lab --no-browser --ip=$(hostname --fqdn)"
   ]
  },
  {
   "cell_type": "code",
   "execution_count": 1,
   "id": "4aa45ceb-001c-4ff7-b1d9-8cd55d8cc01c",
   "metadata": {},
   "outputs": [],
   "source": [
    "import numpy as np\n",
    "from bqplot import pyplot as plt"
   ]
  },
  {
   "cell_type": "code",
   "execution_count": 2,
   "id": "55bda571-9edf-4799-bc31-20c10ad421c7",
   "metadata": {
    "tags": []
   },
   "outputs": [
    {
     "data": {
      "application/vnd.jupyter.widget-view+json": {
       "model_id": "f78bbc58d92f4bd7bbfbba2a3f3bf7ab",
       "version_major": 2,
       "version_minor": 0
      },
      "text/plain": [
       "VBox(children=(Figure(axes=[Axis(scale=LinearScale()), Axis(orientation='vertical', scale=LinearScale())], fig…"
      ]
     },
     "metadata": {},
     "output_type": "display_data"
    }
   ],
   "source": [
    "plt.figure(1, title='Line Chart')\n",
    "np.random.seed(0)\n",
    "n = 200\n",
    "x = np.linspace(0.0, 10.0, n)\n",
    "y = np.cumsum(np.random.randn(n))\n",
    "plt.plot(x, y)\n",
    "plt.show()"
   ]
  },
  {
   "cell_type": "code",
   "execution_count": 1,
   "id": "075c1f77-cca9-4dab-8e91-817b93df4235",
   "metadata": {},
   "outputs": [],
   "source": [
    "import numpy as np\n",
    "from bqplot import (\n",
    "    OrdinalScale, LinearScale, Bars, Lines, Axis, Figure\n",
    ")"
   ]
  },
  {
   "cell_type": "code",
   "execution_count": 2,
   "id": "209ca3d9-89eb-4251-a28f-87f764638928",
   "metadata": {},
   "outputs": [
    {
     "data": {
      "application/vnd.jupyter.widget-view+json": {
       "model_id": "65c9a314b89145cbb28854e88c47613e",
       "version_major": 2,
       "version_minor": 0
      },
      "text/plain": [
       "Figure(axes=[Axis(label='X', scale=OrdinalScale()), Axis(label='Y', orientation='vertical', scale=LinearScale(…"
      ]
     },
     "metadata": {},
     "output_type": "display_data"
    }
   ],
   "source": [
    "size = 20\n",
    "np.random.seed(0)\n",
    "\n",
    "x_data = np.arange(size)\n",
    "\n",
    "x_ord = OrdinalScale()\n",
    "y_sc = LinearScale()\n",
    "\n",
    "bar = Bars(x=x_data, y=np.random.randn(2, size), scales={'x': x_ord, 'y':\n",
    "y_sc}, type='stacked')\n",
    "line = Lines(x=x_data, y=np.random.randn(size), scales={'x': x_ord, 'y': y_sc},\n",
    "             stroke_width=3, colors=['red'], display_legend=True, labels=['Line chart'])\n",
    "\n",
    "ax_x = Axis(scale=x_ord, grid_lines='solid', label='X')\n",
    "ax_y = Axis(scale=y_sc, orientation='vertical', tick_format='0.2f',\n",
    "            grid_lines='solid', label='Y')\n",
    "\n",
    "Figure(marks=[bar, line], axes=[ax_x, ax_y], title='API Example',\n",
    "       legend_location='bottom-right')"
   ]
  },
  {
   "cell_type": "code",
   "execution_count": 3,
   "id": "083567ea-6f46-46e9-ab8a-343a363e16cc",
   "metadata": {},
   "outputs": [
    {
     "data": {
      "application/vnd.jupyter.widget-view+json": {
       "model_id": "c7c81135163240a693e27b88ebf32b1c",
       "version_major": 2,
       "version_minor": 0
      },
      "text/plain": [
       "Figure(axes=[Axis(label='Test X', scale=LinearScale(), tick_format='0.0f'), Axis(label='Test Y', orientation='…"
      ]
     },
     "metadata": {},
     "output_type": "display_data"
    }
   ],
   "source": [
    "from bqplot import *\n",
    "from IPython.display import display\n",
    "\n",
    "x_data = range(10)\n",
    "y_data = [i ** 2 for i in x_data]\n",
    "\n",
    "x_sc = LinearScale()\n",
    "y_sc = LinearScale()\n",
    "\n",
    "ax_x = Axis(label='Test X', scale=x_sc, tick_format='0.0f')\n",
    "ax_y = Axis(label='Test Y', scale=y_sc,\n",
    "            orientation='vertical', tick_format='0.2f')\n",
    "\n",
    "line = Lines(x=x_data,\n",
    "             y=y_data,\n",
    "             scales={'x': x_sc, 'y': y_sc},\n",
    "             colors=['red', 'yellow'])\n",
    "\n",
    "fig = Figure(axes=[ax_x, ax_y], marks=[line])\n",
    "\n",
    "display(fig)\n"
   ]
  },
  {
   "cell_type": "markdown",
   "id": "1cb4a3dd-dde4-4188-98af-63ccd0f1ac1f",
   "metadata": {},
   "source": [
    "# Plot SNNS vs Keras scatterplot"
   ]
  },
  {
   "cell_type": "code",
   "execution_count": 1,
   "id": "fde0d9cd-c1d1-4bf1-8445-089fd3a81b39",
   "metadata": {},
   "outputs": [],
   "source": [
    "import pandas as pd\n",
    "from bqplot import (\n",
    "    LinearScale, Scatter, Lines, Figure, Axis, pyplot as plt,\n",
    ")\n",
    "from ipywidgets import Output"
   ]
  },
  {
   "cell_type": "code",
   "execution_count": 5,
   "id": "83975501-d543-4aec-bc87-2f64cb669f26",
   "metadata": {},
   "outputs": [],
   "source": [
    "d_path='/cluster/gjb_lab/2472402/data/dssp_dict.csv'\n",
    "seq_dict=dict()\n",
    "with open(d_path,'r') as f:\n",
    "    rows=f.read().splitlines()\n",
    "    while (rows):\n",
    "        row=rows.pop(0)\n",
    "        domain, seqID = row.split(',')\n",
    "        seq_dict[int(seqID)]=domain"
   ]
  },
  {
   "cell_type": "code",
   "execution_count": 2,
   "id": "f01e9c2c-7810-4e1e-9519-a4459db1c724",
   "metadata": {},
   "outputs": [],
   "source": [
    "i=1"
   ]
  },
  {
   "cell_type": "code",
   "execution_count": 3,
   "id": "b26996a4-3a1d-4ce5-8135-ebcc648f9286",
   "metadata": {},
   "outputs": [],
   "source": [
    "keras_path=\"/cluster/gjb_lab/2472402/results/keras/25Aug/cv%d_scores.csv\" % i\n",
    "snns_path=\"/cluster/gjb_lab/2472402/results/snns/25Aug/cv%d_scores.csv\" % i\n",
    "snns=pd.read_csv(snns_path)\n",
    "keras=pd.read_csv(keras_path)\n",
    "seqIDs=snns.seqID\n",
    "snns=snns.set_index('seqID')\n",
    "keras=keras.set_index('seqID')"
   ]
  },
  {
   "cell_type": "code",
   "execution_count": 4,
   "id": "eb0a137c-ed9b-4653-a4b2-ecd0bf921b6c",
   "metadata": {},
   "outputs": [],
   "source": [
    "keras_path_2=\"/cluster/gjb_lab/2472402/results/keras/25Aug/cv%d.knet\" % i\n",
    "snns_path_2=\"/cluster/gjb_lab/2472402/results/snns/25Aug/cv%d.knet\" % i\n",
    "dssp=[]\n",
    "snns_pred=[]\n",
    "keras_pred=[]\n",
    "\n",
    "# accumulate the 3 lists above\n",
    "with open(keras_path_2) as f:\n",
    "    rows=f.read().splitlines()\n",
    "    while (rows):\n",
    "        row=rows.pop(0)\n",
    "        if (row.startswith('DSSP')):\n",
    "            dssp.append(row[11:])\n",
    "        elif (row.startswith('HMM_pred')):\n",
    "            keras_pred.append(row[11:])\n",
    "        else:\n",
    "            continue\n",
    "\n",
    "with open(snns_path_2) as f:\n",
    "    rows=f.read().splitlines()\n",
    "    while (rows):\n",
    "        row=rows.pop(0)\n",
    "        if (row.startswith('HMM_pred')):\n",
    "            snns_pred.append(row[11:])\n",
    "        else:\n",
    "            continue"
   ]
  },
  {
   "cell_type": "code",
   "execution_count": 10,
   "id": "09e6d58d-e70c-43a7-bd00-0068a2c880bc",
   "metadata": {},
   "outputs": [],
   "source": [
    "dpred=dict()\n",
    "for (j,d,s,k) in zip (seqIDs,dssp,snns_pred,keras_pred):\n",
    "    dpred[j]={'domain':seq_dict[j],'dssp_str':d,'snns_str':s,'keras_str':k}"
   ]
  },
  {
   "cell_type": "code",
   "execution_count": 9,
   "id": "84d69315-52dd-466d-a1c1-7e485126d9cf",
   "metadata": {
    "tags": []
   },
   "outputs": [
    {
     "data": {
      "application/vnd.jupyter.widget-view+json": {
       "model_id": "c5a17e2b8ac0489c83c36709602de4c2",
       "version_major": 2,
       "version_minor": 0
      },
      "text/plain": [
       "Figure(axes=[Axis(label='SNNS HMM acc', scale=LinearScale(), tick_format='0.1f'), Axis(label='Keras HMM acc', …"
      ]
     },
     "metadata": {},
     "output_type": "display_data"
    }
   ],
   "source": [
    "x_data=snns.HMM_acc\n",
    "y_data=keras.HMM_acc\n",
    "\n",
    "x_sc=LinearScale()\n",
    "y_sc=LinearScale()\n",
    "\n",
    "ax_x = Axis(label='SNNS HMM acc', scale=x_sc, tick_format='0.1f')\n",
    "ax_y = Axis(label='Keras HMM acc', scale=y_sc, orientation='vertical', tick_format='0.1f')\n",
    "\n",
    "# create Output widget\n",
    "out=Output() \n",
    "\n",
    "# define function to run when I hover over a mark\n",
    "def def_tt(_,event):\n",
    "    out.clear_output()\n",
    "    with out:\n",
    "        seqID=event['data']['name']\n",
    "        val_x=event['data']['x']\n",
    "        val_y=event['data']['y']\n",
    "        domain=dpred[seqID]['domain']\n",
    "        dssp_str=dpred[seqID]['dssp_str']\n",
    "        snns_str=dpred[seqID]['snns_str']\n",
    "        keras_str=dpred[seqID]['keras_str']\n",
    "        print('seqID:  %s' % seqID)\n",
    "        print('SCOPe:  %s' % domain)\n",
    "        print('snns:   %s' % val_x)\n",
    "        print('keras:  %s' % val_y)\n",
    "        print('dssp:   %s' % dssp_str)\n",
    "        print('snns:   %s' % snns_str)\n",
    "        print('keras:  %s' % keras_str)\n",
    "\n",
    "scatter=Scatter(x=x_data,\n",
    "                y=y_data,\n",
    "                scales={'x': x_sc, 'y': y_sc},\n",
    "                names=seqIDs,\n",
    "                display_names=False,\n",
    "                tooltip=out,\n",
    "                opacities=[0.5],\n",
    "                hovered_style={'opacity':1.0,'fill':'DarkOrange'},\n",
    "                unhovered_style={'opacity':0.2,},\n",
    "               )\n",
    "\n",
    "scatter.on_hover(def_tt)\n",
    "\n",
    "line=Lines(x=[60,100],y=[60,100],\n",
    "           scales={'x': x_sc, 'y': y_sc},\n",
    "           colors=['White'],\n",
    "           stroke_width=0.5,\n",
    "           line_style='dashed'\n",
    "          )\n",
    "\n",
    "Figure(title='Cross-validation fold %d accuracies' % i,\n",
    "       marks=[scatter,line],\n",
    "       axes=[ax_x,ax_y],\n",
    "       layout={'height':'900px','width':'900px'},\n",
    "      )"
   ]
  }
 ],
 "metadata": {
  "kernelspec": {
   "display_name": "Python 3 (bqplot-env)",
   "language": "python",
   "name": "bqplot-env"
  },
  "language_info": {
   "codemirror_mode": {
    "name": "ipython",
    "version": 3
   },
   "file_extension": ".py",
   "mimetype": "text/x-python",
   "name": "python",
   "nbconvert_exporter": "python",
   "pygments_lexer": "ipython3",
   "version": "3.9.5"
  }
 },
 "nbformat": 4,
 "nbformat_minor": 5
}
